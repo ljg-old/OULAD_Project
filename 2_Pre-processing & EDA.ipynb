{
 "cells": [
  {
   "cell_type": "markdown",
   "metadata": {},
   "source": [
    "## 1. Import basic libraries"
   ]
  },
  {
   "cell_type": "code",
   "execution_count": 2,
   "metadata": {},
   "outputs": [],
   "source": [
    "import pandas as pd\n",
    "import pandas_profiling\n",
    "import numpy as np\n",
    "import matplotlib.pyplot as plt\n",
    "%matplotlib inline\n",
    "import seaborn as sns\n",
    "import matplotlib.ticker as mtick"
   ]
  },
  {
   "cell_type": "markdown",
   "metadata": {},
   "source": [
    "## 2. Read final.csv"
   ]
  },
  {
   "cell_type": "code",
   "execution_count": 3,
   "metadata": {},
   "outputs": [],
   "source": [
    "data = pd.read_csv('Data/final.csv')"
   ]
  },
  {
   "cell_type": "markdown",
   "metadata": {},
   "source": [
    "## 3. And now let's carefully analyse the dataframe and its variables to check if we want to keep all of them and if we need to tidy any of them."
   ]
  },
  {
   "cell_type": "code",
   "execution_count": 4,
   "metadata": {},
   "outputs": [
    {
     "data": {
      "text/html": [
       "<div>\n",
       "<style scoped>\n",
       "    .dataframe tbody tr th:only-of-type {\n",
       "        vertical-align: middle;\n",
       "    }\n",
       "\n",
       "    .dataframe tbody tr th {\n",
       "        vertical-align: top;\n",
       "    }\n",
       "\n",
       "    .dataframe thead th {\n",
       "        text-align: right;\n",
       "    }\n",
       "</style>\n",
       "<table border=\"1\" class=\"dataframe\">\n",
       "  <thead>\n",
       "    <tr style=\"text-align: right;\">\n",
       "      <th></th>\n",
       "      <th>id_assessment</th>\n",
       "      <th>id_student</th>\n",
       "      <th>date_submitted</th>\n",
       "      <th>is_banked</th>\n",
       "      <th>score</th>\n",
       "      <th>code_module</th>\n",
       "      <th>code_presentation</th>\n",
       "      <th>gender</th>\n",
       "      <th>region</th>\n",
       "      <th>highest_education</th>\n",
       "      <th>imd_band</th>\n",
       "      <th>age_band</th>\n",
       "      <th>num_of_prev_attempts</th>\n",
       "      <th>studied_credits</th>\n",
       "      <th>disability</th>\n",
       "      <th>final_result</th>\n",
       "      <th>module_presentation_length</th>\n",
       "    </tr>\n",
       "  </thead>\n",
       "  <tbody>\n",
       "    <tr>\n",
       "      <th>0</th>\n",
       "      <td>1752</td>\n",
       "      <td>11391</td>\n",
       "      <td>18</td>\n",
       "      <td>0</td>\n",
       "      <td>78.0</td>\n",
       "      <td>AAA</td>\n",
       "      <td>2013J</td>\n",
       "      <td>M</td>\n",
       "      <td>East Anglian Region</td>\n",
       "      <td>HE Qualification</td>\n",
       "      <td>90-100%</td>\n",
       "      <td>55&lt;=</td>\n",
       "      <td>0</td>\n",
       "      <td>240</td>\n",
       "      <td>N</td>\n",
       "      <td>Pass</td>\n",
       "      <td>268</td>\n",
       "    </tr>\n",
       "    <tr>\n",
       "      <th>1</th>\n",
       "      <td>1753</td>\n",
       "      <td>11391</td>\n",
       "      <td>53</td>\n",
       "      <td>0</td>\n",
       "      <td>85.0</td>\n",
       "      <td>AAA</td>\n",
       "      <td>2013J</td>\n",
       "      <td>M</td>\n",
       "      <td>East Anglian Region</td>\n",
       "      <td>HE Qualification</td>\n",
       "      <td>90-100%</td>\n",
       "      <td>55&lt;=</td>\n",
       "      <td>0</td>\n",
       "      <td>240</td>\n",
       "      <td>N</td>\n",
       "      <td>Pass</td>\n",
       "      <td>268</td>\n",
       "    </tr>\n",
       "    <tr>\n",
       "      <th>2</th>\n",
       "      <td>1754</td>\n",
       "      <td>11391</td>\n",
       "      <td>115</td>\n",
       "      <td>0</td>\n",
       "      <td>80.0</td>\n",
       "      <td>AAA</td>\n",
       "      <td>2013J</td>\n",
       "      <td>M</td>\n",
       "      <td>East Anglian Region</td>\n",
       "      <td>HE Qualification</td>\n",
       "      <td>90-100%</td>\n",
       "      <td>55&lt;=</td>\n",
       "      <td>0</td>\n",
       "      <td>240</td>\n",
       "      <td>N</td>\n",
       "      <td>Pass</td>\n",
       "      <td>268</td>\n",
       "    </tr>\n",
       "  </tbody>\n",
       "</table>\n",
       "</div>"
      ],
      "text/plain": [
       "   id_assessment  id_student  date_submitted  is_banked  score code_module  \\\n",
       "0           1752       11391              18          0   78.0         AAA   \n",
       "1           1753       11391              53          0   85.0         AAA   \n",
       "2           1754       11391             115          0   80.0         AAA   \n",
       "\n",
       "  code_presentation gender               region highest_education imd_band  \\\n",
       "0             2013J      M  East Anglian Region  HE Qualification  90-100%   \n",
       "1             2013J      M  East Anglian Region  HE Qualification  90-100%   \n",
       "2             2013J      M  East Anglian Region  HE Qualification  90-100%   \n",
       "\n",
       "  age_band  num_of_prev_attempts  studied_credits disability final_result  \\\n",
       "0     55<=                     0              240          N         Pass   \n",
       "1     55<=                     0              240          N         Pass   \n",
       "2     55<=                     0              240          N         Pass   \n",
       "\n",
       "   module_presentation_length  \n",
       "0                         268  \n",
       "1                         268  \n",
       "2                         268  "
      ]
     },
     "execution_count": 4,
     "metadata": {},
     "output_type": "execute_result"
    }
   ],
   "source": [
    "data.head(3)"
   ]
  },
  {
   "cell_type": "code",
   "execution_count": 5,
   "metadata": {},
   "outputs": [
    {
     "data": {
      "text/html": [
       "<div>\n",
       "<style scoped>\n",
       "    .dataframe tbody tr th:only-of-type {\n",
       "        vertical-align: middle;\n",
       "    }\n",
       "\n",
       "    .dataframe tbody tr th {\n",
       "        vertical-align: top;\n",
       "    }\n",
       "\n",
       "    .dataframe thead th {\n",
       "        text-align: right;\n",
       "    }\n",
       "</style>\n",
       "<table border=\"1\" class=\"dataframe\">\n",
       "  <thead>\n",
       "    <tr style=\"text-align: right;\">\n",
       "      <th></th>\n",
       "      <th>id_assessment</th>\n",
       "      <th>id_student</th>\n",
       "      <th>date_submitted</th>\n",
       "      <th>is_banked</th>\n",
       "      <th>score</th>\n",
       "      <th>code_module</th>\n",
       "      <th>code_presentation</th>\n",
       "      <th>gender</th>\n",
       "      <th>region</th>\n",
       "      <th>highest_education</th>\n",
       "      <th>imd_band</th>\n",
       "      <th>age_band</th>\n",
       "      <th>num_of_prev_attempts</th>\n",
       "      <th>studied_credits</th>\n",
       "      <th>disability</th>\n",
       "      <th>final_result</th>\n",
       "      <th>module_presentation_length</th>\n",
       "    </tr>\n",
       "  </thead>\n",
       "  <tbody>\n",
       "    <tr>\n",
       "      <th>207316</th>\n",
       "      <td>37441</td>\n",
       "      <td>573320</td>\n",
       "      <td>227</td>\n",
       "      <td>0</td>\n",
       "      <td>100.0</td>\n",
       "      <td>GGG</td>\n",
       "      <td>2014J</td>\n",
       "      <td>F</td>\n",
       "      <td>South East Region</td>\n",
       "      <td>Lower Than A Level</td>\n",
       "      <td>80-90%</td>\n",
       "      <td>35-55</td>\n",
       "      <td>0</td>\n",
       "      <td>30</td>\n",
       "      <td>N</td>\n",
       "      <td>Fail</td>\n",
       "      <td>269</td>\n",
       "    </tr>\n",
       "    <tr>\n",
       "      <th>207317</th>\n",
       "      <td>37442</td>\n",
       "      <td>573320</td>\n",
       "      <td>227</td>\n",
       "      <td>0</td>\n",
       "      <td>20.0</td>\n",
       "      <td>GGG</td>\n",
       "      <td>2014J</td>\n",
       "      <td>F</td>\n",
       "      <td>South East Region</td>\n",
       "      <td>Lower Than A Level</td>\n",
       "      <td>80-90%</td>\n",
       "      <td>35-55</td>\n",
       "      <td>0</td>\n",
       "      <td>30</td>\n",
       "      <td>N</td>\n",
       "      <td>Fail</td>\n",
       "      <td>269</td>\n",
       "    </tr>\n",
       "    <tr>\n",
       "      <th>207318</th>\n",
       "      <td>37443</td>\n",
       "      <td>573320</td>\n",
       "      <td>227</td>\n",
       "      <td>0</td>\n",
       "      <td>40.0</td>\n",
       "      <td>GGG</td>\n",
       "      <td>2014J</td>\n",
       "      <td>F</td>\n",
       "      <td>South East Region</td>\n",
       "      <td>Lower Than A Level</td>\n",
       "      <td>80-90%</td>\n",
       "      <td>35-55</td>\n",
       "      <td>0</td>\n",
       "      <td>30</td>\n",
       "      <td>N</td>\n",
       "      <td>Fail</td>\n",
       "      <td>269</td>\n",
       "    </tr>\n",
       "  </tbody>\n",
       "</table>\n",
       "</div>"
      ],
      "text/plain": [
       "        id_assessment  id_student  date_submitted  is_banked  score  \\\n",
       "207316          37441      573320             227          0  100.0   \n",
       "207317          37442      573320             227          0   20.0   \n",
       "207318          37443      573320             227          0   40.0   \n",
       "\n",
       "       code_module code_presentation gender             region  \\\n",
       "207316         GGG             2014J      F  South East Region   \n",
       "207317         GGG             2014J      F  South East Region   \n",
       "207318         GGG             2014J      F  South East Region   \n",
       "\n",
       "         highest_education imd_band age_band  num_of_prev_attempts  \\\n",
       "207316  Lower Than A Level   80-90%    35-55                     0   \n",
       "207317  Lower Than A Level   80-90%    35-55                     0   \n",
       "207318  Lower Than A Level   80-90%    35-55                     0   \n",
       "\n",
       "        studied_credits disability final_result  module_presentation_length  \n",
       "207316               30          N         Fail                         269  \n",
       "207317               30          N         Fail                         269  \n",
       "207318               30          N         Fail                         269  "
      ]
     },
     "execution_count": 5,
     "metadata": {},
     "output_type": "execute_result"
    }
   ],
   "source": [
    "data.tail(3)"
   ]
  },
  {
   "cell_type": "code",
   "execution_count": 6,
   "metadata": {},
   "outputs": [
    {
     "data": {
      "text/html": [
       "\n",
       "        <iframe\n",
       "            width=\"100%\"\n",
       "            height=\"800px\"\n",
       "            src=\"ipynb_tmp/profile_6157814395.html\"\n",
       "            frameborder=\"0\"\n",
       "            allowfullscreen\n",
       "        ></iframe>\n",
       "        "
      ],
      "text/plain": [
       "<IPython.lib.display.IFrame at 0x111014ef0>"
      ]
     },
     "metadata": {},
     "output_type": "display_data"
    },
    {
     "data": {
      "text/plain": []
     },
     "execution_count": 6,
     "metadata": {},
     "output_type": "execute_result"
    }
   ],
   "source": [
    "report = pandas_profiling.ProfileReport(data)\n",
    "report"
   ]
  },
  {
   "cell_type": "code",
   "execution_count": 7,
   "metadata": {},
   "outputs": [
    {
     "name": "stdout",
     "output_type": "stream",
     "text": [
      "<class 'pandas.core.frame.DataFrame'>\n",
      "RangeIndex: 207319 entries, 0 to 207318\n",
      "Data columns (total 17 columns):\n",
      "id_assessment                 207319 non-null int64\n",
      "id_student                    207319 non-null int64\n",
      "date_submitted                207319 non-null int64\n",
      "is_banked                     207319 non-null int64\n",
      "score                         207319 non-null float64\n",
      "code_module                   207319 non-null object\n",
      "code_presentation             207319 non-null object\n",
      "gender                        207319 non-null object\n",
      "region                        207319 non-null object\n",
      "highest_education             207319 non-null object\n",
      "imd_band                      207319 non-null object\n",
      "age_band                      207319 non-null object\n",
      "num_of_prev_attempts          207319 non-null int64\n",
      "studied_credits               207319 non-null int64\n",
      "disability                    207319 non-null object\n",
      "final_result                  207319 non-null object\n",
      "module_presentation_length    207319 non-null int64\n",
      "dtypes: float64(1), int64(7), object(9)\n",
      "memory usage: 26.9+ MB\n"
     ]
    }
   ],
   "source": [
    "data.info()"
   ]
  },
  {
   "cell_type": "markdown",
   "metadata": {},
   "source": [
    "## 3.1 Categorical variables:\n",
    "\n",
    "- id_assessment\n",
    "- id_student\n",
    "- is_banked\n",
    "- code_module\n",
    "- code_presentation\n",
    "- gender\n",
    "- region\n",
    "- highest_education\n",
    "- imd_band\n",
    "- age_band\n",
    "- disability\n",
    "- final_result"
   ]
  },
  {
   "cell_type": "markdown",
   "metadata": {},
   "source": [
    "### id_assessment\n",
    "\n",
    "How many unique assessments do we have?"
   ]
  },
  {
   "cell_type": "code",
   "execution_count": 8,
   "metadata": {},
   "outputs": [
    {
     "data": {
      "text/plain": [
       "188"
      ]
     },
     "execution_count": 8,
     "metadata": {},
     "output_type": "execute_result"
    }
   ],
   "source": [
    "len(data.id_assessment.value_counts())"
   ]
  },
  {
   "cell_type": "markdown",
   "metadata": {},
   "source": [
    "As this is a categorical variable, we need to transform the column type from int64 to object."
   ]
  },
  {
   "cell_type": "code",
   "execution_count": 9,
   "metadata": {},
   "outputs": [],
   "source": [
    "data['id_assessment'] = data['id_assessment'].apply(str)"
   ]
  },
  {
   "cell_type": "code",
   "execution_count": 10,
   "metadata": {},
   "outputs": [
    {
     "data": {
      "text/html": [
       "<div>\n",
       "<style scoped>\n",
       "    .dataframe tbody tr th:only-of-type {\n",
       "        vertical-align: middle;\n",
       "    }\n",
       "\n",
       "    .dataframe tbody tr th {\n",
       "        vertical-align: top;\n",
       "    }\n",
       "\n",
       "    .dataframe thead th {\n",
       "        text-align: right;\n",
       "    }\n",
       "</style>\n",
       "<table border=\"1\" class=\"dataframe\">\n",
       "  <thead>\n",
       "    <tr style=\"text-align: right;\">\n",
       "      <th>id_assessment</th>\n",
       "      <th>14984</th>\n",
       "      <th>14985</th>\n",
       "      <th>14986</th>\n",
       "      <th>14987</th>\n",
       "      <th>14988</th>\n",
       "      <th>14989</th>\n",
       "      <th>14991</th>\n",
       "      <th>14992</th>\n",
       "      <th>14993</th>\n",
       "      <th>14994</th>\n",
       "      <th>...</th>\n",
       "      <th>37435</th>\n",
       "      <th>37436</th>\n",
       "      <th>37437</th>\n",
       "      <th>37438</th>\n",
       "      <th>37439</th>\n",
       "      <th>37440</th>\n",
       "      <th>37441</th>\n",
       "      <th>37442</th>\n",
       "      <th>37443</th>\n",
       "      <th>Total</th>\n",
       "    </tr>\n",
       "    <tr>\n",
       "      <th>score</th>\n",
       "      <th></th>\n",
       "      <th></th>\n",
       "      <th></th>\n",
       "      <th></th>\n",
       "      <th></th>\n",
       "      <th></th>\n",
       "      <th></th>\n",
       "      <th></th>\n",
       "      <th></th>\n",
       "      <th></th>\n",
       "      <th></th>\n",
       "      <th></th>\n",
       "      <th></th>\n",
       "      <th></th>\n",
       "      <th></th>\n",
       "      <th></th>\n",
       "      <th></th>\n",
       "      <th></th>\n",
       "      <th></th>\n",
       "      <th></th>\n",
       "      <th></th>\n",
       "    </tr>\n",
       "  </thead>\n",
       "  <tbody>\n",
       "    <tr>\n",
       "      <th>0.0</th>\n",
       "      <td>6</td>\n",
       "      <td>6</td>\n",
       "      <td>10</td>\n",
       "      <td>8</td>\n",
       "      <td>7</td>\n",
       "      <td>6</td>\n",
       "      <td>1</td>\n",
       "      <td>3</td>\n",
       "      <td>0</td>\n",
       "      <td>1</td>\n",
       "      <td>...</td>\n",
       "      <td>2</td>\n",
       "      <td>1</td>\n",
       "      <td>2</td>\n",
       "      <td>1</td>\n",
       "      <td>0</td>\n",
       "      <td>1</td>\n",
       "      <td>1</td>\n",
       "      <td>10</td>\n",
       "      <td>5</td>\n",
       "      <td>617</td>\n",
       "    </tr>\n",
       "    <tr>\n",
       "      <th>1.0</th>\n",
       "      <td>0</td>\n",
       "      <td>0</td>\n",
       "      <td>0</td>\n",
       "      <td>0</td>\n",
       "      <td>0</td>\n",
       "      <td>0</td>\n",
       "      <td>0</td>\n",
       "      <td>0</td>\n",
       "      <td>0</td>\n",
       "      <td>0</td>\n",
       "      <td>...</td>\n",
       "      <td>0</td>\n",
       "      <td>1</td>\n",
       "      <td>3</td>\n",
       "      <td>0</td>\n",
       "      <td>0</td>\n",
       "      <td>0</td>\n",
       "      <td>0</td>\n",
       "      <td>0</td>\n",
       "      <td>0</td>\n",
       "      <td>783</td>\n",
       "    </tr>\n",
       "    <tr>\n",
       "      <th>2.0</th>\n",
       "      <td>0</td>\n",
       "      <td>0</td>\n",
       "      <td>0</td>\n",
       "      <td>0</td>\n",
       "      <td>0</td>\n",
       "      <td>0</td>\n",
       "      <td>0</td>\n",
       "      <td>0</td>\n",
       "      <td>0</td>\n",
       "      <td>0</td>\n",
       "      <td>...</td>\n",
       "      <td>0</td>\n",
       "      <td>0</td>\n",
       "      <td>0</td>\n",
       "      <td>0</td>\n",
       "      <td>0</td>\n",
       "      <td>0</td>\n",
       "      <td>0</td>\n",
       "      <td>0</td>\n",
       "      <td>0</td>\n",
       "      <td>17</td>\n",
       "    </tr>\n",
       "  </tbody>\n",
       "</table>\n",
       "<p>3 rows × 189 columns</p>\n",
       "</div>"
      ],
      "text/plain": [
       "id_assessment  14984  14985  14986  14987  14988  14989  14991  14992  14993  \\\n",
       "score                                                                          \n",
       "0.0                6      6     10      8      7      6      1      3      0   \n",
       "1.0                0      0      0      0      0      0      0      0      0   \n",
       "2.0                0      0      0      0      0      0      0      0      0   \n",
       "\n",
       "id_assessment  14994  ...  37435  37436  37437  37438  37439  37440  37441  \\\n",
       "score                 ...                                                    \n",
       "0.0                1  ...      2      1      2      1      0      1      1   \n",
       "1.0                0  ...      0      1      3      0      0      0      0   \n",
       "2.0                0  ...      0      0      0      0      0      0      0   \n",
       "\n",
       "id_assessment  37442  37443  Total  \n",
       "score                               \n",
       "0.0               10      5    617  \n",
       "1.0                0      0    783  \n",
       "2.0                0      0     17  \n",
       "\n",
       "[3 rows x 189 columns]"
      ]
     },
     "metadata": {},
     "output_type": "display_data"
    },
    {
     "data": {
      "text/html": [
       "<div>\n",
       "<style scoped>\n",
       "    .dataframe tbody tr th:only-of-type {\n",
       "        vertical-align: middle;\n",
       "    }\n",
       "\n",
       "    .dataframe tbody tr th {\n",
       "        vertical-align: top;\n",
       "    }\n",
       "\n",
       "    .dataframe thead th {\n",
       "        text-align: right;\n",
       "    }\n",
       "</style>\n",
       "<table border=\"1\" class=\"dataframe\">\n",
       "  <thead>\n",
       "    <tr style=\"text-align: right;\">\n",
       "      <th>id_assessment</th>\n",
       "      <th>14984</th>\n",
       "      <th>14985</th>\n",
       "      <th>14986</th>\n",
       "      <th>14987</th>\n",
       "      <th>14988</th>\n",
       "      <th>14989</th>\n",
       "      <th>14991</th>\n",
       "      <th>14992</th>\n",
       "      <th>14993</th>\n",
       "      <th>14994</th>\n",
       "      <th>...</th>\n",
       "      <th>37435</th>\n",
       "      <th>37436</th>\n",
       "      <th>37437</th>\n",
       "      <th>37438</th>\n",
       "      <th>37439</th>\n",
       "      <th>37440</th>\n",
       "      <th>37441</th>\n",
       "      <th>37442</th>\n",
       "      <th>37443</th>\n",
       "      <th>Total</th>\n",
       "    </tr>\n",
       "    <tr>\n",
       "      <th>score</th>\n",
       "      <th></th>\n",
       "      <th></th>\n",
       "      <th></th>\n",
       "      <th></th>\n",
       "      <th></th>\n",
       "      <th></th>\n",
       "      <th></th>\n",
       "      <th></th>\n",
       "      <th></th>\n",
       "      <th></th>\n",
       "      <th></th>\n",
       "      <th></th>\n",
       "      <th></th>\n",
       "      <th></th>\n",
       "      <th></th>\n",
       "      <th></th>\n",
       "      <th></th>\n",
       "      <th></th>\n",
       "      <th></th>\n",
       "      <th></th>\n",
       "      <th></th>\n",
       "    </tr>\n",
       "  </thead>\n",
       "  <tbody>\n",
       "    <tr>\n",
       "      <th>99.0</th>\n",
       "      <td>1</td>\n",
       "      <td>1</td>\n",
       "      <td>0</td>\n",
       "      <td>1</td>\n",
       "      <td>0</td>\n",
       "      <td>1</td>\n",
       "      <td>0</td>\n",
       "      <td>0</td>\n",
       "      <td>0</td>\n",
       "      <td>0</td>\n",
       "      <td>...</td>\n",
       "      <td>0</td>\n",
       "      <td>0</td>\n",
       "      <td>1</td>\n",
       "      <td>0</td>\n",
       "      <td>0</td>\n",
       "      <td>0</td>\n",
       "      <td>0</td>\n",
       "      <td>0</td>\n",
       "      <td>0</td>\n",
       "      <td>978</td>\n",
       "    </tr>\n",
       "    <tr>\n",
       "      <th>100.0</th>\n",
       "      <td>0</td>\n",
       "      <td>1</td>\n",
       "      <td>2</td>\n",
       "      <td>2</td>\n",
       "      <td>5</td>\n",
       "      <td>4</td>\n",
       "      <td>947</td>\n",
       "      <td>670</td>\n",
       "      <td>560</td>\n",
       "      <td>552</td>\n",
       "      <td>...</td>\n",
       "      <td>0</td>\n",
       "      <td>0</td>\n",
       "      <td>0</td>\n",
       "      <td>341</td>\n",
       "      <td>263</td>\n",
       "      <td>236</td>\n",
       "      <td>334</td>\n",
       "      <td>142</td>\n",
       "      <td>191</td>\n",
       "      <td>20522</td>\n",
       "    </tr>\n",
       "    <tr>\n",
       "      <th>Total</th>\n",
       "      <td>1434</td>\n",
       "      <td>1282</td>\n",
       "      <td>1104</td>\n",
       "      <td>949</td>\n",
       "      <td>889</td>\n",
       "      <td>775</td>\n",
       "      <td>1259</td>\n",
       "      <td>1120</td>\n",
       "      <td>1023</td>\n",
       "      <td>960</td>\n",
       "      <td>...</td>\n",
       "      <td>591</td>\n",
       "      <td>545</td>\n",
       "      <td>504</td>\n",
       "      <td>535</td>\n",
       "      <td>508</td>\n",
       "      <td>483</td>\n",
       "      <td>477</td>\n",
       "      <td>419</td>\n",
       "      <td>345</td>\n",
       "      <td>207319</td>\n",
       "    </tr>\n",
       "  </tbody>\n",
       "</table>\n",
       "<p>3 rows × 189 columns</p>\n",
       "</div>"
      ],
      "text/plain": [
       "id_assessment  14984  14985  14986  14987  14988  14989  14991  14992  14993  \\\n",
       "score                                                                          \n",
       "99.0               1      1      0      1      0      1      0      0      0   \n",
       "100.0              0      1      2      2      5      4    947    670    560   \n",
       "Total           1434   1282   1104    949    889    775   1259   1120   1023   \n",
       "\n",
       "id_assessment  14994  ...  37435  37436  37437  37438  37439  37440  37441  \\\n",
       "score                 ...                                                    \n",
       "99.0               0  ...      0      0      1      0      0      0      0   \n",
       "100.0            552  ...      0      0      0    341    263    236    334   \n",
       "Total            960  ...    591    545    504    535    508    483    477   \n",
       "\n",
       "id_assessment  37442  37443   Total  \n",
       "score                                \n",
       "99.0               0      0     978  \n",
       "100.0            142    191   20522  \n",
       "Total            419    345  207319  \n",
       "\n",
       "[3 rows x 189 columns]"
      ]
     },
     "metadata": {},
     "output_type": "display_data"
    }
   ],
   "source": [
    "crossidass = pd.crosstab(data.score, data.id_assessment, margins=True, margins_name='Total')\n",
    "display(crossidass.head(3))\n",
    "display(crossidass.tail(3))"
   ]
  },
  {
   "cell_type": "markdown",
   "metadata": {},
   "source": [
    "### id_student\n",
    "\n",
    "How many different students do we have data from?"
   ]
  },
  {
   "cell_type": "code",
   "execution_count": 11,
   "metadata": {},
   "outputs": [
    {
     "data": {
      "text/plain": [
       "23369"
      ]
     },
     "execution_count": 11,
     "metadata": {},
     "output_type": "execute_result"
    }
   ],
   "source": [
    "len(data.id_student.value_counts())"
   ]
  },
  {
   "cell_type": "markdown",
   "metadata": {},
   "source": [
    "Same way as id_assessment, this is a categorical variable, so we need to apply the same transformation."
   ]
  },
  {
   "cell_type": "code",
   "execution_count": 12,
   "metadata": {},
   "outputs": [],
   "source": [
    "data['id_student'] = data['id_student'].apply(str)"
   ]
  },
  {
   "cell_type": "code",
   "execution_count": 13,
   "metadata": {},
   "outputs": [
    {
     "data": {
      "text/html": [
       "<div>\n",
       "<style scoped>\n",
       "    .dataframe tbody tr th:only-of-type {\n",
       "        vertical-align: middle;\n",
       "    }\n",
       "\n",
       "    .dataframe tbody tr th {\n",
       "        vertical-align: top;\n",
       "    }\n",
       "\n",
       "    .dataframe thead th {\n",
       "        text-align: right;\n",
       "    }\n",
       "</style>\n",
       "<table border=\"1\" class=\"dataframe\">\n",
       "  <thead>\n",
       "    <tr style=\"text-align: right;\">\n",
       "      <th>id_student</th>\n",
       "      <th>100064</th>\n",
       "      <th>100282</th>\n",
       "      <th>100561</th>\n",
       "      <th>1006742</th>\n",
       "      <th>100788</th>\n",
       "      <th>1008675</th>\n",
       "      <th>100893</th>\n",
       "      <th>101116</th>\n",
       "      <th>101217</th>\n",
       "      <th>101279</th>\n",
       "      <th>...</th>\n",
       "      <th>99151</th>\n",
       "      <th>991843</th>\n",
       "      <th>992544</th>\n",
       "      <th>996047</th>\n",
       "      <th>99670</th>\n",
       "      <th>99799</th>\n",
       "      <th>998493</th>\n",
       "      <th>999174</th>\n",
       "      <th>99993</th>\n",
       "      <th>Total</th>\n",
       "    </tr>\n",
       "    <tr>\n",
       "      <th>score</th>\n",
       "      <th></th>\n",
       "      <th></th>\n",
       "      <th></th>\n",
       "      <th></th>\n",
       "      <th></th>\n",
       "      <th></th>\n",
       "      <th></th>\n",
       "      <th></th>\n",
       "      <th></th>\n",
       "      <th></th>\n",
       "      <th></th>\n",
       "      <th></th>\n",
       "      <th></th>\n",
       "      <th></th>\n",
       "      <th></th>\n",
       "      <th></th>\n",
       "      <th></th>\n",
       "      <th></th>\n",
       "      <th></th>\n",
       "      <th></th>\n",
       "      <th></th>\n",
       "    </tr>\n",
       "  </thead>\n",
       "  <tbody>\n",
       "    <tr>\n",
       "      <th>0.0</th>\n",
       "      <td>0</td>\n",
       "      <td>0</td>\n",
       "      <td>0</td>\n",
       "      <td>0</td>\n",
       "      <td>0</td>\n",
       "      <td>0</td>\n",
       "      <td>0</td>\n",
       "      <td>0</td>\n",
       "      <td>0</td>\n",
       "      <td>0</td>\n",
       "      <td>...</td>\n",
       "      <td>0</td>\n",
       "      <td>0</td>\n",
       "      <td>0</td>\n",
       "      <td>0</td>\n",
       "      <td>0</td>\n",
       "      <td>0</td>\n",
       "      <td>0</td>\n",
       "      <td>0</td>\n",
       "      <td>0</td>\n",
       "      <td>617</td>\n",
       "    </tr>\n",
       "    <tr>\n",
       "      <th>1.0</th>\n",
       "      <td>0</td>\n",
       "      <td>0</td>\n",
       "      <td>0</td>\n",
       "      <td>0</td>\n",
       "      <td>0</td>\n",
       "      <td>0</td>\n",
       "      <td>0</td>\n",
       "      <td>0</td>\n",
       "      <td>0</td>\n",
       "      <td>0</td>\n",
       "      <td>...</td>\n",
       "      <td>0</td>\n",
       "      <td>0</td>\n",
       "      <td>0</td>\n",
       "      <td>0</td>\n",
       "      <td>0</td>\n",
       "      <td>0</td>\n",
       "      <td>0</td>\n",
       "      <td>0</td>\n",
       "      <td>0</td>\n",
       "      <td>783</td>\n",
       "    </tr>\n",
       "    <tr>\n",
       "      <th>2.0</th>\n",
       "      <td>0</td>\n",
       "      <td>0</td>\n",
       "      <td>0</td>\n",
       "      <td>0</td>\n",
       "      <td>0</td>\n",
       "      <td>0</td>\n",
       "      <td>0</td>\n",
       "      <td>0</td>\n",
       "      <td>0</td>\n",
       "      <td>0</td>\n",
       "      <td>...</td>\n",
       "      <td>0</td>\n",
       "      <td>0</td>\n",
       "      <td>0</td>\n",
       "      <td>0</td>\n",
       "      <td>0</td>\n",
       "      <td>0</td>\n",
       "      <td>0</td>\n",
       "      <td>0</td>\n",
       "      <td>0</td>\n",
       "      <td>17</td>\n",
       "    </tr>\n",
       "  </tbody>\n",
       "</table>\n",
       "<p>3 rows × 23370 columns</p>\n",
       "</div>"
      ],
      "text/plain": [
       "id_student  100064  100282  100561  1006742  100788  1008675  100893  101116  \\\n",
       "score                                                                          \n",
       "0.0              0       0       0        0       0        0       0       0   \n",
       "1.0              0       0       0        0       0        0       0       0   \n",
       "2.0              0       0       0        0       0        0       0       0   \n",
       "\n",
       "id_student  101217  101279  ...  99151  991843  992544  996047  99670  99799  \\\n",
       "score                       ...                                                \n",
       "0.0              0       0  ...      0       0       0       0      0      0   \n",
       "1.0              0       0  ...      0       0       0       0      0      0   \n",
       "2.0              0       0  ...      0       0       0       0      0      0   \n",
       "\n",
       "id_student  998493  999174  99993  Total  \n",
       "score                                     \n",
       "0.0              0       0      0    617  \n",
       "1.0              0       0      0    783  \n",
       "2.0              0       0      0     17  \n",
       "\n",
       "[3 rows x 23370 columns]"
      ]
     },
     "metadata": {},
     "output_type": "display_data"
    },
    {
     "data": {
      "text/html": [
       "<div>\n",
       "<style scoped>\n",
       "    .dataframe tbody tr th:only-of-type {\n",
       "        vertical-align: middle;\n",
       "    }\n",
       "\n",
       "    .dataframe tbody tr th {\n",
       "        vertical-align: top;\n",
       "    }\n",
       "\n",
       "    .dataframe thead th {\n",
       "        text-align: right;\n",
       "    }\n",
       "</style>\n",
       "<table border=\"1\" class=\"dataframe\">\n",
       "  <thead>\n",
       "    <tr style=\"text-align: right;\">\n",
       "      <th>id_student</th>\n",
       "      <th>100064</th>\n",
       "      <th>100282</th>\n",
       "      <th>100561</th>\n",
       "      <th>1006742</th>\n",
       "      <th>100788</th>\n",
       "      <th>1008675</th>\n",
       "      <th>100893</th>\n",
       "      <th>101116</th>\n",
       "      <th>101217</th>\n",
       "      <th>101279</th>\n",
       "      <th>...</th>\n",
       "      <th>99151</th>\n",
       "      <th>991843</th>\n",
       "      <th>992544</th>\n",
       "      <th>996047</th>\n",
       "      <th>99670</th>\n",
       "      <th>99799</th>\n",
       "      <th>998493</th>\n",
       "      <th>999174</th>\n",
       "      <th>99993</th>\n",
       "      <th>Total</th>\n",
       "    </tr>\n",
       "    <tr>\n",
       "      <th>score</th>\n",
       "      <th></th>\n",
       "      <th></th>\n",
       "      <th></th>\n",
       "      <th></th>\n",
       "      <th></th>\n",
       "      <th></th>\n",
       "      <th></th>\n",
       "      <th></th>\n",
       "      <th></th>\n",
       "      <th></th>\n",
       "      <th></th>\n",
       "      <th></th>\n",
       "      <th></th>\n",
       "      <th></th>\n",
       "      <th></th>\n",
       "      <th></th>\n",
       "      <th></th>\n",
       "      <th></th>\n",
       "      <th></th>\n",
       "      <th></th>\n",
       "      <th></th>\n",
       "    </tr>\n",
       "  </thead>\n",
       "  <tbody>\n",
       "    <tr>\n",
       "      <th>99.0</th>\n",
       "      <td>0</td>\n",
       "      <td>0</td>\n",
       "      <td>0</td>\n",
       "      <td>0</td>\n",
       "      <td>2</td>\n",
       "      <td>0</td>\n",
       "      <td>0</td>\n",
       "      <td>0</td>\n",
       "      <td>0</td>\n",
       "      <td>0</td>\n",
       "      <td>...</td>\n",
       "      <td>0</td>\n",
       "      <td>1</td>\n",
       "      <td>0</td>\n",
       "      <td>0</td>\n",
       "      <td>0</td>\n",
       "      <td>0</td>\n",
       "      <td>0</td>\n",
       "      <td>0</td>\n",
       "      <td>0</td>\n",
       "      <td>978</td>\n",
       "    </tr>\n",
       "    <tr>\n",
       "      <th>100.0</th>\n",
       "      <td>0</td>\n",
       "      <td>0</td>\n",
       "      <td>0</td>\n",
       "      <td>0</td>\n",
       "      <td>2</td>\n",
       "      <td>4</td>\n",
       "      <td>0</td>\n",
       "      <td>0</td>\n",
       "      <td>0</td>\n",
       "      <td>0</td>\n",
       "      <td>...</td>\n",
       "      <td>0</td>\n",
       "      <td>0</td>\n",
       "      <td>1</td>\n",
       "      <td>0</td>\n",
       "      <td>2</td>\n",
       "      <td>1</td>\n",
       "      <td>0</td>\n",
       "      <td>0</td>\n",
       "      <td>0</td>\n",
       "      <td>20522</td>\n",
       "    </tr>\n",
       "    <tr>\n",
       "      <th>Total</th>\n",
       "      <td>12</td>\n",
       "      <td>1</td>\n",
       "      <td>7</td>\n",
       "      <td>2</td>\n",
       "      <td>34</td>\n",
       "      <td>11</td>\n",
       "      <td>5</td>\n",
       "      <td>5</td>\n",
       "      <td>4</td>\n",
       "      <td>1</td>\n",
       "      <td>...</td>\n",
       "      <td>1</td>\n",
       "      <td>4</td>\n",
       "      <td>5</td>\n",
       "      <td>4</td>\n",
       "      <td>8</td>\n",
       "      <td>10</td>\n",
       "      <td>5</td>\n",
       "      <td>12</td>\n",
       "      <td>11</td>\n",
       "      <td>207319</td>\n",
       "    </tr>\n",
       "  </tbody>\n",
       "</table>\n",
       "<p>3 rows × 23370 columns</p>\n",
       "</div>"
      ],
      "text/plain": [
       "id_student  100064  100282  100561  1006742  100788  1008675  100893  101116  \\\n",
       "score                                                                          \n",
       "99.0             0       0       0        0       2        0       0       0   \n",
       "100.0            0       0       0        0       2        4       0       0   \n",
       "Total           12       1       7        2      34       11       5       5   \n",
       "\n",
       "id_student  101217  101279  ...  99151  991843  992544  996047  99670  99799  \\\n",
       "score                       ...                                                \n",
       "99.0             0       0  ...      0       1       0       0      0      0   \n",
       "100.0            0       0  ...      0       0       1       0      2      1   \n",
       "Total            4       1  ...      1       4       5       4      8     10   \n",
       "\n",
       "id_student  998493  999174  99993   Total  \n",
       "score                                      \n",
       "99.0             0       0      0     978  \n",
       "100.0            0       0      0   20522  \n",
       "Total            5      12     11  207319  \n",
       "\n",
       "[3 rows x 23370 columns]"
      ]
     },
     "metadata": {},
     "output_type": "display_data"
    }
   ],
   "source": [
    "crossidst = pd.crosstab(data.score, data.id_student, margins=True, margins_name='Total')\n",
    "display(crossidst.head(3))\n",
    "display(crossidst.tail(3))"
   ]
  },
  {
   "cell_type": "markdown",
   "metadata": {},
   "source": [
    "### is_banked\n",
    "\n",
    "A status flag indicating that the assessment result has been transferred from a previous presentation."
   ]
  },
  {
   "cell_type": "code",
   "execution_count": 14,
   "metadata": {},
   "outputs": [
    {
     "data": {
      "text/plain": [
       "0    203770\n",
       "1      3549\n",
       "Name: is_banked, dtype: int64"
      ]
     },
     "execution_count": 14,
     "metadata": {},
     "output_type": "execute_result"
    }
   ],
   "source": [
    "data.is_banked.value_counts()"
   ]
  },
  {
   "cell_type": "markdown",
   "metadata": {},
   "source": [
    "Same way as before, we apply the same transformation."
   ]
  },
  {
   "cell_type": "code",
   "execution_count": 15,
   "metadata": {},
   "outputs": [],
   "source": [
    "data['is_banked'] = data['is_banked'].apply(str)"
   ]
  },
  {
   "cell_type": "code",
   "execution_count": 16,
   "metadata": {},
   "outputs": [
    {
     "data": {
      "text/html": [
       "<div>\n",
       "<style scoped>\n",
       "    .dataframe tbody tr th:only-of-type {\n",
       "        vertical-align: middle;\n",
       "    }\n",
       "\n",
       "    .dataframe tbody tr th {\n",
       "        vertical-align: top;\n",
       "    }\n",
       "\n",
       "    .dataframe thead th {\n",
       "        text-align: right;\n",
       "    }\n",
       "</style>\n",
       "<table border=\"1\" class=\"dataframe\">\n",
       "  <thead>\n",
       "    <tr style=\"text-align: right;\">\n",
       "      <th>is_banked</th>\n",
       "      <th>0</th>\n",
       "      <th>1</th>\n",
       "      <th>Total</th>\n",
       "    </tr>\n",
       "    <tr>\n",
       "      <th>score</th>\n",
       "      <th></th>\n",
       "      <th></th>\n",
       "      <th></th>\n",
       "    </tr>\n",
       "  </thead>\n",
       "  <tbody>\n",
       "    <tr>\n",
       "      <th>0.0</th>\n",
       "      <td>615</td>\n",
       "      <td>2</td>\n",
       "      <td>617</td>\n",
       "    </tr>\n",
       "    <tr>\n",
       "      <th>1.0</th>\n",
       "      <td>783</td>\n",
       "      <td>0</td>\n",
       "      <td>783</td>\n",
       "    </tr>\n",
       "    <tr>\n",
       "      <th>2.0</th>\n",
       "      <td>17</td>\n",
       "      <td>0</td>\n",
       "      <td>17</td>\n",
       "    </tr>\n",
       "  </tbody>\n",
       "</table>\n",
       "</div>"
      ],
      "text/plain": [
       "is_banked    0  1  Total\n",
       "score                   \n",
       "0.0        615  2    617\n",
       "1.0        783  0    783\n",
       "2.0         17  0     17"
      ]
     },
     "metadata": {},
     "output_type": "display_data"
    },
    {
     "data": {
      "text/html": [
       "<div>\n",
       "<style scoped>\n",
       "    .dataframe tbody tr th:only-of-type {\n",
       "        vertical-align: middle;\n",
       "    }\n",
       "\n",
       "    .dataframe tbody tr th {\n",
       "        vertical-align: top;\n",
       "    }\n",
       "\n",
       "    .dataframe thead th {\n",
       "        text-align: right;\n",
       "    }\n",
       "</style>\n",
       "<table border=\"1\" class=\"dataframe\">\n",
       "  <thead>\n",
       "    <tr style=\"text-align: right;\">\n",
       "      <th>is_banked</th>\n",
       "      <th>0</th>\n",
       "      <th>1</th>\n",
       "      <th>Total</th>\n",
       "    </tr>\n",
       "    <tr>\n",
       "      <th>score</th>\n",
       "      <th></th>\n",
       "      <th></th>\n",
       "      <th></th>\n",
       "    </tr>\n",
       "  </thead>\n",
       "  <tbody>\n",
       "    <tr>\n",
       "      <th>99.0</th>\n",
       "      <td>971</td>\n",
       "      <td>7</td>\n",
       "      <td>978</td>\n",
       "    </tr>\n",
       "    <tr>\n",
       "      <th>100.0</th>\n",
       "      <td>20242</td>\n",
       "      <td>280</td>\n",
       "      <td>20522</td>\n",
       "    </tr>\n",
       "    <tr>\n",
       "      <th>Total</th>\n",
       "      <td>203770</td>\n",
       "      <td>3549</td>\n",
       "      <td>207319</td>\n",
       "    </tr>\n",
       "  </tbody>\n",
       "</table>\n",
       "</div>"
      ],
      "text/plain": [
       "is_banked       0     1   Total\n",
       "score                          \n",
       "99.0          971     7     978\n",
       "100.0       20242   280   20522\n",
       "Total      203770  3549  207319"
      ]
     },
     "metadata": {},
     "output_type": "display_data"
    }
   ],
   "source": [
    "crossbanked = pd.crosstab(data.score, data.is_banked, margins=True, margins_name='Total')\n",
    "display(crossbanked.head(3))\n",
    "display(crossbanked.tail(3))"
   ]
  },
  {
   "cell_type": "markdown",
   "metadata": {},
   "source": [
    "### code_module"
   ]
  },
  {
   "cell_type": "code",
   "execution_count": 17,
   "metadata": {},
   "outputs": [
    {
     "data": {
      "text/plain": [
       "FFF    60435\n",
       "BBB    45166\n",
       "DDD    37457\n",
       "CCC    32899\n",
       "GGG    15507\n",
       "EEE    12488\n",
       "AAA     3367\n",
       "Name: code_module, dtype: int64"
      ]
     },
     "execution_count": 17,
     "metadata": {},
     "output_type": "execute_result"
    }
   ],
   "source": [
    "data.code_module.value_counts()"
   ]
  },
  {
   "cell_type": "code",
   "execution_count": 18,
   "metadata": {},
   "outputs": [
    {
     "data": {
      "text/html": [
       "<div>\n",
       "<style scoped>\n",
       "    .dataframe tbody tr th:only-of-type {\n",
       "        vertical-align: middle;\n",
       "    }\n",
       "\n",
       "    .dataframe tbody tr th {\n",
       "        vertical-align: top;\n",
       "    }\n",
       "\n",
       "    .dataframe thead th {\n",
       "        text-align: right;\n",
       "    }\n",
       "</style>\n",
       "<table border=\"1\" class=\"dataframe\">\n",
       "  <thead>\n",
       "    <tr style=\"text-align: right;\">\n",
       "      <th>code_module</th>\n",
       "      <th>AAA</th>\n",
       "      <th>BBB</th>\n",
       "      <th>CCC</th>\n",
       "      <th>DDD</th>\n",
       "      <th>EEE</th>\n",
       "      <th>FFF</th>\n",
       "      <th>GGG</th>\n",
       "      <th>Total</th>\n",
       "    </tr>\n",
       "    <tr>\n",
       "      <th>score</th>\n",
       "      <th></th>\n",
       "      <th></th>\n",
       "      <th></th>\n",
       "      <th></th>\n",
       "      <th></th>\n",
       "      <th></th>\n",
       "      <th></th>\n",
       "      <th></th>\n",
       "    </tr>\n",
       "  </thead>\n",
       "  <tbody>\n",
       "    <tr>\n",
       "      <th>0.0</th>\n",
       "      <td>6</td>\n",
       "      <td>133</td>\n",
       "      <td>130</td>\n",
       "      <td>121</td>\n",
       "      <td>47</td>\n",
       "      <td>128</td>\n",
       "      <td>52</td>\n",
       "      <td>617</td>\n",
       "    </tr>\n",
       "    <tr>\n",
       "      <th>1.0</th>\n",
       "      <td>0</td>\n",
       "      <td>753</td>\n",
       "      <td>1</td>\n",
       "      <td>7</td>\n",
       "      <td>1</td>\n",
       "      <td>2</td>\n",
       "      <td>19</td>\n",
       "      <td>783</td>\n",
       "    </tr>\n",
       "    <tr>\n",
       "      <th>2.0</th>\n",
       "      <td>0</td>\n",
       "      <td>0</td>\n",
       "      <td>8</td>\n",
       "      <td>4</td>\n",
       "      <td>3</td>\n",
       "      <td>2</td>\n",
       "      <td>0</td>\n",
       "      <td>17</td>\n",
       "    </tr>\n",
       "  </tbody>\n",
       "</table>\n",
       "</div>"
      ],
      "text/plain": [
       "code_module  AAA  BBB  CCC  DDD  EEE  FFF  GGG  Total\n",
       "score                                                \n",
       "0.0            6  133  130  121   47  128   52    617\n",
       "1.0            0  753    1    7    1    2   19    783\n",
       "2.0            0    0    8    4    3    2    0     17"
      ]
     },
     "metadata": {},
     "output_type": "display_data"
    },
    {
     "data": {
      "text/html": [
       "<div>\n",
       "<style scoped>\n",
       "    .dataframe tbody tr th:only-of-type {\n",
       "        vertical-align: middle;\n",
       "    }\n",
       "\n",
       "    .dataframe tbody tr th {\n",
       "        vertical-align: top;\n",
       "    }\n",
       "\n",
       "    .dataframe thead th {\n",
       "        text-align: right;\n",
       "    }\n",
       "</style>\n",
       "<table border=\"1\" class=\"dataframe\">\n",
       "  <thead>\n",
       "    <tr style=\"text-align: right;\">\n",
       "      <th>code_module</th>\n",
       "      <th>AAA</th>\n",
       "      <th>BBB</th>\n",
       "      <th>CCC</th>\n",
       "      <th>DDD</th>\n",
       "      <th>EEE</th>\n",
       "      <th>FFF</th>\n",
       "      <th>GGG</th>\n",
       "      <th>Total</th>\n",
       "    </tr>\n",
       "    <tr>\n",
       "      <th>score</th>\n",
       "      <th></th>\n",
       "      <th></th>\n",
       "      <th></th>\n",
       "      <th></th>\n",
       "      <th></th>\n",
       "      <th></th>\n",
       "      <th></th>\n",
       "      <th></th>\n",
       "    </tr>\n",
       "  </thead>\n",
       "  <tbody>\n",
       "    <tr>\n",
       "      <th>99.0</th>\n",
       "      <td>0</td>\n",
       "      <td>9</td>\n",
       "      <td>248</td>\n",
       "      <td>120</td>\n",
       "      <td>152</td>\n",
       "      <td>447</td>\n",
       "      <td>2</td>\n",
       "      <td>978</td>\n",
       "    </tr>\n",
       "    <tr>\n",
       "      <th>100.0</th>\n",
       "      <td>0</td>\n",
       "      <td>11117</td>\n",
       "      <td>1848</td>\n",
       "      <td>778</td>\n",
       "      <td>289</td>\n",
       "      <td>1094</td>\n",
       "      <td>5396</td>\n",
       "      <td>20522</td>\n",
       "    </tr>\n",
       "    <tr>\n",
       "      <th>Total</th>\n",
       "      <td>3367</td>\n",
       "      <td>45166</td>\n",
       "      <td>32899</td>\n",
       "      <td>37457</td>\n",
       "      <td>12488</td>\n",
       "      <td>60435</td>\n",
       "      <td>15507</td>\n",
       "      <td>207319</td>\n",
       "    </tr>\n",
       "  </tbody>\n",
       "</table>\n",
       "</div>"
      ],
      "text/plain": [
       "code_module   AAA    BBB    CCC    DDD    EEE    FFF    GGG   Total\n",
       "score                                                              \n",
       "99.0            0      9    248    120    152    447      2     978\n",
       "100.0           0  11117   1848    778    289   1094   5396   20522\n",
       "Total        3367  45166  32899  37457  12488  60435  15507  207319"
      ]
     },
     "metadata": {},
     "output_type": "display_data"
    }
   ],
   "source": [
    "crossmodule = pd.crosstab(data.score, data.code_module, margins=True, margins_name='Total')\n",
    "display(crossmodule.head(3))\n",
    "display(crossmodule.tail(3))"
   ]
  },
  {
   "cell_type": "markdown",
   "metadata": {},
   "source": [
    "### code_presentation"
   ]
  },
  {
   "cell_type": "code",
   "execution_count": 19,
   "metadata": {},
   "outputs": [
    {
     "data": {
      "text/plain": [
       "2014J    64935\n",
       "2013J    56080\n",
       "2014B    49992\n",
       "2013B    36312\n",
       "Name: code_presentation, dtype: int64"
      ]
     },
     "execution_count": 19,
     "metadata": {},
     "output_type": "execute_result"
    }
   ],
   "source": [
    "data.code_presentation.value_counts()"
   ]
  },
  {
   "cell_type": "code",
   "execution_count": 20,
   "metadata": {},
   "outputs": [
    {
     "data": {
      "text/html": [
       "<div>\n",
       "<style scoped>\n",
       "    .dataframe tbody tr th:only-of-type {\n",
       "        vertical-align: middle;\n",
       "    }\n",
       "\n",
       "    .dataframe tbody tr th {\n",
       "        vertical-align: top;\n",
       "    }\n",
       "\n",
       "    .dataframe thead th {\n",
       "        text-align: right;\n",
       "    }\n",
       "</style>\n",
       "<table border=\"1\" class=\"dataframe\">\n",
       "  <thead>\n",
       "    <tr style=\"text-align: right;\">\n",
       "      <th>code_presentation</th>\n",
       "      <th>2013B</th>\n",
       "      <th>2013J</th>\n",
       "      <th>2014B</th>\n",
       "      <th>2014J</th>\n",
       "      <th>Total</th>\n",
       "    </tr>\n",
       "    <tr>\n",
       "      <th>score</th>\n",
       "      <th></th>\n",
       "      <th></th>\n",
       "      <th></th>\n",
       "      <th></th>\n",
       "      <th></th>\n",
       "    </tr>\n",
       "  </thead>\n",
       "  <tbody>\n",
       "    <tr>\n",
       "      <th>0.0</th>\n",
       "      <td>119</td>\n",
       "      <td>115</td>\n",
       "      <td>205</td>\n",
       "      <td>178</td>\n",
       "      <td>617</td>\n",
       "    </tr>\n",
       "    <tr>\n",
       "      <th>1.0</th>\n",
       "      <td>7</td>\n",
       "      <td>29</td>\n",
       "      <td>23</td>\n",
       "      <td>724</td>\n",
       "      <td>783</td>\n",
       "    </tr>\n",
       "    <tr>\n",
       "      <th>2.0</th>\n",
       "      <td>4</td>\n",
       "      <td>3</td>\n",
       "      <td>5</td>\n",
       "      <td>5</td>\n",
       "      <td>17</td>\n",
       "    </tr>\n",
       "  </tbody>\n",
       "</table>\n",
       "</div>"
      ],
      "text/plain": [
       "code_presentation  2013B  2013J  2014B  2014J  Total\n",
       "score                                               \n",
       "0.0                  119    115    205    178    617\n",
       "1.0                    7     29     23    724    783\n",
       "2.0                    4      3      5      5     17"
      ]
     },
     "metadata": {},
     "output_type": "display_data"
    },
    {
     "data": {
      "text/html": [
       "<div>\n",
       "<style scoped>\n",
       "    .dataframe tbody tr th:only-of-type {\n",
       "        vertical-align: middle;\n",
       "    }\n",
       "\n",
       "    .dataframe tbody tr th {\n",
       "        vertical-align: top;\n",
       "    }\n",
       "\n",
       "    .dataframe thead th {\n",
       "        text-align: right;\n",
       "    }\n",
       "</style>\n",
       "<table border=\"1\" class=\"dataframe\">\n",
       "  <thead>\n",
       "    <tr style=\"text-align: right;\">\n",
       "      <th>code_presentation</th>\n",
       "      <th>2013B</th>\n",
       "      <th>2013J</th>\n",
       "      <th>2014B</th>\n",
       "      <th>2014J</th>\n",
       "      <th>Total</th>\n",
       "    </tr>\n",
       "    <tr>\n",
       "      <th>score</th>\n",
       "      <th></th>\n",
       "      <th></th>\n",
       "      <th></th>\n",
       "      <th></th>\n",
       "      <th></th>\n",
       "    </tr>\n",
       "  </thead>\n",
       "  <tbody>\n",
       "    <tr>\n",
       "      <th>99.0</th>\n",
       "      <td>111</td>\n",
       "      <td>219</td>\n",
       "      <td>245</td>\n",
       "      <td>403</td>\n",
       "      <td>978</td>\n",
       "    </tr>\n",
       "    <tr>\n",
       "      <th>100.0</th>\n",
       "      <td>3588</td>\n",
       "      <td>6690</td>\n",
       "      <td>5463</td>\n",
       "      <td>4781</td>\n",
       "      <td>20522</td>\n",
       "    </tr>\n",
       "    <tr>\n",
       "      <th>Total</th>\n",
       "      <td>36312</td>\n",
       "      <td>56080</td>\n",
       "      <td>49992</td>\n",
       "      <td>64935</td>\n",
       "      <td>207319</td>\n",
       "    </tr>\n",
       "  </tbody>\n",
       "</table>\n",
       "</div>"
      ],
      "text/plain": [
       "code_presentation  2013B  2013J  2014B  2014J   Total\n",
       "score                                                \n",
       "99.0                 111    219    245    403     978\n",
       "100.0               3588   6690   5463   4781   20522\n",
       "Total              36312  56080  49992  64935  207319"
      ]
     },
     "metadata": {},
     "output_type": "display_data"
    }
   ],
   "source": [
    "crosspres = pd.crosstab(data.score, data.code_presentation, margins=True, margins_name='Total')\n",
    "display(crosspres.head(3))\n",
    "display(crosspres.tail(3))"
   ]
  },
  {
   "cell_type": "markdown",
   "metadata": {},
   "source": [
    "### gender"
   ]
  },
  {
   "cell_type": "code",
   "execution_count": 21,
   "metadata": {},
   "outputs": [
    {
     "data": {
      "text/plain": [
       "M    118848\n",
       "F     88471\n",
       "Name: gender, dtype: int64"
      ]
     },
     "execution_count": 21,
     "metadata": {},
     "output_type": "execute_result"
    }
   ],
   "source": [
    "data.gender.value_counts()"
   ]
  },
  {
   "cell_type": "code",
   "execution_count": 22,
   "metadata": {},
   "outputs": [
    {
     "data": {
      "text/html": [
       "<div>\n",
       "<style scoped>\n",
       "    .dataframe tbody tr th:only-of-type {\n",
       "        vertical-align: middle;\n",
       "    }\n",
       "\n",
       "    .dataframe tbody tr th {\n",
       "        vertical-align: top;\n",
       "    }\n",
       "\n",
       "    .dataframe thead th {\n",
       "        text-align: right;\n",
       "    }\n",
       "</style>\n",
       "<table border=\"1\" class=\"dataframe\">\n",
       "  <thead>\n",
       "    <tr style=\"text-align: right;\">\n",
       "      <th>gender</th>\n",
       "      <th>F</th>\n",
       "      <th>M</th>\n",
       "      <th>Total</th>\n",
       "    </tr>\n",
       "    <tr>\n",
       "      <th>score</th>\n",
       "      <th></th>\n",
       "      <th></th>\n",
       "      <th></th>\n",
       "    </tr>\n",
       "  </thead>\n",
       "  <tbody>\n",
       "    <tr>\n",
       "      <th>0.0</th>\n",
       "      <td>262</td>\n",
       "      <td>355</td>\n",
       "      <td>617</td>\n",
       "    </tr>\n",
       "    <tr>\n",
       "      <th>1.0</th>\n",
       "      <td>693</td>\n",
       "      <td>90</td>\n",
       "      <td>783</td>\n",
       "    </tr>\n",
       "    <tr>\n",
       "      <th>2.0</th>\n",
       "      <td>4</td>\n",
       "      <td>13</td>\n",
       "      <td>17</td>\n",
       "    </tr>\n",
       "  </tbody>\n",
       "</table>\n",
       "</div>"
      ],
      "text/plain": [
       "gender    F    M  Total\n",
       "score                  \n",
       "0.0     262  355    617\n",
       "1.0     693   90    783\n",
       "2.0       4   13     17"
      ]
     },
     "metadata": {},
     "output_type": "display_data"
    },
    {
     "data": {
      "text/html": [
       "<div>\n",
       "<style scoped>\n",
       "    .dataframe tbody tr th:only-of-type {\n",
       "        vertical-align: middle;\n",
       "    }\n",
       "\n",
       "    .dataframe tbody tr th {\n",
       "        vertical-align: top;\n",
       "    }\n",
       "\n",
       "    .dataframe thead th {\n",
       "        text-align: right;\n",
       "    }\n",
       "</style>\n",
       "<table border=\"1\" class=\"dataframe\">\n",
       "  <thead>\n",
       "    <tr style=\"text-align: right;\">\n",
       "      <th>gender</th>\n",
       "      <th>F</th>\n",
       "      <th>M</th>\n",
       "      <th>Total</th>\n",
       "    </tr>\n",
       "    <tr>\n",
       "      <th>score</th>\n",
       "      <th></th>\n",
       "      <th></th>\n",
       "      <th></th>\n",
       "    </tr>\n",
       "  </thead>\n",
       "  <tbody>\n",
       "    <tr>\n",
       "      <th>99.0</th>\n",
       "      <td>234</td>\n",
       "      <td>744</td>\n",
       "      <td>978</td>\n",
       "    </tr>\n",
       "    <tr>\n",
       "      <th>100.0</th>\n",
       "      <td>15209</td>\n",
       "      <td>5313</td>\n",
       "      <td>20522</td>\n",
       "    </tr>\n",
       "    <tr>\n",
       "      <th>Total</th>\n",
       "      <td>88471</td>\n",
       "      <td>118848</td>\n",
       "      <td>207319</td>\n",
       "    </tr>\n",
       "  </tbody>\n",
       "</table>\n",
       "</div>"
      ],
      "text/plain": [
       "gender      F       M   Total\n",
       "score                        \n",
       "99.0      234     744     978\n",
       "100.0   15209    5313   20522\n",
       "Total   88471  118848  207319"
      ]
     },
     "metadata": {},
     "output_type": "display_data"
    }
   ],
   "source": [
    "crossgender = pd.crosstab(data.score, data.gender, margins=True, margins_name='Total')\n",
    "display(crossgender.head(3))\n",
    "display(crossgender.tail(3))"
   ]
  },
  {
   "cell_type": "code",
   "execution_count": 23,
   "metadata": {},
   "outputs": [
    {
     "data": {
      "image/png": "[encoded data removed]",
      "text/plain": [
       "<Figure size 504x360 with 1 Axes>"
      ]
     },
     "metadata": {
      "needs_background": "light"
     },
     "output_type": "display_data"
    }
   ],
   "source": [
    "fig = plt.figure(figsize=(7,5))\n",
    "ax = fig.add_subplot(111)\n",
    "sns.countplot(x=\"gender\", data=data, palette='GnBu')\n",
    "ax.set_title(\"Students per gender\")\n",
    "plt.tight_layout()\n",
    "plt.show()"
   ]
  },
  {
   "cell_type": "markdown",
   "metadata": {},
   "source": [
    "### region"
   ]
  },
  {
   "cell_type": "code",
   "execution_count": 24,
   "metadata": {},
   "outputs": [
    {
     "data": {
      "text/plain": [
       "Scotland                22705\n",
       "East Anglian Region     21428\n",
       "South Region            20883\n",
       "London Region           19537\n",
       "North Western Region    16863\n",
       "South West Region       15938\n",
       "West Midlands Region    15604\n",
       "East Midlands Region    14719\n",
       "South East Region       13718\n",
       "Wales                   12970\n",
       "North Region            12271\n",
       "Yorkshire Region        12159\n",
       "Ireland                  8524\n",
       "Name: region, dtype: int64"
      ]
     },
     "execution_count": 24,
     "metadata": {},
     "output_type": "execute_result"
    }
   ],
   "source": [
    "data.region.value_counts()"
   ]
  },
  {
   "cell_type": "code",
   "execution_count": 25,
   "metadata": {},
   "outputs": [
    {
     "data": {
      "text/html": [
       "<div>\n",
       "<style scoped>\n",
       "    .dataframe tbody tr th:only-of-type {\n",
       "        vertical-align: middle;\n",
       "    }\n",
       "\n",
       "    .dataframe tbody tr th {\n",
       "        vertical-align: top;\n",
       "    }\n",
       "\n",
       "    .dataframe thead th {\n",
       "        text-align: right;\n",
       "    }\n",
       "</style>\n",
       "<table border=\"1\" class=\"dataframe\">\n",
       "  <thead>\n",
       "    <tr style=\"text-align: right;\">\n",
       "      <th>region</th>\n",
       "      <th>East Anglian Region</th>\n",
       "      <th>East Midlands Region</th>\n",
       "      <th>Ireland</th>\n",
       "      <th>London Region</th>\n",
       "      <th>North Region</th>\n",
       "      <th>North Western Region</th>\n",
       "      <th>Scotland</th>\n",
       "      <th>South East Region</th>\n",
       "      <th>South Region</th>\n",
       "      <th>South West Region</th>\n",
       "      <th>Wales</th>\n",
       "      <th>West Midlands Region</th>\n",
       "      <th>Yorkshire Region</th>\n",
       "      <th>Total</th>\n",
       "    </tr>\n",
       "    <tr>\n",
       "      <th>score</th>\n",
       "      <th></th>\n",
       "      <th></th>\n",
       "      <th></th>\n",
       "      <th></th>\n",
       "      <th></th>\n",
       "      <th></th>\n",
       "      <th></th>\n",
       "      <th></th>\n",
       "      <th></th>\n",
       "      <th></th>\n",
       "      <th></th>\n",
       "      <th></th>\n",
       "      <th></th>\n",
       "      <th></th>\n",
       "    </tr>\n",
       "  </thead>\n",
       "  <tbody>\n",
       "    <tr>\n",
       "      <th>0.0</th>\n",
       "      <td>48</td>\n",
       "      <td>44</td>\n",
       "      <td>35</td>\n",
       "      <td>69</td>\n",
       "      <td>42</td>\n",
       "      <td>45</td>\n",
       "      <td>54</td>\n",
       "      <td>22</td>\n",
       "      <td>53</td>\n",
       "      <td>41</td>\n",
       "      <td>56</td>\n",
       "      <td>56</td>\n",
       "      <td>52</td>\n",
       "      <td>617</td>\n",
       "    </tr>\n",
       "    <tr>\n",
       "      <th>1.0</th>\n",
       "      <td>84</td>\n",
       "      <td>62</td>\n",
       "      <td>7</td>\n",
       "      <td>55</td>\n",
       "      <td>40</td>\n",
       "      <td>49</td>\n",
       "      <td>70</td>\n",
       "      <td>50</td>\n",
       "      <td>98</td>\n",
       "      <td>54</td>\n",
       "      <td>90</td>\n",
       "      <td>55</td>\n",
       "      <td>69</td>\n",
       "      <td>783</td>\n",
       "    </tr>\n",
       "    <tr>\n",
       "      <th>2.0</th>\n",
       "      <td>1</td>\n",
       "      <td>0</td>\n",
       "      <td>0</td>\n",
       "      <td>1</td>\n",
       "      <td>0</td>\n",
       "      <td>3</td>\n",
       "      <td>7</td>\n",
       "      <td>1</td>\n",
       "      <td>1</td>\n",
       "      <td>2</td>\n",
       "      <td>0</td>\n",
       "      <td>1</td>\n",
       "      <td>0</td>\n",
       "      <td>17</td>\n",
       "    </tr>\n",
       "  </tbody>\n",
       "</table>\n",
       "</div>"
      ],
      "text/plain": [
       "region  East Anglian Region  East Midlands Region  Ireland  London Region  \\\n",
       "score                                                                       \n",
       "0.0                      48                    44       35             69   \n",
       "1.0                      84                    62        7             55   \n",
       "2.0                       1                     0        0              1   \n",
       "\n",
       "region  North Region  North Western Region  Scotland  South East Region  \\\n",
       "score                                                                     \n",
       "0.0               42                    45        54                 22   \n",
       "1.0               40                    49        70                 50   \n",
       "2.0                0                     3         7                  1   \n",
       "\n",
       "region  South Region  South West Region  Wales  West Midlands Region  \\\n",
       "score                                                                  \n",
       "0.0               53                 41     56                    56   \n",
       "1.0               98                 54     90                    55   \n",
       "2.0                1                  2      0                     1   \n",
       "\n",
       "region  Yorkshire Region  Total  \n",
       "score                            \n",
       "0.0                   52    617  \n",
       "1.0                   69    783  \n",
       "2.0                    0     17  "
      ]
     },
     "metadata": {},
     "output_type": "display_data"
    },
    {
     "data": {
      "text/html": [
       "<div>\n",
       "<style scoped>\n",
       "    .dataframe tbody tr th:only-of-type {\n",
       "        vertical-align: middle;\n",
       "    }\n",
       "\n",
       "    .dataframe tbody tr th {\n",
       "        vertical-align: top;\n",
       "    }\n",
       "\n",
       "    .dataframe thead th {\n",
       "        text-align: right;\n",
       "    }\n",
       "</style>\n",
       "<table border=\"1\" class=\"dataframe\">\n",
       "  <thead>\n",
       "    <tr style=\"text-align: right;\">\n",
       "      <th>region</th>\n",
       "      <th>East Anglian Region</th>\n",
       "      <th>East Midlands Region</th>\n",
       "      <th>Ireland</th>\n",
       "      <th>London Region</th>\n",
       "      <th>North Region</th>\n",
       "      <th>North Western Region</th>\n",
       "      <th>Scotland</th>\n",
       "      <th>South East Region</th>\n",
       "      <th>South Region</th>\n",
       "      <th>South West Region</th>\n",
       "      <th>Wales</th>\n",
       "      <th>West Midlands Region</th>\n",
       "      <th>Yorkshire Region</th>\n",
       "      <th>Total</th>\n",
       "    </tr>\n",
       "    <tr>\n",
       "      <th>score</th>\n",
       "      <th></th>\n",
       "      <th></th>\n",
       "      <th></th>\n",
       "      <th></th>\n",
       "      <th></th>\n",
       "      <th></th>\n",
       "      <th></th>\n",
       "      <th></th>\n",
       "      <th></th>\n",
       "      <th></th>\n",
       "      <th></th>\n",
       "      <th></th>\n",
       "      <th></th>\n",
       "      <th></th>\n",
       "    </tr>\n",
       "  </thead>\n",
       "  <tbody>\n",
       "    <tr>\n",
       "      <th>99.0</th>\n",
       "      <td>83</td>\n",
       "      <td>53</td>\n",
       "      <td>40</td>\n",
       "      <td>100</td>\n",
       "      <td>96</td>\n",
       "      <td>67</td>\n",
       "      <td>150</td>\n",
       "      <td>54</td>\n",
       "      <td>104</td>\n",
       "      <td>70</td>\n",
       "      <td>42</td>\n",
       "      <td>62</td>\n",
       "      <td>57</td>\n",
       "      <td>978</td>\n",
       "    </tr>\n",
       "    <tr>\n",
       "      <th>100.0</th>\n",
       "      <td>2297</td>\n",
       "      <td>1575</td>\n",
       "      <td>764</td>\n",
       "      <td>1846</td>\n",
       "      <td>945</td>\n",
       "      <td>1437</td>\n",
       "      <td>1803</td>\n",
       "      <td>1637</td>\n",
       "      <td>2010</td>\n",
       "      <td>1782</td>\n",
       "      <td>1531</td>\n",
       "      <td>1617</td>\n",
       "      <td>1278</td>\n",
       "      <td>20522</td>\n",
       "    </tr>\n",
       "    <tr>\n",
       "      <th>Total</th>\n",
       "      <td>21428</td>\n",
       "      <td>14719</td>\n",
       "      <td>8524</td>\n",
       "      <td>19537</td>\n",
       "      <td>12271</td>\n",
       "      <td>16863</td>\n",
       "      <td>22705</td>\n",
       "      <td>13718</td>\n",
       "      <td>20883</td>\n",
       "      <td>15938</td>\n",
       "      <td>12970</td>\n",
       "      <td>15604</td>\n",
       "      <td>12159</td>\n",
       "      <td>207319</td>\n",
       "    </tr>\n",
       "  </tbody>\n",
       "</table>\n",
       "</div>"
      ],
      "text/plain": [
       "region  East Anglian Region  East Midlands Region  Ireland  London Region  \\\n",
       "score                                                                       \n",
       "99.0                     83                    53       40            100   \n",
       "100.0                  2297                  1575      764           1846   \n",
       "Total                 21428                 14719     8524          19537   \n",
       "\n",
       "region  North Region  North Western Region  Scotland  South East Region  \\\n",
       "score                                                                     \n",
       "99.0              96                    67       150                 54   \n",
       "100.0            945                  1437      1803               1637   \n",
       "Total          12271                 16863     22705              13718   \n",
       "\n",
       "region  South Region  South West Region  Wales  West Midlands Region  \\\n",
       "score                                                                  \n",
       "99.0             104                 70     42                    62   \n",
       "100.0           2010               1782   1531                  1617   \n",
       "Total          20883              15938  12970                 15604   \n",
       "\n",
       "region  Yorkshire Region   Total  \n",
       "score                             \n",
       "99.0                  57     978  \n",
       "100.0               1278   20522  \n",
       "Total              12159  207319  "
      ]
     },
     "metadata": {},
     "output_type": "display_data"
    }
   ],
   "source": [
    "crossregion = pd.crosstab(data.score, data.region, margins=True, margins_name='Total')\n",
    "display(crossregion.head(3))\n",
    "display(crossregion.tail(3))"
   ]
  },
  {
   "cell_type": "code",
   "execution_count": 26,
   "metadata": {},
   "outputs": [
    {
     "data": {
      "image/png": "[encoded data removed]",
      "text/plain": [
       "<Figure size 432x288 with 1 Axes>"
      ]
     },
     "metadata": {
      "needs_background": "light"
     },
     "output_type": "display_data"
    }
   ],
   "source": [
    "ax = sns.countplot(x=\"region\", data=data, palette='YlGnBu')\n",
    "\n",
    "ax.set_xticklabels(ax.get_xticklabels(), rotation=40, ha=\"right\")\n",
    "plt.tight_layout()\n",
    "plt.show()"
   ]
  },
  {
   "cell_type": "markdown",
   "metadata": {},
   "source": [
    "### highest_education"
   ]
  },
  {
   "cell_type": "code",
   "execution_count": 27,
   "metadata": {},
   "outputs": [
    {
     "data": {
      "text/plain": [
       "A Level or Equivalent          95399\n",
       "Lower Than A Level             73733\n",
       "HE Qualification               33848\n",
       "Post Graduate Qualification     2713\n",
       "No Formal quals                 1626\n",
       "Name: highest_education, dtype: int64"
      ]
     },
     "execution_count": 27,
     "metadata": {},
     "output_type": "execute_result"
    }
   ],
   "source": [
    "data.highest_education.value_counts()"
   ]
  },
  {
   "cell_type": "code",
   "execution_count": 28,
   "metadata": {},
   "outputs": [
    {
     "data": {
      "text/html": [
       "<div>\n",
       "<style scoped>\n",
       "    .dataframe tbody tr th:only-of-type {\n",
       "        vertical-align: middle;\n",
       "    }\n",
       "\n",
       "    .dataframe tbody tr th {\n",
       "        vertical-align: top;\n",
       "    }\n",
       "\n",
       "    .dataframe thead th {\n",
       "        text-align: right;\n",
       "    }\n",
       "</style>\n",
       "<table border=\"1\" class=\"dataframe\">\n",
       "  <thead>\n",
       "    <tr style=\"text-align: right;\">\n",
       "      <th>highest_education</th>\n",
       "      <th>A Level or Equivalent</th>\n",
       "      <th>HE Qualification</th>\n",
       "      <th>Lower Than A Level</th>\n",
       "      <th>No Formal quals</th>\n",
       "      <th>Post Graduate Qualification</th>\n",
       "      <th>Total</th>\n",
       "    </tr>\n",
       "    <tr>\n",
       "      <th>score</th>\n",
       "      <th></th>\n",
       "      <th></th>\n",
       "      <th></th>\n",
       "      <th></th>\n",
       "      <th></th>\n",
       "      <th></th>\n",
       "    </tr>\n",
       "  </thead>\n",
       "  <tbody>\n",
       "    <tr>\n",
       "      <th>0.0</th>\n",
       "      <td>251</td>\n",
       "      <td>72</td>\n",
       "      <td>270</td>\n",
       "      <td>20</td>\n",
       "      <td>4</td>\n",
       "      <td>617</td>\n",
       "    </tr>\n",
       "    <tr>\n",
       "      <th>1.0</th>\n",
       "      <td>329</td>\n",
       "      <td>107</td>\n",
       "      <td>334</td>\n",
       "      <td>10</td>\n",
       "      <td>3</td>\n",
       "      <td>783</td>\n",
       "    </tr>\n",
       "    <tr>\n",
       "      <th>2.0</th>\n",
       "      <td>3</td>\n",
       "      <td>6</td>\n",
       "      <td>8</td>\n",
       "      <td>0</td>\n",
       "      <td>0</td>\n",
       "      <td>17</td>\n",
       "    </tr>\n",
       "  </tbody>\n",
       "</table>\n",
       "</div>"
      ],
      "text/plain": [
       "highest_education  A Level or Equivalent  HE Qualification  \\\n",
       "score                                                        \n",
       "0.0                                  251                72   \n",
       "1.0                                  329               107   \n",
       "2.0                                    3                 6   \n",
       "\n",
       "highest_education  Lower Than A Level  No Formal quals  \\\n",
       "score                                                    \n",
       "0.0                               270               20   \n",
       "1.0                               334               10   \n",
       "2.0                                 8                0   \n",
       "\n",
       "highest_education  Post Graduate Qualification  Total  \n",
       "score                                                  \n",
       "0.0                                          4    617  \n",
       "1.0                                          3    783  \n",
       "2.0                                          0     17  "
      ]
     },
     "metadata": {},
     "output_type": "display_data"
    },
    {
     "data": {
      "text/html": [
       "<div>\n",
       "<style scoped>\n",
       "    .dataframe tbody tr th:only-of-type {\n",
       "        vertical-align: middle;\n",
       "    }\n",
       "\n",
       "    .dataframe tbody tr th {\n",
       "        vertical-align: top;\n",
       "    }\n",
       "\n",
       "    .dataframe thead th {\n",
       "        text-align: right;\n",
       "    }\n",
       "</style>\n",
       "<table border=\"1\" class=\"dataframe\">\n",
       "  <thead>\n",
       "    <tr style=\"text-align: right;\">\n",
       "      <th>highest_education</th>\n",
       "      <th>A Level or Equivalent</th>\n",
       "      <th>HE Qualification</th>\n",
       "      <th>Lower Than A Level</th>\n",
       "      <th>No Formal quals</th>\n",
       "      <th>Post Graduate Qualification</th>\n",
       "      <th>Total</th>\n",
       "    </tr>\n",
       "    <tr>\n",
       "      <th>score</th>\n",
       "      <th></th>\n",
       "      <th></th>\n",
       "      <th></th>\n",
       "      <th></th>\n",
       "      <th></th>\n",
       "      <th></th>\n",
       "    </tr>\n",
       "  </thead>\n",
       "  <tbody>\n",
       "    <tr>\n",
       "      <th>99.0</th>\n",
       "      <td>418</td>\n",
       "      <td>268</td>\n",
       "      <td>241</td>\n",
       "      <td>3</td>\n",
       "      <td>48</td>\n",
       "      <td>978</td>\n",
       "    </tr>\n",
       "    <tr>\n",
       "      <th>100.0</th>\n",
       "      <td>9137</td>\n",
       "      <td>2806</td>\n",
       "      <td>8119</td>\n",
       "      <td>181</td>\n",
       "      <td>279</td>\n",
       "      <td>20522</td>\n",
       "    </tr>\n",
       "    <tr>\n",
       "      <th>Total</th>\n",
       "      <td>95399</td>\n",
       "      <td>33848</td>\n",
       "      <td>73733</td>\n",
       "      <td>1626</td>\n",
       "      <td>2713</td>\n",
       "      <td>207319</td>\n",
       "    </tr>\n",
       "  </tbody>\n",
       "</table>\n",
       "</div>"
      ],
      "text/plain": [
       "highest_education  A Level or Equivalent  HE Qualification  \\\n",
       "score                                                        \n",
       "99.0                                 418               268   \n",
       "100.0                               9137              2806   \n",
       "Total                              95399             33848   \n",
       "\n",
       "highest_education  Lower Than A Level  No Formal quals  \\\n",
       "score                                                    \n",
       "99.0                              241                3   \n",
       "100.0                            8119              181   \n",
       "Total                           73733             1626   \n",
       "\n",
       "highest_education  Post Graduate Qualification   Total  \n",
       "score                                                   \n",
       "99.0                                        48     978  \n",
       "100.0                                      279   20522  \n",
       "Total                                     2713  207319  "
      ]
     },
     "metadata": {},
     "output_type": "display_data"
    }
   ],
   "source": [
    "crosshi = pd.crosstab(data.score, data.highest_education, margins=True, margins_name='Total')\n",
    "display(crosshi.head(3))\n",
    "display(crosshi.tail(3))"
   ]
  },
  {
   "cell_type": "code",
   "execution_count": 29,
   "metadata": {},
   "outputs": [
    {
     "data": {
      "image/png": "[encoded data removed]",
      "text/plain": [
       "<Figure size 432x288 with 1 Axes>"
      ]
     },
     "metadata": {
      "needs_background": "light"
     },
     "output_type": "display_data"
    }
   ],
   "source": [
    "ax = sns.countplot(x=\"highest_education\", data=data, palette='YlGnBu')\n",
    "\n",
    "ax.set_xticklabels(ax.get_xticklabels(), rotation=40, ha=\"right\")\n",
    "plt.tight_layout()\n",
    "plt.show()"
   ]
  },
  {
   "cell_type": "markdown",
   "metadata": {},
   "source": [
    "### imd_band\n",
    "\n",
    "Specifies the Index of Multiple Depravation band of the place where the student lived during the module-presentation."
   ]
  },
  {
   "cell_type": "code",
   "execution_count": 30,
   "metadata": {},
   "outputs": [
    {
     "data": {
      "text/plain": [
       "30-40%     22785\n",
       "20-30%     21116\n",
       "50-60%     20004\n",
       "40-50%     19981\n",
       "10-20      19806\n",
       "70-80%     19433\n",
       "60-70%     19324\n",
       "80-90%     19156\n",
       "90-100%    18272\n",
       "0-10%      18127\n",
       "?           9315\n",
       "Name: imd_band, dtype: int64"
      ]
     },
     "execution_count": 30,
     "metadata": {},
     "output_type": "execute_result"
    }
   ],
   "source": [
    "data.imd_band.value_counts()"
   ]
  },
  {
   "cell_type": "code",
   "execution_count": 31,
   "metadata": {},
   "outputs": [
    {
     "data": {
      "text/html": [
       "<div>\n",
       "<style scoped>\n",
       "    .dataframe tbody tr th:only-of-type {\n",
       "        vertical-align: middle;\n",
       "    }\n",
       "\n",
       "    .dataframe tbody tr th {\n",
       "        vertical-align: top;\n",
       "    }\n",
       "\n",
       "    .dataframe thead th {\n",
       "        text-align: right;\n",
       "    }\n",
       "</style>\n",
       "<table border=\"1\" class=\"dataframe\">\n",
       "  <thead>\n",
       "    <tr style=\"text-align: right;\">\n",
       "      <th>imd_band</th>\n",
       "      <th>0-10%</th>\n",
       "      <th>10-20</th>\n",
       "      <th>20-30%</th>\n",
       "      <th>30-40%</th>\n",
       "      <th>40-50%</th>\n",
       "      <th>50-60%</th>\n",
       "      <th>60-70%</th>\n",
       "      <th>70-80%</th>\n",
       "      <th>80-90%</th>\n",
       "      <th>90-100%</th>\n",
       "      <th>?</th>\n",
       "      <th>Total</th>\n",
       "    </tr>\n",
       "    <tr>\n",
       "      <th>score</th>\n",
       "      <th></th>\n",
       "      <th></th>\n",
       "      <th></th>\n",
       "      <th></th>\n",
       "      <th></th>\n",
       "      <th></th>\n",
       "      <th></th>\n",
       "      <th></th>\n",
       "      <th></th>\n",
       "      <th></th>\n",
       "      <th></th>\n",
       "      <th></th>\n",
       "    </tr>\n",
       "  </thead>\n",
       "  <tbody>\n",
       "    <tr>\n",
       "      <th>0.0</th>\n",
       "      <td>101</td>\n",
       "      <td>95</td>\n",
       "      <td>77</td>\n",
       "      <td>65</td>\n",
       "      <td>53</td>\n",
       "      <td>55</td>\n",
       "      <td>45</td>\n",
       "      <td>47</td>\n",
       "      <td>34</td>\n",
       "      <td>31</td>\n",
       "      <td>14</td>\n",
       "      <td>617</td>\n",
       "    </tr>\n",
       "    <tr>\n",
       "      <th>1.0</th>\n",
       "      <td>75</td>\n",
       "      <td>109</td>\n",
       "      <td>98</td>\n",
       "      <td>94</td>\n",
       "      <td>81</td>\n",
       "      <td>80</td>\n",
       "      <td>73</td>\n",
       "      <td>61</td>\n",
       "      <td>62</td>\n",
       "      <td>43</td>\n",
       "      <td>7</td>\n",
       "      <td>783</td>\n",
       "    </tr>\n",
       "    <tr>\n",
       "      <th>2.0</th>\n",
       "      <td>1</td>\n",
       "      <td>3</td>\n",
       "      <td>0</td>\n",
       "      <td>0</td>\n",
       "      <td>1</td>\n",
       "      <td>3</td>\n",
       "      <td>3</td>\n",
       "      <td>5</td>\n",
       "      <td>0</td>\n",
       "      <td>1</td>\n",
       "      <td>0</td>\n",
       "      <td>17</td>\n",
       "    </tr>\n",
       "  </tbody>\n",
       "</table>\n",
       "</div>"
      ],
      "text/plain": [
       "imd_band  0-10%  10-20  20-30%  30-40%  40-50%  50-60%  60-70%  70-80%  \\\n",
       "score                                                                    \n",
       "0.0         101     95      77      65      53      55      45      47   \n",
       "1.0          75    109      98      94      81      80      73      61   \n",
       "2.0           1      3       0       0       1       3       3       5   \n",
       "\n",
       "imd_band  80-90%  90-100%   ?  Total  \n",
       "score                                 \n",
       "0.0           34       31  14    617  \n",
       "1.0           62       43   7    783  \n",
       "2.0            0        1   0     17  "
      ]
     },
     "metadata": {},
     "output_type": "display_data"
    },
    {
     "data": {
      "text/html": [
       "<div>\n",
       "<style scoped>\n",
       "    .dataframe tbody tr th:only-of-type {\n",
       "        vertical-align: middle;\n",
       "    }\n",
       "\n",
       "    .dataframe tbody tr th {\n",
       "        vertical-align: top;\n",
       "    }\n",
       "\n",
       "    .dataframe thead th {\n",
       "        text-align: right;\n",
       "    }\n",
       "</style>\n",
       "<table border=\"1\" class=\"dataframe\">\n",
       "  <thead>\n",
       "    <tr style=\"text-align: right;\">\n",
       "      <th>imd_band</th>\n",
       "      <th>0-10%</th>\n",
       "      <th>10-20</th>\n",
       "      <th>20-30%</th>\n",
       "      <th>30-40%</th>\n",
       "      <th>40-50%</th>\n",
       "      <th>50-60%</th>\n",
       "      <th>60-70%</th>\n",
       "      <th>70-80%</th>\n",
       "      <th>80-90%</th>\n",
       "      <th>90-100%</th>\n",
       "      <th>?</th>\n",
       "      <th>Total</th>\n",
       "    </tr>\n",
       "    <tr>\n",
       "      <th>score</th>\n",
       "      <th></th>\n",
       "      <th></th>\n",
       "      <th></th>\n",
       "      <th></th>\n",
       "      <th></th>\n",
       "      <th></th>\n",
       "      <th></th>\n",
       "      <th></th>\n",
       "      <th></th>\n",
       "      <th></th>\n",
       "      <th></th>\n",
       "      <th></th>\n",
       "    </tr>\n",
       "  </thead>\n",
       "  <tbody>\n",
       "    <tr>\n",
       "      <th>99.0</th>\n",
       "      <td>59</td>\n",
       "      <td>68</td>\n",
       "      <td>64</td>\n",
       "      <td>98</td>\n",
       "      <td>84</td>\n",
       "      <td>87</td>\n",
       "      <td>96</td>\n",
       "      <td>87</td>\n",
       "      <td>110</td>\n",
       "      <td>135</td>\n",
       "      <td>90</td>\n",
       "      <td>978</td>\n",
       "    </tr>\n",
       "    <tr>\n",
       "      <th>100.0</th>\n",
       "      <td>1777</td>\n",
       "      <td>2065</td>\n",
       "      <td>2134</td>\n",
       "      <td>2205</td>\n",
       "      <td>2098</td>\n",
       "      <td>2133</td>\n",
       "      <td>1888</td>\n",
       "      <td>1904</td>\n",
       "      <td>1924</td>\n",
       "      <td>1793</td>\n",
       "      <td>601</td>\n",
       "      <td>20522</td>\n",
       "    </tr>\n",
       "    <tr>\n",
       "      <th>Total</th>\n",
       "      <td>18127</td>\n",
       "      <td>19806</td>\n",
       "      <td>21116</td>\n",
       "      <td>22785</td>\n",
       "      <td>19981</td>\n",
       "      <td>20004</td>\n",
       "      <td>19324</td>\n",
       "      <td>19433</td>\n",
       "      <td>19156</td>\n",
       "      <td>18272</td>\n",
       "      <td>9315</td>\n",
       "      <td>207319</td>\n",
       "    </tr>\n",
       "  </tbody>\n",
       "</table>\n",
       "</div>"
      ],
      "text/plain": [
       "imd_band  0-10%  10-20  20-30%  30-40%  40-50%  50-60%  60-70%  70-80%  \\\n",
       "score                                                                    \n",
       "99.0         59     68      64      98      84      87      96      87   \n",
       "100.0      1777   2065    2134    2205    2098    2133    1888    1904   \n",
       "Total     18127  19806   21116   22785   19981   20004   19324   19433   \n",
       "\n",
       "imd_band  80-90%  90-100%     ?   Total  \n",
       "score                                    \n",
       "99.0         110      135    90     978  \n",
       "100.0       1924     1793   601   20522  \n",
       "Total      19156    18272  9315  207319  "
      ]
     },
     "metadata": {},
     "output_type": "display_data"
    }
   ],
   "source": [
    "crossimd = pd.crosstab(data.score, data.imd_band, margins=True, margins_name='Total')\n",
    "display(crossimd.head(3))\n",
    "display(crossimd.tail(3))"
   ]
  },
  {
   "cell_type": "code",
   "execution_count": 32,
   "metadata": {},
   "outputs": [
    {
     "data": {
      "image/png": "[encoded data removed]",
      "text/plain": [
       "<Figure size 432x288 with 1 Axes>"
      ]
     },
     "metadata": {
      "needs_background": "light"
     },
     "output_type": "display_data"
    }
   ],
   "source": [
    "ax = sns.countplot(x=\"imd_band\", data=data, palette='YlGnBu')\n",
    "\n",
    "ax.set_xticklabels(ax.get_xticklabels(), rotation=40, ha=\"right\")\n",
    "plt.tight_layout()\n",
    "plt.show()"
   ]
  },
  {
   "cell_type": "markdown",
   "metadata": {},
   "source": [
    "### age_band"
   ]
  },
  {
   "cell_type": "code",
   "execution_count": 33,
   "metadata": {},
   "outputs": [
    {
     "data": {
      "text/plain": [
       "0-35     143353\n",
       "35-55     62423\n",
       "55<=       1543\n",
       "Name: age_band, dtype: int64"
      ]
     },
     "execution_count": 33,
     "metadata": {},
     "output_type": "execute_result"
    }
   ],
   "source": [
    "data.age_band.value_counts()"
   ]
  },
  {
   "cell_type": "code",
   "execution_count": 34,
   "metadata": {},
   "outputs": [
    {
     "data": {
      "text/html": [
       "<div>\n",
       "<style scoped>\n",
       "    .dataframe tbody tr th:only-of-type {\n",
       "        vertical-align: middle;\n",
       "    }\n",
       "\n",
       "    .dataframe tbody tr th {\n",
       "        vertical-align: top;\n",
       "    }\n",
       "\n",
       "    .dataframe thead th {\n",
       "        text-align: right;\n",
       "    }\n",
       "</style>\n",
       "<table border=\"1\" class=\"dataframe\">\n",
       "  <thead>\n",
       "    <tr style=\"text-align: right;\">\n",
       "      <th>age_band</th>\n",
       "      <th>0-35</th>\n",
       "      <th>35-55</th>\n",
       "      <th>55&lt;=</th>\n",
       "      <th>Total</th>\n",
       "    </tr>\n",
       "    <tr>\n",
       "      <th>score</th>\n",
       "      <th></th>\n",
       "      <th></th>\n",
       "      <th></th>\n",
       "      <th></th>\n",
       "    </tr>\n",
       "  </thead>\n",
       "  <tbody>\n",
       "    <tr>\n",
       "      <th>0.0</th>\n",
       "      <td>441</td>\n",
       "      <td>171</td>\n",
       "      <td>5</td>\n",
       "      <td>617</td>\n",
       "    </tr>\n",
       "    <tr>\n",
       "      <th>1.0</th>\n",
       "      <td>501</td>\n",
       "      <td>279</td>\n",
       "      <td>3</td>\n",
       "      <td>783</td>\n",
       "    </tr>\n",
       "    <tr>\n",
       "      <th>2.0</th>\n",
       "      <td>12</td>\n",
       "      <td>5</td>\n",
       "      <td>0</td>\n",
       "      <td>17</td>\n",
       "    </tr>\n",
       "  </tbody>\n",
       "</table>\n",
       "</div>"
      ],
      "text/plain": [
       "age_band  0-35  35-55  55<=  Total\n",
       "score                             \n",
       "0.0        441    171     5    617\n",
       "1.0        501    279     3    783\n",
       "2.0         12      5     0     17"
      ]
     },
     "metadata": {},
     "output_type": "display_data"
    },
    {
     "data": {
      "text/html": [
       "<div>\n",
       "<style scoped>\n",
       "    .dataframe tbody tr th:only-of-type {\n",
       "        vertical-align: middle;\n",
       "    }\n",
       "\n",
       "    .dataframe tbody tr th {\n",
       "        vertical-align: top;\n",
       "    }\n",
       "\n",
       "    .dataframe thead th {\n",
       "        text-align: right;\n",
       "    }\n",
       "</style>\n",
       "<table border=\"1\" class=\"dataframe\">\n",
       "  <thead>\n",
       "    <tr style=\"text-align: right;\">\n",
       "      <th>age_band</th>\n",
       "      <th>0-35</th>\n",
       "      <th>35-55</th>\n",
       "      <th>55&lt;=</th>\n",
       "      <th>Total</th>\n",
       "    </tr>\n",
       "    <tr>\n",
       "      <th>score</th>\n",
       "      <th></th>\n",
       "      <th></th>\n",
       "      <th></th>\n",
       "      <th></th>\n",
       "    </tr>\n",
       "  </thead>\n",
       "  <tbody>\n",
       "    <tr>\n",
       "      <th>99.0</th>\n",
       "      <td>604</td>\n",
       "      <td>358</td>\n",
       "      <td>16</td>\n",
       "      <td>978</td>\n",
       "    </tr>\n",
       "    <tr>\n",
       "      <th>100.0</th>\n",
       "      <td>12248</td>\n",
       "      <td>8156</td>\n",
       "      <td>118</td>\n",
       "      <td>20522</td>\n",
       "    </tr>\n",
       "    <tr>\n",
       "      <th>Total</th>\n",
       "      <td>143353</td>\n",
       "      <td>62423</td>\n",
       "      <td>1543</td>\n",
       "      <td>207319</td>\n",
       "    </tr>\n",
       "  </tbody>\n",
       "</table>\n",
       "</div>"
      ],
      "text/plain": [
       "age_band    0-35  35-55  55<=   Total\n",
       "score                                \n",
       "99.0         604    358    16     978\n",
       "100.0      12248   8156   118   20522\n",
       "Total     143353  62423  1543  207319"
      ]
     },
     "metadata": {},
     "output_type": "display_data"
    }
   ],
   "source": [
    "crossage = pd.crosstab(data.score, data.age_band, margins=True, margins_name='Total')\n",
    "display(crossage.head(3))\n",
    "display(crossage.tail(3))"
   ]
  },
  {
   "cell_type": "code",
   "execution_count": 35,
   "metadata": {},
   "outputs": [
    {
     "data": {
      "image/png": "[encoded data removed]",
      "text/plain": [
       "<Figure size 432x288 with 1 Axes>"
      ]
     },
     "metadata": {
      "needs_background": "light"
     },
     "output_type": "display_data"
    }
   ],
   "source": [
    "ax = sns.countplot(x=\"age_band\", data=data, palette='YlGnBu')\n",
    "\n",
    "ax.set_xticklabels(ax.get_xticklabels(), rotation=40, ha=\"right\")\n",
    "plt.tight_layout()\n",
    "plt.show()"
   ]
  },
  {
   "cell_type": "markdown",
   "metadata": {},
   "source": [
    "### disability"
   ]
  },
  {
   "cell_type": "code",
   "execution_count": 36,
   "metadata": {},
   "outputs": [
    {
     "data": {
      "text/plain": [
       "N    188358\n",
       "Y     18961\n",
       "Name: disability, dtype: int64"
      ]
     },
     "execution_count": 36,
     "metadata": {},
     "output_type": "execute_result"
    }
   ],
   "source": [
    "data.disability.value_counts()"
   ]
  },
  {
   "cell_type": "code",
   "execution_count": 37,
   "metadata": {},
   "outputs": [
    {
     "data": {
      "text/html": [
       "<div>\n",
       "<style scoped>\n",
       "    .dataframe tbody tr th:only-of-type {\n",
       "        vertical-align: middle;\n",
       "    }\n",
       "\n",
       "    .dataframe tbody tr th {\n",
       "        vertical-align: top;\n",
       "    }\n",
       "\n",
       "    .dataframe thead th {\n",
       "        text-align: right;\n",
       "    }\n",
       "</style>\n",
       "<table border=\"1\" class=\"dataframe\">\n",
       "  <thead>\n",
       "    <tr style=\"text-align: right;\">\n",
       "      <th>disability</th>\n",
       "      <th>N</th>\n",
       "      <th>Y</th>\n",
       "      <th>Total</th>\n",
       "    </tr>\n",
       "    <tr>\n",
       "      <th>score</th>\n",
       "      <th></th>\n",
       "      <th></th>\n",
       "      <th></th>\n",
       "    </tr>\n",
       "  </thead>\n",
       "  <tbody>\n",
       "    <tr>\n",
       "      <th>0.0</th>\n",
       "      <td>535</td>\n",
       "      <td>82</td>\n",
       "      <td>617</td>\n",
       "    </tr>\n",
       "    <tr>\n",
       "      <th>1.0</th>\n",
       "      <td>710</td>\n",
       "      <td>73</td>\n",
       "      <td>783</td>\n",
       "    </tr>\n",
       "    <tr>\n",
       "      <th>2.0</th>\n",
       "      <td>15</td>\n",
       "      <td>2</td>\n",
       "      <td>17</td>\n",
       "    </tr>\n",
       "  </tbody>\n",
       "</table>\n",
       "</div>"
      ],
      "text/plain": [
       "disability    N   Y  Total\n",
       "score                     \n",
       "0.0         535  82    617\n",
       "1.0         710  73    783\n",
       "2.0          15   2     17"
      ]
     },
     "metadata": {},
     "output_type": "display_data"
    },
    {
     "data": {
      "text/html": [
       "<div>\n",
       "<style scoped>\n",
       "    .dataframe tbody tr th:only-of-type {\n",
       "        vertical-align: middle;\n",
       "    }\n",
       "\n",
       "    .dataframe tbody tr th {\n",
       "        vertical-align: top;\n",
       "    }\n",
       "\n",
       "    .dataframe thead th {\n",
       "        text-align: right;\n",
       "    }\n",
       "</style>\n",
       "<table border=\"1\" class=\"dataframe\">\n",
       "  <thead>\n",
       "    <tr style=\"text-align: right;\">\n",
       "      <th>disability</th>\n",
       "      <th>N</th>\n",
       "      <th>Y</th>\n",
       "      <th>Total</th>\n",
       "    </tr>\n",
       "    <tr>\n",
       "      <th>score</th>\n",
       "      <th></th>\n",
       "      <th></th>\n",
       "      <th></th>\n",
       "    </tr>\n",
       "  </thead>\n",
       "  <tbody>\n",
       "    <tr>\n",
       "      <th>99.0</th>\n",
       "      <td>922</td>\n",
       "      <td>56</td>\n",
       "      <td>978</td>\n",
       "    </tr>\n",
       "    <tr>\n",
       "      <th>100.0</th>\n",
       "      <td>18556</td>\n",
       "      <td>1966</td>\n",
       "      <td>20522</td>\n",
       "    </tr>\n",
       "    <tr>\n",
       "      <th>Total</th>\n",
       "      <td>188358</td>\n",
       "      <td>18961</td>\n",
       "      <td>207319</td>\n",
       "    </tr>\n",
       "  </tbody>\n",
       "</table>\n",
       "</div>"
      ],
      "text/plain": [
       "disability       N      Y   Total\n",
       "score                            \n",
       "99.0           922     56     978\n",
       "100.0        18556   1966   20522\n",
       "Total       188358  18961  207319"
      ]
     },
     "metadata": {},
     "output_type": "display_data"
    }
   ],
   "source": [
    "crossdi = pd.crosstab(data.score, data.disability, margins=True, margins_name='Total')\n",
    "display(crossdi.head(3))\n",
    "display(crossdi.tail(3))"
   ]
  },
  {
   "cell_type": "code",
   "execution_count": 38,
   "metadata": {},
   "outputs": [
    {
     "data": {
      "image/png": "[encoded data removed]",
      "text/plain": [
       "<Figure size 432x288 with 1 Axes>"
      ]
     },
     "metadata": {
      "needs_background": "light"
     },
     "output_type": "display_data"
    }
   ],
   "source": [
    "ax = sns.countplot(x=\"disability\", data=data, palette='YlGnBu')\n",
    "\n",
    "ax.set_xticklabels(ax.get_xticklabels(), rotation=40, ha=\"right\")\n",
    "plt.tight_layout()\n",
    "plt.show()"
   ]
  },
  {
   "cell_type": "markdown",
   "metadata": {},
   "source": [
    "### final_result"
   ]
  },
  {
   "cell_type": "code",
   "execution_count": 39,
   "metadata": {},
   "outputs": [
    {
     "data": {
      "text/plain": [
       "Pass           118025\n",
       "Fail            32976\n",
       "Distinction     30344\n",
       "Withdrawn       25974\n",
       "Name: final_result, dtype: int64"
      ]
     },
     "execution_count": 39,
     "metadata": {},
     "output_type": "execute_result"
    }
   ],
   "source": [
    "data.final_result.value_counts()"
   ]
  },
  {
   "cell_type": "code",
   "execution_count": 40,
   "metadata": {},
   "outputs": [
    {
     "data": {
      "text/html": [
       "<div>\n",
       "<style scoped>\n",
       "    .dataframe tbody tr th:only-of-type {\n",
       "        vertical-align: middle;\n",
       "    }\n",
       "\n",
       "    .dataframe tbody tr th {\n",
       "        vertical-align: top;\n",
       "    }\n",
       "\n",
       "    .dataframe thead th {\n",
       "        text-align: right;\n",
       "    }\n",
       "</style>\n",
       "<table border=\"1\" class=\"dataframe\">\n",
       "  <thead>\n",
       "    <tr style=\"text-align: right;\">\n",
       "      <th>final_result</th>\n",
       "      <th>Distinction</th>\n",
       "      <th>Fail</th>\n",
       "      <th>Pass</th>\n",
       "      <th>Withdrawn</th>\n",
       "      <th>Total</th>\n",
       "    </tr>\n",
       "    <tr>\n",
       "      <th>score</th>\n",
       "      <th></th>\n",
       "      <th></th>\n",
       "      <th></th>\n",
       "      <th></th>\n",
       "      <th></th>\n",
       "    </tr>\n",
       "  </thead>\n",
       "  <tbody>\n",
       "    <tr>\n",
       "      <th>0.0</th>\n",
       "      <td>5</td>\n",
       "      <td>265</td>\n",
       "      <td>116</td>\n",
       "      <td>231</td>\n",
       "      <td>617</td>\n",
       "    </tr>\n",
       "    <tr>\n",
       "      <th>1.0</th>\n",
       "      <td>81</td>\n",
       "      <td>146</td>\n",
       "      <td>385</td>\n",
       "      <td>171</td>\n",
       "      <td>783</td>\n",
       "    </tr>\n",
       "    <tr>\n",
       "      <th>2.0</th>\n",
       "      <td>0</td>\n",
       "      <td>7</td>\n",
       "      <td>3</td>\n",
       "      <td>7</td>\n",
       "      <td>17</td>\n",
       "    </tr>\n",
       "  </tbody>\n",
       "</table>\n",
       "</div>"
      ],
      "text/plain": [
       "final_result  Distinction  Fail  Pass  Withdrawn  Total\n",
       "score                                                  \n",
       "0.0                     5   265   116        231    617\n",
       "1.0                    81   146   385        171    783\n",
       "2.0                     0     7     3          7     17"
      ]
     },
     "metadata": {},
     "output_type": "display_data"
    },
    {
     "data": {
      "text/html": [
       "<div>\n",
       "<style scoped>\n",
       "    .dataframe tbody tr th:only-of-type {\n",
       "        vertical-align: middle;\n",
       "    }\n",
       "\n",
       "    .dataframe tbody tr th {\n",
       "        vertical-align: top;\n",
       "    }\n",
       "\n",
       "    .dataframe thead th {\n",
       "        text-align: right;\n",
       "    }\n",
       "</style>\n",
       "<table border=\"1\" class=\"dataframe\">\n",
       "  <thead>\n",
       "    <tr style=\"text-align: right;\">\n",
       "      <th>final_result</th>\n",
       "      <th>Distinction</th>\n",
       "      <th>Fail</th>\n",
       "      <th>Pass</th>\n",
       "      <th>Withdrawn</th>\n",
       "      <th>Total</th>\n",
       "    </tr>\n",
       "    <tr>\n",
       "      <th>score</th>\n",
       "      <th></th>\n",
       "      <th></th>\n",
       "      <th></th>\n",
       "      <th></th>\n",
       "      <th></th>\n",
       "    </tr>\n",
       "  </thead>\n",
       "  <tbody>\n",
       "    <tr>\n",
       "      <th>99.0</th>\n",
       "      <td>464</td>\n",
       "      <td>39</td>\n",
       "      <td>417</td>\n",
       "      <td>58</td>\n",
       "      <td>978</td>\n",
       "    </tr>\n",
       "    <tr>\n",
       "      <th>100.0</th>\n",
       "      <td>5679</td>\n",
       "      <td>2177</td>\n",
       "      <td>11235</td>\n",
       "      <td>1431</td>\n",
       "      <td>20522</td>\n",
       "    </tr>\n",
       "    <tr>\n",
       "      <th>Total</th>\n",
       "      <td>30344</td>\n",
       "      <td>32976</td>\n",
       "      <td>118025</td>\n",
       "      <td>25974</td>\n",
       "      <td>207319</td>\n",
       "    </tr>\n",
       "  </tbody>\n",
       "</table>\n",
       "</div>"
      ],
      "text/plain": [
       "final_result  Distinction   Fail    Pass  Withdrawn   Total\n",
       "score                                                      \n",
       "99.0                  464     39     417         58     978\n",
       "100.0                5679   2177   11235       1431   20522\n",
       "Total               30344  32976  118025      25974  207319"
      ]
     },
     "metadata": {},
     "output_type": "display_data"
    }
   ],
   "source": [
    "crossfi = pd.crosstab(data.score, data.final_result, margins=True, margins_name='Total')\n",
    "display(crossfi.head(3))\n",
    "display(crossfi.tail(3))"
   ]
  },
  {
   "cell_type": "code",
   "execution_count": 41,
   "metadata": {},
   "outputs": [
    {
     "data": {
      "image/png": "[encoded data removed]",
      "text/plain": [
       "<Figure size 432x288 with 1 Axes>"
      ]
     },
     "metadata": {
      "needs_background": "light"
     },
     "output_type": "display_data"
    }
   ],
   "source": [
    "ax = sns.countplot(x=\"final_result\", data=data, palette='YlGnBu')\n",
    "\n",
    "ax.set_xticklabels(ax.get_xticklabels(), rotation=40, ha=\"right\")\n",
    "plt.tight_layout()\n",
    "plt.show()"
   ]
  },
  {
   "cell_type": "markdown",
   "metadata": {},
   "source": [
    "## Numerical variables:\n",
    "\n",
    "- date_submitted\n",
    "- score\n",
    "- num_of_prev_attempts\n",
    "- studied_credits\n",
    "- module_presentation_length"
   ]
  },
  {
   "cell_type": "markdown",
   "metadata": {},
   "source": [
    "\"Score\" column should be numeric, so we will have to transform the column type later on, when we get to analyse the column."
   ]
  },
  {
   "cell_type": "markdown",
   "metadata": {},
   "source": [
    "### date_submitted\n",
    "\n",
    "The date of student submission, measured as the number of days since the start of the module presentation."
   ]
  },
  {
   "cell_type": "code",
   "execution_count": 42,
   "metadata": {},
   "outputs": [
    {
     "data": {
      "text/plain": [
       "count    207319.000000\n",
       "mean        114.501493\n",
       "std          72.473110\n",
       "min         -11.000000\n",
       "25%          50.000000\n",
       "50%         114.000000\n",
       "75%         172.000000\n",
       "max         608.000000\n",
       "Name: date_submitted, dtype: float64"
      ]
     },
     "metadata": {},
     "output_type": "display_data"
    },
    {
     "data": {
      "image/png": "[encoded data removed]",
      "text/plain": [
       "<Figure size 432x288 with 1 Axes>"
      ]
     },
     "metadata": {
      "needs_background": "light"
     },
     "output_type": "display_data"
    },
    {
     "data": {
      "image/png": "[encoded data removed]",
      "text/plain": [
       "<Figure size 432x288 with 1 Axes>"
      ]
     },
     "metadata": {
      "needs_background": "light"
     },
     "output_type": "display_data"
    }
   ],
   "source": [
    "display(data.date_submitted.describe())\n",
    "\n",
    "data.boxplot(column= ['date_submitted'])\n",
    "plt.show()\n",
    "\n",
    "sns.distplot(data.date_submitted)\n",
    "plt.show()"
   ]
  },
  {
   "cell_type": "code",
   "execution_count": 43,
   "metadata": {},
   "outputs": [
    {
     "data": {
      "text/html": [
       "<div>\n",
       "<style scoped>\n",
       "    .dataframe tbody tr th:only-of-type {\n",
       "        vertical-align: middle;\n",
       "    }\n",
       "\n",
       "    .dataframe tbody tr th {\n",
       "        vertical-align: top;\n",
       "    }\n",
       "\n",
       "    .dataframe thead th {\n",
       "        text-align: right;\n",
       "    }\n",
       "</style>\n",
       "<table border=\"1\" class=\"dataframe\">\n",
       "  <thead>\n",
       "    <tr style=\"text-align: right;\">\n",
       "      <th>date_submitted</th>\n",
       "      <th>-11</th>\n",
       "      <th>-10</th>\n",
       "      <th>-9</th>\n",
       "      <th>-8</th>\n",
       "      <th>-7</th>\n",
       "      <th>-6</th>\n",
       "      <th>-5</th>\n",
       "      <th>-4</th>\n",
       "      <th>-3</th>\n",
       "      <th>-2</th>\n",
       "      <th>...</th>\n",
       "      <th>570</th>\n",
       "      <th>578</th>\n",
       "      <th>584</th>\n",
       "      <th>586</th>\n",
       "      <th>590</th>\n",
       "      <th>591</th>\n",
       "      <th>592</th>\n",
       "      <th>594</th>\n",
       "      <th>608</th>\n",
       "      <th>Total</th>\n",
       "    </tr>\n",
       "    <tr>\n",
       "      <th>score</th>\n",
       "      <th></th>\n",
       "      <th></th>\n",
       "      <th></th>\n",
       "      <th></th>\n",
       "      <th></th>\n",
       "      <th></th>\n",
       "      <th></th>\n",
       "      <th></th>\n",
       "      <th></th>\n",
       "      <th></th>\n",
       "      <th></th>\n",
       "      <th></th>\n",
       "      <th></th>\n",
       "      <th></th>\n",
       "      <th></th>\n",
       "      <th></th>\n",
       "      <th></th>\n",
       "      <th></th>\n",
       "      <th></th>\n",
       "      <th></th>\n",
       "      <th></th>\n",
       "    </tr>\n",
       "  </thead>\n",
       "  <tbody>\n",
       "    <tr>\n",
       "      <th>0.0</th>\n",
       "      <td>0</td>\n",
       "      <td>0</td>\n",
       "      <td>0</td>\n",
       "      <td>0</td>\n",
       "      <td>0</td>\n",
       "      <td>0</td>\n",
       "      <td>0</td>\n",
       "      <td>0</td>\n",
       "      <td>0</td>\n",
       "      <td>1</td>\n",
       "      <td>...</td>\n",
       "      <td>0</td>\n",
       "      <td>0</td>\n",
       "      <td>0</td>\n",
       "      <td>0</td>\n",
       "      <td>0</td>\n",
       "      <td>0</td>\n",
       "      <td>0</td>\n",
       "      <td>0</td>\n",
       "      <td>0</td>\n",
       "      <td>617</td>\n",
       "    </tr>\n",
       "    <tr>\n",
       "      <th>1.0</th>\n",
       "      <td>0</td>\n",
       "      <td>0</td>\n",
       "      <td>0</td>\n",
       "      <td>0</td>\n",
       "      <td>0</td>\n",
       "      <td>1</td>\n",
       "      <td>3</td>\n",
       "      <td>2</td>\n",
       "      <td>6</td>\n",
       "      <td>3</td>\n",
       "      <td>...</td>\n",
       "      <td>0</td>\n",
       "      <td>0</td>\n",
       "      <td>0</td>\n",
       "      <td>0</td>\n",
       "      <td>0</td>\n",
       "      <td>0</td>\n",
       "      <td>0</td>\n",
       "      <td>0</td>\n",
       "      <td>0</td>\n",
       "      <td>783</td>\n",
       "    </tr>\n",
       "    <tr>\n",
       "      <th>2.0</th>\n",
       "      <td>0</td>\n",
       "      <td>0</td>\n",
       "      <td>0</td>\n",
       "      <td>0</td>\n",
       "      <td>0</td>\n",
       "      <td>0</td>\n",
       "      <td>0</td>\n",
       "      <td>0</td>\n",
       "      <td>0</td>\n",
       "      <td>0</td>\n",
       "      <td>...</td>\n",
       "      <td>0</td>\n",
       "      <td>0</td>\n",
       "      <td>0</td>\n",
       "      <td>0</td>\n",
       "      <td>0</td>\n",
       "      <td>0</td>\n",
       "      <td>0</td>\n",
       "      <td>0</td>\n",
       "      <td>0</td>\n",
       "      <td>17</td>\n",
       "    </tr>\n",
       "  </tbody>\n",
       "</table>\n",
       "<p>3 rows × 313 columns</p>\n",
       "</div>"
      ],
      "text/plain": [
       "date_submitted  -11  -10  -9  -8  -7  -6  -5  -4  -3  -2  ...  570  578  584  \\\n",
       "score                                                     ...                  \n",
       "0.0               0    0   0   0   0   0   0   0   0   1  ...    0    0    0   \n",
       "1.0               0    0   0   0   0   1   3   2   6   3  ...    0    0    0   \n",
       "2.0               0    0   0   0   0   0   0   0   0   0  ...    0    0    0   \n",
       "\n",
       "date_submitted  586  590  591  592  594  608  Total  \n",
       "score                                                \n",
       "0.0               0    0    0    0    0    0    617  \n",
       "1.0               0    0    0    0    0    0    783  \n",
       "2.0               0    0    0    0    0    0     17  \n",
       "\n",
       "[3 rows x 313 columns]"
      ]
     },
     "metadata": {},
     "output_type": "display_data"
    },
    {
     "data": {
      "text/html": [
       "<div>\n",
       "<style scoped>\n",
       "    .dataframe tbody tr th:only-of-type {\n",
       "        vertical-align: middle;\n",
       "    }\n",
       "\n",
       "    .dataframe tbody tr th {\n",
       "        vertical-align: top;\n",
       "    }\n",
       "\n",
       "    .dataframe thead th {\n",
       "        text-align: right;\n",
       "    }\n",
       "</style>\n",
       "<table border=\"1\" class=\"dataframe\">\n",
       "  <thead>\n",
       "    <tr style=\"text-align: right;\">\n",
       "      <th>date_submitted</th>\n",
       "      <th>-11</th>\n",
       "      <th>-10</th>\n",
       "      <th>-9</th>\n",
       "      <th>-8</th>\n",
       "      <th>-7</th>\n",
       "      <th>-6</th>\n",
       "      <th>-5</th>\n",
       "      <th>-4</th>\n",
       "      <th>-3</th>\n",
       "      <th>-2</th>\n",
       "      <th>...</th>\n",
       "      <th>570</th>\n",
       "      <th>578</th>\n",
       "      <th>584</th>\n",
       "      <th>586</th>\n",
       "      <th>590</th>\n",
       "      <th>591</th>\n",
       "      <th>592</th>\n",
       "      <th>594</th>\n",
       "      <th>608</th>\n",
       "      <th>Total</th>\n",
       "    </tr>\n",
       "    <tr>\n",
       "      <th>score</th>\n",
       "      <th></th>\n",
       "      <th></th>\n",
       "      <th></th>\n",
       "      <th></th>\n",
       "      <th></th>\n",
       "      <th></th>\n",
       "      <th></th>\n",
       "      <th></th>\n",
       "      <th></th>\n",
       "      <th></th>\n",
       "      <th></th>\n",
       "      <th></th>\n",
       "      <th></th>\n",
       "      <th></th>\n",
       "      <th></th>\n",
       "      <th></th>\n",
       "      <th></th>\n",
       "      <th></th>\n",
       "      <th></th>\n",
       "      <th></th>\n",
       "      <th></th>\n",
       "    </tr>\n",
       "  </thead>\n",
       "  <tbody>\n",
       "    <tr>\n",
       "      <th>99.0</th>\n",
       "      <td>0</td>\n",
       "      <td>0</td>\n",
       "      <td>0</td>\n",
       "      <td>2</td>\n",
       "      <td>0</td>\n",
       "      <td>0</td>\n",
       "      <td>0</td>\n",
       "      <td>0</td>\n",
       "      <td>0</td>\n",
       "      <td>0</td>\n",
       "      <td>...</td>\n",
       "      <td>0</td>\n",
       "      <td>0</td>\n",
       "      <td>0</td>\n",
       "      <td>0</td>\n",
       "      <td>0</td>\n",
       "      <td>0</td>\n",
       "      <td>0</td>\n",
       "      <td>0</td>\n",
       "      <td>0</td>\n",
       "      <td>978</td>\n",
       "    </tr>\n",
       "    <tr>\n",
       "      <th>100.0</th>\n",
       "      <td>0</td>\n",
       "      <td>0</td>\n",
       "      <td>0</td>\n",
       "      <td>6</td>\n",
       "      <td>0</td>\n",
       "      <td>0</td>\n",
       "      <td>5</td>\n",
       "      <td>5</td>\n",
       "      <td>8</td>\n",
       "      <td>7</td>\n",
       "      <td>...</td>\n",
       "      <td>0</td>\n",
       "      <td>0</td>\n",
       "      <td>0</td>\n",
       "      <td>0</td>\n",
       "      <td>0</td>\n",
       "      <td>0</td>\n",
       "      <td>0</td>\n",
       "      <td>0</td>\n",
       "      <td>0</td>\n",
       "      <td>20522</td>\n",
       "    </tr>\n",
       "    <tr>\n",
       "      <th>Total</th>\n",
       "      <td>1</td>\n",
       "      <td>1</td>\n",
       "      <td>1</td>\n",
       "      <td>44</td>\n",
       "      <td>4</td>\n",
       "      <td>7</td>\n",
       "      <td>13</td>\n",
       "      <td>12</td>\n",
       "      <td>32</td>\n",
       "      <td>28</td>\n",
       "      <td>...</td>\n",
       "      <td>2</td>\n",
       "      <td>4</td>\n",
       "      <td>6</td>\n",
       "      <td>2</td>\n",
       "      <td>2</td>\n",
       "      <td>10</td>\n",
       "      <td>6</td>\n",
       "      <td>8</td>\n",
       "      <td>10</td>\n",
       "      <td>207319</td>\n",
       "    </tr>\n",
       "  </tbody>\n",
       "</table>\n",
       "<p>3 rows × 313 columns</p>\n",
       "</div>"
      ],
      "text/plain": [
       "date_submitted  -11  -10  -9  -8  -7  -6  -5  -4  -3  -2  ...  570  578  584  \\\n",
       "score                                                     ...                  \n",
       "99.0              0    0   0   2   0   0   0   0   0   0  ...    0    0    0   \n",
       "100.0             0    0   0   6   0   0   5   5   8   7  ...    0    0    0   \n",
       "Total             1    1   1  44   4   7  13  12  32  28  ...    2    4    6   \n",
       "\n",
       "date_submitted  586  590  591  592  594  608   Total  \n",
       "score                                                 \n",
       "99.0              0    0    0    0    0    0     978  \n",
       "100.0             0    0    0    0    0    0   20522  \n",
       "Total             2    2   10    6    8   10  207319  \n",
       "\n",
       "[3 rows x 313 columns]"
      ]
     },
     "metadata": {},
     "output_type": "display_data"
    }
   ],
   "source": [
    "crossdate = pd.crosstab(data.score, data.date_submitted, margins=True, margins_name='Total')\n",
    "display(crossdate.head(3))\n",
    "display(crossdate.tail(3))"
   ]
  },
  {
   "cell_type": "markdown",
   "metadata": {},
   "source": [
    "We see that our minimum value is -11. This does not seem to make much sense since noone can submit an assessment before it's published. Our maximum value also seems exagerated.\n",
    "\n",
    "Let's check the relationship between our negative date_submitted values and the final_result:"
   ]
  },
  {
   "cell_type": "code",
   "execution_count": 44,
   "metadata": {},
   "outputs": [
    {
     "data": {
      "text/plain": [
       "Withdrawn      2003\n",
       "Fail            898\n",
       "Pass            690\n",
       "Distinction     121\n",
       "Name: final_result, dtype: int64"
      ]
     },
     "execution_count": 44,
     "metadata": {},
     "output_type": "execute_result"
    }
   ],
   "source": [
    "outliers_final_result = data[data['date_submitted']< 0][['date_submitted','final_result']]\n",
    "outliers_final_result.final_result.value_counts()"
   ]
  },
  {
   "cell_type": "markdown",
   "metadata": {},
   "source": [
    "Let's zoom in the Pass and Distinction, to check if this is because they were banked:"
   ]
  },
  {
   "cell_type": "code",
   "execution_count": 45,
   "metadata": {},
   "outputs": [
    {
     "data": {
      "text/plain": [
       "1    607\n",
       "0     83\n",
       "Name: is_banked, dtype: int64"
      ]
     },
     "execution_count": 45,
     "metadata": {},
     "output_type": "execute_result"
    }
   ],
   "source": [
    "outliers_final_result_pass = data[(data.date_submitted < 0) & (data.final_result == \"Pass\")]\n",
    "outliers_final_result_pass.is_banked.value_counts()"
   ]
  },
  {
   "cell_type": "code",
   "execution_count": 46,
   "metadata": {},
   "outputs": [
    {
     "data": {
      "text/plain": [
       "1    94\n",
       "0    27\n",
       "Name: is_banked, dtype: int64"
      ]
     },
     "execution_count": 46,
     "metadata": {},
     "output_type": "execute_result"
    }
   ],
   "source": [
    "outliers_final_result_distinct = data[(data.date_submitted < 0) & (data.final_result == \"Distinction\")]\n",
    "outliers_final_result_distinct.is_banked.value_counts()"
   ]
  },
  {
   "cell_type": "markdown",
   "metadata": {},
   "source": [
    "We have a total of 110 rows where the date_submitted have a negative value and the is_banked flag is 0. \n",
    "\n",
    "# What should we do with them? Martinada"
   ]
  },
  {
   "cell_type": "markdown",
   "metadata": {},
   "source": [
    "Now let's check the relationship between our greater than 365 date_submitted values and the final_result:"
   ]
  },
  {
   "cell_type": "code",
   "execution_count": 47,
   "metadata": {},
   "outputs": [
    {
     "data": {
      "text/plain": [
       "Withdrawn      69\n",
       "Pass           34\n",
       "Fail           15\n",
       "Distinction     3\n",
       "Name: final_result, dtype: int64"
      ]
     },
     "execution_count": 47,
     "metadata": {},
     "output_type": "execute_result"
    }
   ],
   "source": [
    "outliers_final_result_late = data[data['date_submitted']>365][['date_submitted','final_result']]\n",
    "outliers_final_result_late.final_result.value_counts()"
   ]
  },
  {
   "cell_type": "markdown",
   "metadata": {},
   "source": [
    "### score\n",
    "\n",
    "The student’s score in this assessment. The range is from 0 to 100. The score lower than 40 is interpreted"
   ]
  },
  {
   "cell_type": "code",
   "execution_count": 48,
   "metadata": {},
   "outputs": [
    {
     "data": {
      "text/plain": [
       "103"
      ]
     },
     "execution_count": 48,
     "metadata": {},
     "output_type": "execute_result"
    }
   ],
   "source": [
    "len(data.score.value_counts())"
   ]
  },
  {
   "cell_type": "markdown",
   "metadata": {},
   "source": [
    "Seems weird to have 102 values since students should be rated from 0 to 100 (101 values).\n",
    "\n",
    "Also, remember that this column is an object, and we need it to be numeric."
   ]
  },
  {
   "cell_type": "code",
   "execution_count": 49,
   "metadata": {},
   "outputs": [
    {
     "data": {
      "text/plain": [
       "array([ 78.        ,  85.        ,  80.        ,  82.        ,\n",
       "        70.        ,  68.        ,  64.        ,  60.        ,\n",
       "        72.        ,  71.        ,  74.        ,  88.        ,\n",
       "        75.        ,  69.        ,  30.        ,  63.        ,\n",
       "        35.        ,  79.        ,  50.        ,  65.        ,\n",
       "        62.        ,  73.        ,  81.        ,  76.        ,\n",
       "        67.        ,  89.        ,  77.        ,  83.        ,\n",
       "        42.        ,  66.        ,  59.        ,  61.        ,\n",
       "        38.        ,  86.        ,  18.        ,  49.        ,\n",
       "        57.        ,  55.        ,  84.        ,  47.        ,\n",
       "        51.        ,  56.        ,  53.        ,  54.        ,\n",
       "        45.        ,  87.        ,  46.        ,  43.        ,\n",
       "        52.        ,  39.        ,  37.        ,  48.        ,\n",
       "        40.        ,  32.        ,  90.        ,  58.        ,\n",
       "        93.        ,  28.        ,  44.        ,  33.        ,\n",
       "         0.        ,  94.        ,  91.        ,  95.        ,\n",
       "        36.        ,  41.        ,  25.        ,  11.        ,\n",
       "        34.        ,  92.        ,  98.        ,  15.        ,\n",
       "        27.        ,  24.        ,  20.        ,  19.        ,\n",
       "        29.        , 100.        ,   1.        ,  97.        ,\n",
       "        96.        ,  99.        ,  10.        ,  23.        ,\n",
       "         9.        ,   5.        ,  13.        ,  26.        ,\n",
       "        14.        ,  22.        ,  12.        ,   8.        ,\n",
       "        17.        ,  76.40658558,  21.        ,  16.        ,\n",
       "        31.        ,   6.        ,   7.        ,   4.        ,\n",
       "         2.        ,   3.        ,  88.39646706])"
      ]
     },
     "execution_count": 49,
     "metadata": {},
     "output_type": "execute_result"
    }
   ],
   "source": [
    "data.score.unique()"
   ]
  },
  {
   "cell_type": "markdown",
   "metadata": {},
   "source": [
    "We have a '?' value!"
   ]
  },
  {
   "cell_type": "code",
   "execution_count": 50,
   "metadata": {},
   "outputs": [
    {
     "name": "stderr",
     "output_type": "stream",
     "text": [
      "/anaconda3/lib/python3.7/site-packages/pandas/core/ops.py:1649: FutureWarning: elementwise comparison failed; returning scalar instead, but in the future will perform elementwise comparison\n",
      "  result = method(y)\n"
     ]
    },
    {
     "data": {
      "text/plain": [
       "0"
      ]
     },
     "execution_count": 50,
     "metadata": {},
     "output_type": "execute_result"
    }
   ],
   "source": [
    "#There are quite a few '?' values\n",
    "\n",
    "len(data[data['score']== '?'])"
   ]
  },
  {
   "cell_type": "markdown",
   "metadata": {},
   "source": [
    "Let's check the relationship between those values and final_result:"
   ]
  },
  {
   "cell_type": "code",
   "execution_count": 51,
   "metadata": {},
   "outputs": [
    {
     "data": {
      "text/plain": [
       "Series([], Name: final_result, dtype: int64)"
      ]
     },
     "execution_count": 51,
     "metadata": {},
     "output_type": "execute_result"
    }
   ],
   "source": [
    "#Most of them are 'withdrawn' or 'fail'\n",
    "\n",
    "unknown_score_final_result = data[data['score']=='?'][['score','final_result']]\n",
    "unknown_score_final_result.final_result.value_counts()"
   ]
  },
  {
   "cell_type": "code",
   "execution_count": 52,
   "metadata": {},
   "outputs": [],
   "source": [
    "#We transform the column type to numeric and coerce errors\n",
    "\n",
    "data.score = pd.to_numeric(data.score, errors='coerce')"
   ]
  },
  {
   "cell_type": "code",
   "execution_count": 53,
   "metadata": {},
   "outputs": [
    {
     "data": {
      "text/plain": [
       "array([ 78.        ,  85.        ,  80.        ,  82.        ,\n",
       "        70.        ,  68.        ,  64.        ,  60.        ,\n",
       "        72.        ,  71.        ,  74.        ,  88.        ,\n",
       "        75.        ,  69.        ,  30.        ,  63.        ,\n",
       "        35.        ,  79.        ,  50.        ,  65.        ,\n",
       "        62.        ,  73.        ,  81.        ,  76.        ,\n",
       "        67.        ,  89.        ,  77.        ,  83.        ,\n",
       "        42.        ,  66.        ,  59.        ,  61.        ,\n",
       "        38.        ,  86.        ,  18.        ,  49.        ,\n",
       "        57.        ,  55.        ,  84.        ,  47.        ,\n",
       "        51.        ,  56.        ,  53.        ,  54.        ,\n",
       "        45.        ,  87.        ,  46.        ,  43.        ,\n",
       "        52.        ,  39.        ,  37.        ,  48.        ,\n",
       "        40.        ,  32.        ,  90.        ,  58.        ,\n",
       "        93.        ,  28.        ,  44.        ,  33.        ,\n",
       "         0.        ,  94.        ,  91.        ,  95.        ,\n",
       "        36.        ,  41.        ,  25.        ,  11.        ,\n",
       "        34.        ,  92.        ,  98.        ,  15.        ,\n",
       "        27.        ,  24.        ,  20.        ,  19.        ,\n",
       "        29.        , 100.        ,   1.        ,  97.        ,\n",
       "        96.        ,  99.        ,  10.        ,  23.        ,\n",
       "         9.        ,   5.        ,  13.        ,  26.        ,\n",
       "        14.        ,  22.        ,  12.        ,   8.        ,\n",
       "        17.        ,  76.40658558,  21.        ,  16.        ,\n",
       "        31.        ,   6.        ,   7.        ,   4.        ,\n",
       "         2.        ,   3.        ,  88.39646706])"
      ]
     },
     "execution_count": 53,
     "metadata": {},
     "output_type": "execute_result"
    }
   ],
   "source": [
    "data.score.unique()"
   ]
  },
  {
   "cell_type": "markdown",
   "metadata": {},
   "source": [
    "Of course, now the '?' values have been transformed to NaNs."
   ]
  },
  {
   "cell_type": "code",
   "execution_count": 54,
   "metadata": {},
   "outputs": [
    {
     "data": {
      "text/plain": [
       "id_assessment                 0\n",
       "id_student                    0\n",
       "date_submitted                0\n",
       "is_banked                     0\n",
       "score                         0\n",
       "code_module                   0\n",
       "code_presentation             0\n",
       "gender                        0\n",
       "region                        0\n",
       "highest_education             0\n",
       "imd_band                      0\n",
       "age_band                      0\n",
       "num_of_prev_attempts          0\n",
       "studied_credits               0\n",
       "disability                    0\n",
       "final_result                  0\n",
       "module_presentation_length    0\n",
       "dtype: int64"
      ]
     },
     "execution_count": 54,
     "metadata": {},
     "output_type": "execute_result"
    }
   ],
   "source": [
    "data.isnull().sum()"
   ]
  },
  {
   "cell_type": "markdown",
   "metadata": {},
   "source": [
    "In order to get rid of those NaNs, we decide the following:\n",
    "\n",
    "- For those which final_result is \"Withdrawn\" of \"Fail\", we will change the value to 0.\n",
    "- For those which final_result is \"Pass\", we will fill the value with the mean of all \"Pass\".\n",
    "- For those which final_result is \"Distinction\", we will fill the value with the mean of all \"Distinction\"."
   ]
  },
  {
   "cell_type": "code",
   "execution_count": 55,
   "metadata": {},
   "outputs": [],
   "source": [
    "data['score'] = np.where(((data['score'].isnull()) & (data['final_result'] ==\"Withdrawn\")),0,data['score'])\n",
    "data['score'] = np.where(((data['score'].isnull()) & (data['final_result'] ==\"Fail\")),0,data['score'])\n",
    "data['score'] = np.where(((data['score'].isnull()) & (data['final_result'] ==\"Pass\")),\n",
    "                         data[data['final_result']=='Pass']['score'].mean(),data['score'])\n",
    "data['score'] = np.where(((data['score'].isnull()) & (data['final_result'] ==\"Distinction\")),\n",
    "                         data[data['final_result']=='Distinction']['score'].mean(),data['score'])"
   ]
  },
  {
   "cell_type": "markdown",
   "metadata": {},
   "source": [
    "We check that we successfully got rid of the NaNs."
   ]
  },
  {
   "cell_type": "code",
   "execution_count": 56,
   "metadata": {},
   "outputs": [
    {
     "data": {
      "text/plain": [
       "id_assessment                 0\n",
       "id_student                    0\n",
       "date_submitted                0\n",
       "is_banked                     0\n",
       "score                         0\n",
       "code_module                   0\n",
       "code_presentation             0\n",
       "gender                        0\n",
       "region                        0\n",
       "highest_education             0\n",
       "imd_band                      0\n",
       "age_band                      0\n",
       "num_of_prev_attempts          0\n",
       "studied_credits               0\n",
       "disability                    0\n",
       "final_result                  0\n",
       "module_presentation_length    0\n",
       "dtype: int64"
      ]
     },
     "execution_count": 56,
     "metadata": {},
     "output_type": "execute_result"
    }
   ],
   "source": [
    "data.isnull().sum()"
   ]
  },
  {
   "cell_type": "markdown",
   "metadata": {},
   "source": [
    "So now we can analyze the column."
   ]
  },
  {
   "cell_type": "code",
   "execution_count": 57,
   "metadata": {},
   "outputs": [
    {
     "data": {
      "text/plain": [
       "count    207319.000000\n",
       "mean         75.335067\n",
       "std          19.204038\n",
       "min           0.000000\n",
       "25%          65.000000\n",
       "50%          79.000000\n",
       "75%          89.000000\n",
       "max         100.000000\n",
       "Name: score, dtype: float64"
      ]
     },
     "metadata": {},
     "output_type": "display_data"
    },
    {
     "data": {
      "image/png": "[encoded data removed]",
      "text/plain": [
       "<Figure size 432x288 with 1 Axes>"
      ]
     },
     "metadata": {
      "needs_background": "light"
     },
     "output_type": "display_data"
    }
   ],
   "source": [
    "display(data.score.describe())\n",
    "data.boxplot(column= ['score'])\n",
    "plt.show()"
   ]
  },
  {
   "cell_type": "markdown",
   "metadata": {},
   "source": [
    "# ordenar el gráfico de arriba"
   ]
  },
  {
   "cell_type": "markdown",
   "metadata": {},
   "source": [
    "### num_of_prev_attempts"
   ]
  },
  {
   "cell_type": "code",
   "execution_count": 58,
   "metadata": {},
   "outputs": [
    {
     "data": {
      "text/plain": [
       "0    181263\n",
       "1     21010\n",
       "2      4008\n",
       "3       758\n",
       "4       215\n",
       "5        49\n",
       "6        16\n",
       "Name: num_of_prev_attempts, dtype: int64"
      ]
     },
     "execution_count": 58,
     "metadata": {},
     "output_type": "execute_result"
    }
   ],
   "source": [
    "data.num_of_prev_attempts.value_counts()"
   ]
  },
  {
   "cell_type": "code",
   "execution_count": 59,
   "metadata": {},
   "outputs": [
    {
     "data": {
      "text/html": [
       "<div>\n",
       "<style scoped>\n",
       "    .dataframe tbody tr th:only-of-type {\n",
       "        vertical-align: middle;\n",
       "    }\n",
       "\n",
       "    .dataframe tbody tr th {\n",
       "        vertical-align: top;\n",
       "    }\n",
       "\n",
       "    .dataframe thead th {\n",
       "        text-align: right;\n",
       "    }\n",
       "</style>\n",
       "<table border=\"1\" class=\"dataframe\">\n",
       "  <thead>\n",
       "    <tr style=\"text-align: right;\">\n",
       "      <th>num_of_prev_attempts</th>\n",
       "      <th>0</th>\n",
       "      <th>1</th>\n",
       "      <th>2</th>\n",
       "      <th>3</th>\n",
       "      <th>4</th>\n",
       "      <th>5</th>\n",
       "      <th>6</th>\n",
       "      <th>Total</th>\n",
       "    </tr>\n",
       "    <tr>\n",
       "      <th>score</th>\n",
       "      <th></th>\n",
       "      <th></th>\n",
       "      <th></th>\n",
       "      <th></th>\n",
       "      <th></th>\n",
       "      <th></th>\n",
       "      <th></th>\n",
       "      <th></th>\n",
       "    </tr>\n",
       "  </thead>\n",
       "  <tbody>\n",
       "    <tr>\n",
       "      <th>0.0</th>\n",
       "      <td>487</td>\n",
       "      <td>92</td>\n",
       "      <td>30</td>\n",
       "      <td>8</td>\n",
       "      <td>0</td>\n",
       "      <td>0</td>\n",
       "      <td>0</td>\n",
       "      <td>617</td>\n",
       "    </tr>\n",
       "    <tr>\n",
       "      <th>1.0</th>\n",
       "      <td>687</td>\n",
       "      <td>74</td>\n",
       "      <td>14</td>\n",
       "      <td>8</td>\n",
       "      <td>0</td>\n",
       "      <td>0</td>\n",
       "      <td>0</td>\n",
       "      <td>783</td>\n",
       "    </tr>\n",
       "    <tr>\n",
       "      <th>2.0</th>\n",
       "      <td>15</td>\n",
       "      <td>1</td>\n",
       "      <td>1</td>\n",
       "      <td>0</td>\n",
       "      <td>0</td>\n",
       "      <td>0</td>\n",
       "      <td>0</td>\n",
       "      <td>17</td>\n",
       "    </tr>\n",
       "  </tbody>\n",
       "</table>\n",
       "</div>"
      ],
      "text/plain": [
       "num_of_prev_attempts    0   1   2  3  4  5  6  Total\n",
       "score                                               \n",
       "0.0                   487  92  30  8  0  0  0    617\n",
       "1.0                   687  74  14  8  0  0  0    783\n",
       "2.0                    15   1   1  0  0  0  0     17"
      ]
     },
     "metadata": {},
     "output_type": "display_data"
    },
    {
     "data": {
      "text/html": [
       "<div>\n",
       "<style scoped>\n",
       "    .dataframe tbody tr th:only-of-type {\n",
       "        vertical-align: middle;\n",
       "    }\n",
       "\n",
       "    .dataframe tbody tr th {\n",
       "        vertical-align: top;\n",
       "    }\n",
       "\n",
       "    .dataframe thead th {\n",
       "        text-align: right;\n",
       "    }\n",
       "</style>\n",
       "<table border=\"1\" class=\"dataframe\">\n",
       "  <thead>\n",
       "    <tr style=\"text-align: right;\">\n",
       "      <th>num_of_prev_attempts</th>\n",
       "      <th>0</th>\n",
       "      <th>1</th>\n",
       "      <th>2</th>\n",
       "      <th>3</th>\n",
       "      <th>4</th>\n",
       "      <th>5</th>\n",
       "      <th>6</th>\n",
       "      <th>Total</th>\n",
       "    </tr>\n",
       "    <tr>\n",
       "      <th>score</th>\n",
       "      <th></th>\n",
       "      <th></th>\n",
       "      <th></th>\n",
       "      <th></th>\n",
       "      <th></th>\n",
       "      <th></th>\n",
       "      <th></th>\n",
       "      <th></th>\n",
       "    </tr>\n",
       "  </thead>\n",
       "  <tbody>\n",
       "    <tr>\n",
       "      <th>99.0</th>\n",
       "      <td>922</td>\n",
       "      <td>50</td>\n",
       "      <td>6</td>\n",
       "      <td>0</td>\n",
       "      <td>0</td>\n",
       "      <td>0</td>\n",
       "      <td>0</td>\n",
       "      <td>978</td>\n",
       "    </tr>\n",
       "    <tr>\n",
       "      <th>100.0</th>\n",
       "      <td>18441</td>\n",
       "      <td>1621</td>\n",
       "      <td>366</td>\n",
       "      <td>74</td>\n",
       "      <td>14</td>\n",
       "      <td>5</td>\n",
       "      <td>1</td>\n",
       "      <td>20522</td>\n",
       "    </tr>\n",
       "    <tr>\n",
       "      <th>Total</th>\n",
       "      <td>181263</td>\n",
       "      <td>21010</td>\n",
       "      <td>4008</td>\n",
       "      <td>758</td>\n",
       "      <td>215</td>\n",
       "      <td>49</td>\n",
       "      <td>16</td>\n",
       "      <td>207319</td>\n",
       "    </tr>\n",
       "  </tbody>\n",
       "</table>\n",
       "</div>"
      ],
      "text/plain": [
       "num_of_prev_attempts       0      1     2    3    4   5   6   Total\n",
       "score                                                              \n",
       "99.0                     922     50     6    0    0   0   0     978\n",
       "100.0                  18441   1621   366   74   14   5   1   20522\n",
       "Total                 181263  21010  4008  758  215  49  16  207319"
      ]
     },
     "metadata": {},
     "output_type": "display_data"
    }
   ],
   "source": [
    "crossatt = pd.crosstab(data.score, data.num_of_prev_attempts, margins=True, margins_name='Total')\n",
    "display(crossatt.head(3))\n",
    "display(crossatt.tail(3))"
   ]
  },
  {
   "cell_type": "code",
   "execution_count": 60,
   "metadata": {},
   "outputs": [
    {
     "data": {
      "image/png": "[encoded data removed]",
      "text/plain": [
       "<Figure size 432x288 with 1 Axes>"
      ]
     },
     "metadata": {
      "needs_background": "light"
     },
     "output_type": "display_data"
    }
   ],
   "source": [
    "sns.distplot(data.num_of_prev_attempts)\n",
    "plt.show()"
   ]
  },
  {
   "cell_type": "code",
   "execution_count": 61,
   "metadata": {},
   "outputs": [
    {
     "data": {
      "text/plain": [
       "<matplotlib.axes._subplots.AxesSubplot at 0x1a1a188cc0>"
      ]
     },
     "execution_count": 61,
     "metadata": {},
     "output_type": "execute_result"
    },
    {
     "data": {
      "image/png": "[encoded data removed]",
      "text/plain": [
       "<Figure size 432x288 with 1 Axes>"
      ]
     },
     "metadata": {
      "needs_background": "light"
     },
     "output_type": "display_data"
    }
   ],
   "source": [
    "data.boxplot(column= ['num_of_prev_attempts'])"
   ]
  },
  {
   "cell_type": "code",
   "execution_count": 62,
   "metadata": {},
   "outputs": [
    {
     "data": {
      "image/png": "[encoded data removed]",
      "text/plain": [
       "<Figure size 432x288 with 1 Axes>"
      ]
     },
     "metadata": {
      "needs_background": "light"
     },
     "output_type": "display_data"
    }
   ],
   "source": [
    "ax = sns.countplot(x=\"num_of_prev_attempts\", data=data, palette='YlGnBu')\n",
    "\n",
    "ax.set_xticklabels(ax.get_xticklabels(), rotation=40, ha=\"right\")\n",
    "plt.tight_layout()\n",
    "plt.show()"
   ]
  },
  {
   "cell_type": "markdown",
   "metadata": {},
   "source": [
    "### studied_credits"
   ]
  },
  {
   "cell_type": "code",
   "execution_count": 63,
   "metadata": {},
   "outputs": [
    {
     "data": {
      "text/plain": [
       "60     109791\n",
       "120     38067\n",
       "30      22403\n",
       "90      22275\n",
       "150      4936\n",
       "180      4208\n",
       "240       975\n",
       "75        780\n",
       "210       758\n",
       "70        708\n",
       "130       254\n",
       "45        207\n",
       "80        206\n",
       "270       202\n",
       "100       197\n",
       "135       186\n",
       "300       114\n",
       "160       113\n",
       "40        109\n",
       "110        98\n",
       "105        79\n",
       "195        66\n",
       "190        51\n",
       "140        47\n",
       "165        47\n",
       "220        39\n",
       "145        38\n",
       "360        38\n",
       "330        34\n",
       "250        31\n",
       "170        29\n",
       "200        25\n",
       "115        23\n",
       "85         21\n",
       "50         19\n",
       "310        17\n",
       "95         15\n",
       "155        14\n",
       "235        12\n",
       "280        12\n",
       "325        11\n",
       "430        11\n",
       "55         10\n",
       "225         9\n",
       "630         9\n",
       "345         6\n",
       "420         5\n",
       "65          4\n",
       "255         4\n",
       "215         3\n",
       "205         2\n",
       "355         1\n",
       "Name: studied_credits, dtype: int64"
      ]
     },
     "execution_count": 63,
     "metadata": {},
     "output_type": "execute_result"
    }
   ],
   "source": [
    "data.studied_credits.value_counts()"
   ]
  },
  {
   "cell_type": "code",
   "execution_count": 64,
   "metadata": {},
   "outputs": [
    {
     "data": {
      "text/html": [
       "<div>\n",
       "<style scoped>\n",
       "    .dataframe tbody tr th:only-of-type {\n",
       "        vertical-align: middle;\n",
       "    }\n",
       "\n",
       "    .dataframe tbody tr th {\n",
       "        vertical-align: top;\n",
       "    }\n",
       "\n",
       "    .dataframe thead th {\n",
       "        text-align: right;\n",
       "    }\n",
       "</style>\n",
       "<table border=\"1\" class=\"dataframe\">\n",
       "  <thead>\n",
       "    <tr style=\"text-align: right;\">\n",
       "      <th>studied_credits</th>\n",
       "      <th>30</th>\n",
       "      <th>40</th>\n",
       "      <th>45</th>\n",
       "      <th>50</th>\n",
       "      <th>55</th>\n",
       "      <th>60</th>\n",
       "      <th>65</th>\n",
       "      <th>70</th>\n",
       "      <th>75</th>\n",
       "      <th>80</th>\n",
       "      <th>...</th>\n",
       "      <th>310</th>\n",
       "      <th>325</th>\n",
       "      <th>330</th>\n",
       "      <th>345</th>\n",
       "      <th>355</th>\n",
       "      <th>360</th>\n",
       "      <th>420</th>\n",
       "      <th>430</th>\n",
       "      <th>630</th>\n",
       "      <th>Total</th>\n",
       "    </tr>\n",
       "    <tr>\n",
       "      <th>score</th>\n",
       "      <th></th>\n",
       "      <th></th>\n",
       "      <th></th>\n",
       "      <th></th>\n",
       "      <th></th>\n",
       "      <th></th>\n",
       "      <th></th>\n",
       "      <th></th>\n",
       "      <th></th>\n",
       "      <th></th>\n",
       "      <th></th>\n",
       "      <th></th>\n",
       "      <th></th>\n",
       "      <th></th>\n",
       "      <th></th>\n",
       "      <th></th>\n",
       "      <th></th>\n",
       "      <th></th>\n",
       "      <th></th>\n",
       "      <th></th>\n",
       "      <th></th>\n",
       "    </tr>\n",
       "  </thead>\n",
       "  <tbody>\n",
       "    <tr>\n",
       "      <th>0.0</th>\n",
       "      <td>65</td>\n",
       "      <td>0</td>\n",
       "      <td>1</td>\n",
       "      <td>0</td>\n",
       "      <td>0</td>\n",
       "      <td>295</td>\n",
       "      <td>0</td>\n",
       "      <td>0</td>\n",
       "      <td>1</td>\n",
       "      <td>6</td>\n",
       "      <td>...</td>\n",
       "      <td>1</td>\n",
       "      <td>0</td>\n",
       "      <td>0</td>\n",
       "      <td>0</td>\n",
       "      <td>0</td>\n",
       "      <td>0</td>\n",
       "      <td>0</td>\n",
       "      <td>0</td>\n",
       "      <td>0</td>\n",
       "      <td>617</td>\n",
       "    </tr>\n",
       "    <tr>\n",
       "      <th>1.0</th>\n",
       "      <td>19</td>\n",
       "      <td>0</td>\n",
       "      <td>0</td>\n",
       "      <td>0</td>\n",
       "      <td>0</td>\n",
       "      <td>566</td>\n",
       "      <td>0</td>\n",
       "      <td>0</td>\n",
       "      <td>3</td>\n",
       "      <td>0</td>\n",
       "      <td>...</td>\n",
       "      <td>0</td>\n",
       "      <td>0</td>\n",
       "      <td>0</td>\n",
       "      <td>0</td>\n",
       "      <td>0</td>\n",
       "      <td>0</td>\n",
       "      <td>0</td>\n",
       "      <td>0</td>\n",
       "      <td>0</td>\n",
       "      <td>783</td>\n",
       "    </tr>\n",
       "    <tr>\n",
       "      <th>2.0</th>\n",
       "      <td>2</td>\n",
       "      <td>0</td>\n",
       "      <td>0</td>\n",
       "      <td>0</td>\n",
       "      <td>0</td>\n",
       "      <td>13</td>\n",
       "      <td>0</td>\n",
       "      <td>0</td>\n",
       "      <td>0</td>\n",
       "      <td>0</td>\n",
       "      <td>...</td>\n",
       "      <td>0</td>\n",
       "      <td>0</td>\n",
       "      <td>0</td>\n",
       "      <td>0</td>\n",
       "      <td>0</td>\n",
       "      <td>0</td>\n",
       "      <td>0</td>\n",
       "      <td>0</td>\n",
       "      <td>0</td>\n",
       "      <td>17</td>\n",
       "    </tr>\n",
       "  </tbody>\n",
       "</table>\n",
       "<p>3 rows × 53 columns</p>\n",
       "</div>"
      ],
      "text/plain": [
       "studied_credits  30  40  45  50  55   60  65  70  75  80  ...  310  325  330  \\\n",
       "score                                                     ...                  \n",
       "0.0              65   0   1   0   0  295   0   0   1   6  ...    1    0    0   \n",
       "1.0              19   0   0   0   0  566   0   0   3   0  ...    0    0    0   \n",
       "2.0               2   0   0   0   0   13   0   0   0   0  ...    0    0    0   \n",
       "\n",
       "studied_credits  345  355  360  420  430  630  Total  \n",
       "score                                                 \n",
       "0.0                0    0    0    0    0    0    617  \n",
       "1.0                0    0    0    0    0    0    783  \n",
       "2.0                0    0    0    0    0    0     17  \n",
       "\n",
       "[3 rows x 53 columns]"
      ]
     },
     "metadata": {},
     "output_type": "display_data"
    },
    {
     "data": {
      "text/html": [
       "<div>\n",
       "<style scoped>\n",
       "    .dataframe tbody tr th:only-of-type {\n",
       "        vertical-align: middle;\n",
       "    }\n",
       "\n",
       "    .dataframe tbody tr th {\n",
       "        vertical-align: top;\n",
       "    }\n",
       "\n",
       "    .dataframe thead th {\n",
       "        text-align: right;\n",
       "    }\n",
       "</style>\n",
       "<table border=\"1\" class=\"dataframe\">\n",
       "  <thead>\n",
       "    <tr style=\"text-align: right;\">\n",
       "      <th>studied_credits</th>\n",
       "      <th>30</th>\n",
       "      <th>40</th>\n",
       "      <th>45</th>\n",
       "      <th>50</th>\n",
       "      <th>55</th>\n",
       "      <th>60</th>\n",
       "      <th>65</th>\n",
       "      <th>70</th>\n",
       "      <th>75</th>\n",
       "      <th>80</th>\n",
       "      <th>...</th>\n",
       "      <th>310</th>\n",
       "      <th>325</th>\n",
       "      <th>330</th>\n",
       "      <th>345</th>\n",
       "      <th>355</th>\n",
       "      <th>360</th>\n",
       "      <th>420</th>\n",
       "      <th>430</th>\n",
       "      <th>630</th>\n",
       "      <th>Total</th>\n",
       "    </tr>\n",
       "    <tr>\n",
       "      <th>score</th>\n",
       "      <th></th>\n",
       "      <th></th>\n",
       "      <th></th>\n",
       "      <th></th>\n",
       "      <th></th>\n",
       "      <th></th>\n",
       "      <th></th>\n",
       "      <th></th>\n",
       "      <th></th>\n",
       "      <th></th>\n",
       "      <th></th>\n",
       "      <th></th>\n",
       "      <th></th>\n",
       "      <th></th>\n",
       "      <th></th>\n",
       "      <th></th>\n",
       "      <th></th>\n",
       "      <th></th>\n",
       "      <th></th>\n",
       "      <th></th>\n",
       "      <th></th>\n",
       "    </tr>\n",
       "  </thead>\n",
       "  <tbody>\n",
       "    <tr>\n",
       "      <th>99.0</th>\n",
       "      <td>77</td>\n",
       "      <td>2</td>\n",
       "      <td>1</td>\n",
       "      <td>0</td>\n",
       "      <td>0</td>\n",
       "      <td>528</td>\n",
       "      <td>0</td>\n",
       "      <td>6</td>\n",
       "      <td>1</td>\n",
       "      <td>1</td>\n",
       "      <td>...</td>\n",
       "      <td>0</td>\n",
       "      <td>0</td>\n",
       "      <td>1</td>\n",
       "      <td>0</td>\n",
       "      <td>0</td>\n",
       "      <td>0</td>\n",
       "      <td>0</td>\n",
       "      <td>0</td>\n",
       "      <td>0</td>\n",
       "      <td>978</td>\n",
       "    </tr>\n",
       "    <tr>\n",
       "      <th>100.0</th>\n",
       "      <td>5387</td>\n",
       "      <td>12</td>\n",
       "      <td>33</td>\n",
       "      <td>3</td>\n",
       "      <td>0</td>\n",
       "      <td>9553</td>\n",
       "      <td>0</td>\n",
       "      <td>35</td>\n",
       "      <td>87</td>\n",
       "      <td>5</td>\n",
       "      <td>...</td>\n",
       "      <td>0</td>\n",
       "      <td>2</td>\n",
       "      <td>8</td>\n",
       "      <td>0</td>\n",
       "      <td>0</td>\n",
       "      <td>0</td>\n",
       "      <td>0</td>\n",
       "      <td>0</td>\n",
       "      <td>1</td>\n",
       "      <td>20522</td>\n",
       "    </tr>\n",
       "    <tr>\n",
       "      <th>Total</th>\n",
       "      <td>22403</td>\n",
       "      <td>109</td>\n",
       "      <td>207</td>\n",
       "      <td>19</td>\n",
       "      <td>10</td>\n",
       "      <td>109791</td>\n",
       "      <td>4</td>\n",
       "      <td>708</td>\n",
       "      <td>780</td>\n",
       "      <td>206</td>\n",
       "      <td>...</td>\n",
       "      <td>17</td>\n",
       "      <td>11</td>\n",
       "      <td>34</td>\n",
       "      <td>6</td>\n",
       "      <td>1</td>\n",
       "      <td>38</td>\n",
       "      <td>5</td>\n",
       "      <td>11</td>\n",
       "      <td>9</td>\n",
       "      <td>207319</td>\n",
       "    </tr>\n",
       "  </tbody>\n",
       "</table>\n",
       "<p>3 rows × 53 columns</p>\n",
       "</div>"
      ],
      "text/plain": [
       "studied_credits     30   40   45  50  55      60  65   70   75   80  ...  310  \\\n",
       "score                                                                ...        \n",
       "99.0                77    2    1   0   0     528   0    6    1    1  ...    0   \n",
       "100.0             5387   12   33   3   0    9553   0   35   87    5  ...    0   \n",
       "Total            22403  109  207  19  10  109791   4  708  780  206  ...   17   \n",
       "\n",
       "studied_credits  325  330  345  355  360  420  430  630   Total  \n",
       "score                                                            \n",
       "99.0               0    1    0    0    0    0    0    0     978  \n",
       "100.0              2    8    0    0    0    0    0    1   20522  \n",
       "Total             11   34    6    1   38    5   11    9  207319  \n",
       "\n",
       "[3 rows x 53 columns]"
      ]
     },
     "metadata": {},
     "output_type": "display_data"
    }
   ],
   "source": [
    "crosscre = pd.crosstab(data.score, data.studied_credits, margins=True, margins_name='Total')\n",
    "display(crosscre.head(3))\n",
    "display(crosscre.tail(3))"
   ]
  },
  {
   "cell_type": "code",
   "execution_count": 65,
   "metadata": {},
   "outputs": [
    {
     "data": {
      "text/plain": [
       "count    207319.000000\n",
       "mean         78.153474\n",
       "std          38.000677\n",
       "min          30.000000\n",
       "25%          60.000000\n",
       "50%          60.000000\n",
       "75%          90.000000\n",
       "max         630.000000\n",
       "Name: studied_credits, dtype: float64"
      ]
     },
     "metadata": {},
     "output_type": "display_data"
    },
    {
     "data": {
      "image/png": "[encoded data removed]",
      "text/plain": [
       "<Figure size 432x288 with 1 Axes>"
      ]
     },
     "metadata": {
      "needs_background": "light"
     },
     "output_type": "display_data"
    }
   ],
   "source": [
    "display(data.studied_credits.describe())\n",
    "\n",
    "sns.distplot(data.studied_credits)\n",
    "plt.show()"
   ]
  },
  {
   "cell_type": "markdown",
   "metadata": {},
   "source": [
    "There are some rows where the studied_credits are greater than 360."
   ]
  },
  {
   "cell_type": "code",
   "execution_count": 66,
   "metadata": {},
   "outputs": [
    {
     "data": {
      "text/plain": [
       "25"
      ]
     },
     "execution_count": 66,
     "metadata": {},
     "output_type": "execute_result"
    }
   ],
   "source": [
    "len(data[data['studied_credits']>360])"
   ]
  },
  {
   "cell_type": "markdown",
   "metadata": {},
   "source": [
    "Let's check the relationship between those values and the final_result."
   ]
  },
  {
   "cell_type": "code",
   "execution_count": 67,
   "metadata": {},
   "outputs": [
    {
     "data": {
      "text/plain": [
       "Pass    25\n",
       "Name: final_result, dtype: int64"
      ]
     },
     "execution_count": 67,
     "metadata": {},
     "output_type": "execute_result"
    }
   ],
   "source": [
    "studiedcreditsout = data[data['studied_credits']>360][['studied_credits','final_result']]\n",
    "studiedcreditsout.final_result.value_counts()"
   ]
  },
  {
   "cell_type": "markdown",
   "metadata": {},
   "source": [
    "### module_presentation_length"
   ]
  },
  {
   "cell_type": "code",
   "execution_count": 68,
   "metadata": {},
   "outputs": [
    {
     "data": {
      "text/plain": [
       "269    47544\n",
       "241    39620\n",
       "268    39364\n",
       "240    36312\n",
       "262    17391\n",
       "261    16716\n",
       "234    10372\n",
       "Name: module_presentation_length, dtype: int64"
      ]
     },
     "execution_count": 68,
     "metadata": {},
     "output_type": "execute_result"
    }
   ],
   "source": [
    "data.module_presentation_length.value_counts()"
   ]
  },
  {
   "cell_type": "code",
   "execution_count": 69,
   "metadata": {},
   "outputs": [
    {
     "data": {
      "text/html": [
       "<div>\n",
       "<style scoped>\n",
       "    .dataframe tbody tr th:only-of-type {\n",
       "        vertical-align: middle;\n",
       "    }\n",
       "\n",
       "    .dataframe tbody tr th {\n",
       "        vertical-align: top;\n",
       "    }\n",
       "\n",
       "    .dataframe thead th {\n",
       "        text-align: right;\n",
       "    }\n",
       "</style>\n",
       "<table border=\"1\" class=\"dataframe\">\n",
       "  <thead>\n",
       "    <tr style=\"text-align: right;\">\n",
       "      <th>module_presentation_length</th>\n",
       "      <th>234</th>\n",
       "      <th>240</th>\n",
       "      <th>241</th>\n",
       "      <th>261</th>\n",
       "      <th>262</th>\n",
       "      <th>268</th>\n",
       "      <th>269</th>\n",
       "      <th>Total</th>\n",
       "    </tr>\n",
       "    <tr>\n",
       "      <th>score</th>\n",
       "      <th></th>\n",
       "      <th></th>\n",
       "      <th></th>\n",
       "      <th></th>\n",
       "      <th></th>\n",
       "      <th></th>\n",
       "      <th></th>\n",
       "      <th></th>\n",
       "    </tr>\n",
       "  </thead>\n",
       "  <tbody>\n",
       "    <tr>\n",
       "      <th>0.0</th>\n",
       "      <td>32</td>\n",
       "      <td>119</td>\n",
       "      <td>173</td>\n",
       "      <td>37</td>\n",
       "      <td>54</td>\n",
       "      <td>78</td>\n",
       "      <td>124</td>\n",
       "      <td>617</td>\n",
       "    </tr>\n",
       "    <tr>\n",
       "      <th>1.0</th>\n",
       "      <td>16</td>\n",
       "      <td>7</td>\n",
       "      <td>7</td>\n",
       "      <td>14</td>\n",
       "      <td>719</td>\n",
       "      <td>15</td>\n",
       "      <td>5</td>\n",
       "      <td>783</td>\n",
       "    </tr>\n",
       "    <tr>\n",
       "      <th>2.0</th>\n",
       "      <td>0</td>\n",
       "      <td>4</td>\n",
       "      <td>5</td>\n",
       "      <td>0</td>\n",
       "      <td>0</td>\n",
       "      <td>3</td>\n",
       "      <td>5</td>\n",
       "      <td>17</td>\n",
       "    </tr>\n",
       "  </tbody>\n",
       "</table>\n",
       "</div>"
      ],
      "text/plain": [
       "module_presentation_length  234  240  241  261  262  268  269  Total\n",
       "score                                                               \n",
       "0.0                          32  119  173   37   54   78  124    617\n",
       "1.0                          16    7    7   14  719   15    5    783\n",
       "2.0                           0    4    5    0    0    3    5     17"
      ]
     },
     "metadata": {},
     "output_type": "display_data"
    },
    {
     "data": {
      "text/html": [
       "<div>\n",
       "<style scoped>\n",
       "    .dataframe tbody tr th:only-of-type {\n",
       "        vertical-align: middle;\n",
       "    }\n",
       "\n",
       "    .dataframe tbody tr th {\n",
       "        vertical-align: top;\n",
       "    }\n",
       "\n",
       "    .dataframe thead th {\n",
       "        text-align: right;\n",
       "    }\n",
       "</style>\n",
       "<table border=\"1\" class=\"dataframe\">\n",
       "  <thead>\n",
       "    <tr style=\"text-align: right;\">\n",
       "      <th>module_presentation_length</th>\n",
       "      <th>234</th>\n",
       "      <th>240</th>\n",
       "      <th>241</th>\n",
       "      <th>261</th>\n",
       "      <th>262</th>\n",
       "      <th>268</th>\n",
       "      <th>269</th>\n",
       "      <th>Total</th>\n",
       "    </tr>\n",
       "    <tr>\n",
       "      <th>score</th>\n",
       "      <th></th>\n",
       "      <th></th>\n",
       "      <th></th>\n",
       "      <th></th>\n",
       "      <th></th>\n",
       "      <th></th>\n",
       "      <th></th>\n",
       "      <th></th>\n",
       "    </tr>\n",
       "  </thead>\n",
       "  <tbody>\n",
       "    <tr>\n",
       "      <th>99.0</th>\n",
       "      <td>2</td>\n",
       "      <td>111</td>\n",
       "      <td>243</td>\n",
       "      <td>33</td>\n",
       "      <td>35</td>\n",
       "      <td>186</td>\n",
       "      <td>368</td>\n",
       "      <td>978</td>\n",
       "    </tr>\n",
       "    <tr>\n",
       "      <th>100.0</th>\n",
       "      <td>2730</td>\n",
       "      <td>3588</td>\n",
       "      <td>2733</td>\n",
       "      <td>2370</td>\n",
       "      <td>1579</td>\n",
       "      <td>4320</td>\n",
       "      <td>3202</td>\n",
       "      <td>20522</td>\n",
       "    </tr>\n",
       "    <tr>\n",
       "      <th>Total</th>\n",
       "      <td>10372</td>\n",
       "      <td>36312</td>\n",
       "      <td>39620</td>\n",
       "      <td>16716</td>\n",
       "      <td>17391</td>\n",
       "      <td>39364</td>\n",
       "      <td>47544</td>\n",
       "      <td>207319</td>\n",
       "    </tr>\n",
       "  </tbody>\n",
       "</table>\n",
       "</div>"
      ],
      "text/plain": [
       "module_presentation_length    234    240    241    261    262    268    269  \\\n",
       "score                                                                         \n",
       "99.0                            2    111    243     33     35    186    368   \n",
       "100.0                        2730   3588   2733   2370   1579   4320   3202   \n",
       "Total                       10372  36312  39620  16716  17391  39364  47544   \n",
       "\n",
       "module_presentation_length   Total  \n",
       "score                               \n",
       "99.0                           978  \n",
       "100.0                        20522  \n",
       "Total                       207319  "
      ]
     },
     "metadata": {},
     "output_type": "display_data"
    }
   ],
   "source": [
    "crossle = pd.crosstab(data.score, data.module_presentation_length, margins=True, margins_name='Total')\n",
    "display(crossle.head(3))\n",
    "display(crossle.tail(3))"
   ]
  },
  {
   "cell_type": "code",
   "execution_count": 70,
   "metadata": {},
   "outputs": [
    {
     "data": {
      "text/plain": [
       "count    207319.000000\n",
       "mean        255.396534\n",
       "std          13.521161\n",
       "min         234.000000\n",
       "25%         241.000000\n",
       "50%         262.000000\n",
       "75%         268.000000\n",
       "max         269.000000\n",
       "Name: module_presentation_length, dtype: float64"
      ]
     },
     "execution_count": 70,
     "metadata": {},
     "output_type": "execute_result"
    }
   ],
   "source": [
    "data.module_presentation_length.describe()"
   ]
  },
  {
   "cell_type": "code",
   "execution_count": 71,
   "metadata": {},
   "outputs": [
    {
     "data": {
      "image/png": "[encoded data removed]",
      "text/plain": [
       "<Figure size 432x288 with 1 Axes>"
      ]
     },
     "metadata": {
      "needs_background": "light"
     },
     "output_type": "display_data"
    }
   ],
   "source": [
    "ax = sns.countplot(x=\"module_presentation_length\", data=data, palette='YlGnBu')\n",
    "\n",
    "ax.set_xticklabels(ax.get_xticklabels(), rotation=40, ha=\"right\")\n",
    "plt.tight_layout()\n",
    "plt.show()"
   ]
  },
  {
   "cell_type": "code",
   "execution_count": 72,
   "metadata": {},
   "outputs": [],
   "source": [
    "data.to_csv('Data/final.csv', index=False)"
   ]
  },
  {
   "cell_type": "code",
   "execution_count": 73,
   "metadata": {
    "scrolled": false
   },
   "outputs": [
    {
     "name": "stdout",
     "output_type": "stream",
     "text": [
      "<class 'pandas.core.frame.DataFrame'>\n",
      "RangeIndex: 207319 entries, 0 to 207318\n",
      "Data columns (total 17 columns):\n",
      "id_assessment                 207319 non-null object\n",
      "id_student                    207319 non-null object\n",
      "date_submitted                207319 non-null int64\n",
      "is_banked                     207319 non-null object\n",
      "score                         207319 non-null float64\n",
      "code_module                   207319 non-null object\n",
      "code_presentation             207319 non-null object\n",
      "gender                        207319 non-null object\n",
      "region                        207319 non-null object\n",
      "highest_education             207319 non-null object\n",
      "imd_band                      207319 non-null object\n",
      "age_band                      207319 non-null object\n",
      "num_of_prev_attempts          207319 non-null int64\n",
      "studied_credits               207319 non-null int64\n",
      "disability                    207319 non-null object\n",
      "final_result                  207319 non-null object\n",
      "module_presentation_length    207319 non-null int64\n",
      "dtypes: float64(1), int64(4), object(12)\n",
      "memory usage: 26.9+ MB\n"
     ]
    }
   ],
   "source": [
    "data.info()"
   ]
  },
  {
   "cell_type": "markdown",
   "metadata": {},
   "source": [
    "# Let's now see the correlation"
   ]
  },
  {
   "cell_type": "code",
   "execution_count": 74,
   "metadata": {},
   "outputs": [
    {
     "data": {
      "image/png": "[encoded data removed]",
      "text/plain": [
       "<Figure size 720x360 with 2 Axes>"
      ]
     },
     "metadata": {
      "needs_background": "light"
     },
     "output_type": "display_data"
    }
   ],
   "source": [
    "fig, ax = plt.subplots(figsize=(10,5))\n",
    "sns.heatmap(data.corr(), annot=True, linewidths=.5, ax=ax)\n",
    "plt.show()"
   ]
  },
  {
   "cell_type": "code",
   "execution_count": 75,
   "metadata": {},
   "outputs": [
    {
     "name": "stdout",
     "output_type": "stream",
     "text": [
      "<class 'pandas.core.frame.DataFrame'>\n",
      "RangeIndex: 207319 entries, 0 to 207318\n",
      "Data columns (total 17 columns):\n",
      "id_assessment                 207319 non-null object\n",
      "id_student                    207319 non-null object\n",
      "date_submitted                207319 non-null int64\n",
      "is_banked                     207319 non-null object\n",
      "score                         207319 non-null float64\n",
      "code_module                   207319 non-null object\n",
      "code_presentation             207319 non-null object\n",
      "gender                        207319 non-null object\n",
      "region                        207319 non-null object\n",
      "highest_education             207319 non-null object\n",
      "imd_band                      207319 non-null object\n",
      "age_band                      207319 non-null object\n",
      "num_of_prev_attempts          207319 non-null int64\n",
      "studied_credits               207319 non-null int64\n",
      "disability                    207319 non-null object\n",
      "final_result                  207319 non-null object\n",
      "module_presentation_length    207319 non-null int64\n",
      "dtypes: float64(1), int64(4), object(12)\n",
      "memory usage: 26.9+ MB\n"
     ]
    }
   ],
   "source": [
    "data.info()"
   ]
  },
  {
   "cell_type": "code",
   "execution_count": 6,
   "metadata": {},
   "outputs": [
    {
     "data": {
      "text/plain": [
       "(207319, 17)"
      ]
     },
     "execution_count": 6,
     "metadata": {},
     "output_type": "execute_result"
    }
   ],
   "source": [
    "data.shape"
   ]
  },
  {
   "cell_type": "code",
   "execution_count": 78,
   "metadata": {},
   "outputs": [
    {
     "ename": "AttributeError",
     "evalue": "'NoneType' object has no attribute 'to_csv'",
     "output_type": "error",
     "traceback": [
      "\u001b[0;31m---------------------------------------------------------------------------\u001b[0m",
      "\u001b[0;31mAttributeError\u001b[0m                            Traceback (most recent call last)",
      "\u001b[0;32m<ipython-input-78-89e0c1fa00ae>\u001b[0m in \u001b[0;36m<module>\u001b[0;34m\u001b[0m\n\u001b[0;32m----> 1\u001b[0;31m \u001b[0mdata\u001b[0m \u001b[0;34m=\u001b[0m \u001b[0mdata\u001b[0m\u001b[0;34m.\u001b[0m\u001b[0mto_csv\u001b[0m\u001b[0;34m(\u001b[0m\u001b[0;34m'Data/ml.csv'\u001b[0m\u001b[0;34m,\u001b[0m \u001b[0mindex\u001b[0m\u001b[0;34m=\u001b[0m\u001b[0;32mFalse\u001b[0m\u001b[0;34m)\u001b[0m\u001b[0;34m\u001b[0m\u001b[0;34m\u001b[0m\u001b[0m\n\u001b[0m",
      "\u001b[0;31mAttributeError\u001b[0m: 'NoneType' object has no attribute 'to_csv'"
     ]
    }
   ],
   "source": [
    "data = data.to_csv('Data/ml.csv', index=False)"
   ]
  },
  {
   "cell_type": "code",
   "execution_count": null,
   "metadata": {},
   "outputs": [],
   "source": []
  }
 ],
 "metadata": {
  "kernelspec": {
   "display_name": "Python 3",
   "language": "python",
   "name": "python3"
  },
  "language_info": {
   "codemirror_mode": {
    "name": "ipython",
    "version": 3
   },
   "file_extension": ".py",
   "mimetype": "text/x-python",
   "name": "python",
   "nbconvert_exporter": "python",
   "pygments_lexer": "ipython3",
   "version": "3.7.3"
  }
 },
 "nbformat": 4,
 "nbformat_minor": 2
}
