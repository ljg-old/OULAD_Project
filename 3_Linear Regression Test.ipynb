{
 "cells": [
  {
   "cell_type": "code",
   "execution_count": 4,
   "metadata": {},
   "outputs": [],
   "source": [
    "import pandas as pd\n",
    "import pandas_profiling\n",
    "import numpy as np\n",
    "import matplotlib.pyplot as plt\n",
    "%matplotlib inline\n",
    "import seaborn as sns\n",
    "import matplotlib.ticker as mtick\n",
    "from sklearn.linear_model import LinearRegression"
   ]
  },
  {
   "cell_type": "code",
   "execution_count": 5,
   "metadata": {},
   "outputs": [],
   "source": [
    "data = pd.read_csv('Data/ml.csv')"
   ]
  },
  {
   "cell_type": "code",
   "execution_count": 6,
   "metadata": {},
   "outputs": [
    {
     "name": "stdout",
     "output_type": "stream",
     "text": [
      "<class 'pandas.core.frame.DataFrame'>\n",
      "RangeIndex: 207319 entries, 0 to 207318\n",
      "Data columns (total 17 columns):\n",
      "id_assessment                 207319 non-null int64\n",
      "id_student                    207319 non-null int64\n",
      "date_submitted                207319 non-null int64\n",
      "is_banked                     207319 non-null int64\n",
      "score                         207319 non-null float64\n",
      "code_module                   207319 non-null object\n",
      "code_presentation             207319 non-null object\n",
      "gender                        207319 non-null object\n",
      "region                        207319 non-null object\n",
      "highest_education             207319 non-null object\n",
      "imd_band                      207319 non-null object\n",
      "age_band                      207319 non-null object\n",
      "num_of_prev_attempts          207319 non-null int64\n",
      "studied_credits               207319 non-null int64\n",
      "disability                    207319 non-null object\n",
      "final_result                  207319 non-null object\n",
      "module_presentation_length    207319 non-null int64\n",
      "dtypes: float64(1), int64(7), object(9)\n",
      "memory usage: 26.9+ MB\n"
     ]
    }
   ],
   "source": [
    "data.info()"
   ]
  },
  {
   "cell_type": "code",
   "execution_count": 7,
   "metadata": {},
   "outputs": [],
   "source": [
    "data['id_assessment'] = data['id_assessment'].apply(str)\n",
    "data['id_student'] = data['id_student'].apply(str)\n",
    "data['is_banked'] = data['is_banked'].apply(str)\n",
    "data['code_module'] = data['code_module'].apply(str)\n",
    "data['code_presentation'] = data['code_presentation'].apply(str)"
   ]
  },
  {
   "cell_type": "markdown",
   "metadata": {},
   "source": [
    "Separate the target and the rest of the columns."
   ]
  },
  {
   "cell_type": "code",
   "execution_count": 23,
   "metadata": {},
   "outputs": [],
   "source": [
    "data_data = data[['date_submitted', 'num_of_prev_attempts', 'studied_credits', 'module_presentation_length']]\n",
    "data_target = data[\"score\"]"
   ]
  },
  {
   "cell_type": "markdown",
   "metadata": {},
   "source": [
    "Initialize the model in the variable `data_model`"
   ]
  },
  {
   "cell_type": "code",
   "execution_count": 24,
   "metadata": {},
   "outputs": [],
   "source": [
    "data_model = LinearRegression()"
   ]
  },
  {
   "cell_type": "markdown",
   "metadata": {},
   "source": [
    "Fit the model and print the intercept and coefficients of the model. "
   ]
  },
  {
   "cell_type": "code",
   "execution_count": 25,
   "metadata": {},
   "outputs": [],
   "source": [
    "# Your code here:\n",
    "from sklearn.model_selection import train_test_split\n",
    "\n",
    "X_train, X_test, y_train, y_test=train_test_split(data_data, data_target, test_size=0.2)"
   ]
  },
  {
   "cell_type": "code",
   "execution_count": 26,
   "metadata": {},
   "outputs": [
    {
     "name": "stdout",
     "output_type": "stream",
     "text": [
      "Intercept: 72.87521744426422\n",
      "\n",
      "Coef : [-0.01193744 -3.06640285 -0.0211871   0.02338734]\n"
     ]
    }
   ],
   "source": [
    "data_model.fit(X_train, y_train)\n",
    "print('Intercept: {}'.format(data_model.intercept_))\n",
    "print ('')\n",
    "print('Coef : {}'.format(data_model.coef_))"
   ]
  },
  {
   "cell_type": "code",
   "execution_count": 27,
   "metadata": {},
   "outputs": [],
   "source": [
    "from sklearn.metrics import r2_score"
   ]
  },
  {
   "cell_type": "code",
   "execution_count": 28,
   "metadata": {},
   "outputs": [
    {
     "data": {
      "text/plain": [
       "0.010074812443148562"
      ]
     },
     "execution_count": 28,
     "metadata": {},
     "output_type": "execute_result"
    }
   ],
   "source": [
    "y_pred=data_model.predict(X_train)\n",
    "\n",
    "r2_score(y_train, y_pred)"
   ]
  },
  {
   "cell_type": "code",
   "execution_count": 29,
   "metadata": {},
   "outputs": [
    {
     "data": {
      "text/plain": [
       "0.009759794433369495"
      ]
     },
     "execution_count": 29,
     "metadata": {},
     "output_type": "execute_result"
    }
   ],
   "source": [
    "y_test_pred=data_model.predict(X_test)\n",
    "\n",
    "r2_score(y_test, y_test_pred)"
   ]
  }
 ],
 "metadata": {
  "kernelspec": {
   "display_name": "Python 3",
   "language": "python",
   "name": "python3"
  },
  "language_info": {
   "codemirror_mode": {
    "name": "ipython",
    "version": 3
   },
   "file_extension": ".py",
   "mimetype": "text/x-python",
   "name": "python",
   "nbconvert_exporter": "python",
   "pygments_lexer": "ipython3",
   "version": "3.7.3"
  }
 },
 "nbformat": 4,
 "nbformat_minor": 2
}
