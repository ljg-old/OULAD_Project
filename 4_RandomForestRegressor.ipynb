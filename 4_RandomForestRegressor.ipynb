{
 "cells": [
  {
   "cell_type": "markdown",
   "metadata": {},
   "source": [
    "# Import libraries"
   ]
  },
  {
   "cell_type": "code",
   "execution_count": 26,
   "metadata": {},
   "outputs": [],
   "source": [
    "import pandas as pd\n",
    "import numpy as np\n",
    "from sklearn.ensemble import RandomForestRegressor\n",
    "from sklearn.metrics import r2_score\n",
    "from sklearn.metrics import mean_absolute_error\n",
    "from sklearn.model_selection import train_test_split\n",
    "from sklearn.model_selection import GridSearchCV\n",
    "import matplotlib.pyplot as plt\n",
    "\n",
    "%matplotlib inline"
   ]
  },
  {
   "cell_type": "markdown",
   "metadata": {},
   "source": [
    "# Read csv"
   ]
  },
  {
   "cell_type": "code",
   "execution_count": 27,
   "metadata": {},
   "outputs": [],
   "source": [
    "data = pd.read_csv('Data/ml.csv')"
   ]
  },
  {
   "cell_type": "code",
   "execution_count": 28,
   "metadata": {},
   "outputs": [
    {
     "data": {
      "text/plain": [
       "Index(['date_submitted', 'is_banked', 'score', 'code_module',\n",
       "       'code_presentation', 'gender', 'region', 'highest_education',\n",
       "       'imd_band', 'age_band', 'num_of_prev_attempts', 'studied_credits',\n",
       "       'disability', 'final_result', 'module_presentation_length'],\n",
       "      dtype='object')"
      ]
     },
     "execution_count": 28,
     "metadata": {},
     "output_type": "execute_result"
    }
   ],
   "source": [
    "#Check the columns\n",
    "\n",
    "data.columns"
   ]
  },
  {
   "cell_type": "code",
   "execution_count": 29,
   "metadata": {},
   "outputs": [
    {
     "data": {
      "text/plain": [
       "(207156, 15)"
      ]
     },
     "execution_count": 29,
     "metadata": {},
     "output_type": "execute_result"
    }
   ],
   "source": [
    "#Number of rows and columns\n",
    "\n",
    "data.shape"
   ]
  },
  {
   "cell_type": "code",
   "execution_count": 30,
   "metadata": {},
   "outputs": [],
   "source": [
    "#Transform categorical variables to object\n",
    "\n",
    "data['is_banked'] = data['is_banked'].apply(str)\n",
    "data['code_module'] = data['code_module'].apply(str)\n",
    "data['code_presentation'] = data['code_presentation'].apply(str)"
   ]
  },
  {
   "cell_type": "code",
   "execution_count": 31,
   "metadata": {},
   "outputs": [],
   "source": [
    "#Dummies\n",
    "\n",
    "to_dummies = ['is_banked','code_module', 'code_presentation', 'gender', 'region',\n",
    "       'highest_education', 'imd_band', 'age_band', 'disability', 'final_result',]\n",
    "\n",
    "data = pd.get_dummies(data, columns=to_dummies)"
   ]
  },
  {
   "cell_type": "code",
   "execution_count": 32,
   "metadata": {},
   "outputs": [
    {
     "data": {
      "text/plain": [
       "Index(['date_submitted', 'score', 'num_of_prev_attempts', 'studied_credits',\n",
       "       'module_presentation_length', 'is_banked_0', 'is_banked_1',\n",
       "       'code_module_AAA', 'code_module_BBB', 'code_module_CCC',\n",
       "       'code_module_DDD', 'code_module_EEE', 'code_module_FFF',\n",
       "       'code_module_GGG', 'code_presentation_2013B', 'code_presentation_2013J',\n",
       "       'code_presentation_2014B', 'code_presentation_2014J', 'gender_F',\n",
       "       'gender_M', 'region_East Anglian Region', 'region_East Midlands Region',\n",
       "       'region_Ireland', 'region_London Region', 'region_North Region',\n",
       "       'region_North Western Region', 'region_Scotland',\n",
       "       'region_South East Region', 'region_South Region',\n",
       "       'region_South West Region', 'region_Wales',\n",
       "       'region_West Midlands Region', 'region_Yorkshire Region',\n",
       "       'highest_education_A Level or Equivalent',\n",
       "       'highest_education_HE Qualification',\n",
       "       'highest_education_Lower Than A Level',\n",
       "       'highest_education_No Formal quals',\n",
       "       'highest_education_Post Graduate Qualification', 'imd_band_0-10%',\n",
       "       'imd_band_10-20', 'imd_band_20-30%', 'imd_band_30-40%',\n",
       "       'imd_band_40-50%', 'imd_band_50-60%', 'imd_band_60-70%',\n",
       "       'imd_band_70-80%', 'imd_band_80-90%', 'imd_band_90-100%', 'imd_band_?',\n",
       "       'age_band_0-35', 'age_band_35-55', 'age_band_55<=', 'disability_N',\n",
       "       'disability_Y', 'final_result_Distinction', 'final_result_Fail',\n",
       "       'final_result_Pass', 'final_result_Withdrawn'],\n",
       "      dtype='object')"
      ]
     },
     "execution_count": 32,
     "metadata": {},
     "output_type": "execute_result"
    }
   ],
   "source": [
    "#Check columns\n",
    "\n",
    "data.columns"
   ]
  },
  {
   "cell_type": "code",
   "execution_count": 33,
   "metadata": {},
   "outputs": [],
   "source": [
    "#Separate target from the rest of columns\n",
    "\n",
    "data_data = data[['date_submitted', 'num_of_prev_attempts', 'studied_credits',\n",
    "       'module_presentation_length', 'is_banked_0', 'is_banked_1',\n",
    "       'code_module_AAA', 'code_module_BBB', 'code_module_CCC',\n",
    "       'code_module_DDD', 'code_module_EEE', 'code_module_FFF',\n",
    "       'code_module_GGG', 'code_presentation_2013B', 'code_presentation_2013J',\n",
    "       'code_presentation_2014B', 'code_presentation_2014J', 'gender_F',\n",
    "       'gender_M', 'region_East Anglian Region', 'region_East Midlands Region',\n",
    "       'region_Ireland', 'region_London Region', 'region_North Region',\n",
    "       'region_North Western Region', 'region_Scotland',\n",
    "       'region_South East Region', 'region_South Region',\n",
    "       'region_South West Region', 'region_Wales',\n",
    "       'region_West Midlands Region', 'region_Yorkshire Region',\n",
    "       'highest_education_A Level or Equivalent',\n",
    "       'highest_education_HE Qualification',\n",
    "       'highest_education_Lower Than A Level',\n",
    "       'highest_education_No Formal quals',\n",
    "       'highest_education_Post Graduate Qualification', 'imd_band_0-10%',\n",
    "       'imd_band_10-20', 'imd_band_20-30%', 'imd_band_30-40%',\n",
    "       'imd_band_40-50%', 'imd_band_50-60%', 'imd_band_60-70%',\n",
    "       'imd_band_70-80%', 'imd_band_80-90%', 'imd_band_90-100%', 'imd_band_?',\n",
    "       'age_band_0-35', 'age_band_35-55', 'age_band_55<=', 'disability_N',\n",
    "       'disability_Y', 'final_result_Distinction', 'final_result_Fail',\n",
    "       'final_result_Pass', 'final_result_Withdrawn']]\n",
    "\n",
    "data_target = data_ml[\"score\"]"
   ]
  },
  {
   "cell_type": "code",
   "execution_count": 34,
   "metadata": {},
   "outputs": [],
   "source": [
    "# Split Train and Test\n",
    "\n",
    "from sklearn.model_selection import train_test_split\n",
    "\n",
    "X_train, X_test, y_train, y_test=train_test_split(data_data, data_target, test_size=0.3, random_state=42)"
   ]
  },
  {
   "cell_type": "code",
   "execution_count": 35,
   "metadata": {},
   "outputs": [],
   "source": [
    "#Grid search for parameter selection for a Random Forest Regressor model\n",
    "param_grid = {\n",
    "    'n_estimators': [100, 1000],\n",
    "    'max_features': ['auto','sqrt','log2'],\n",
    "    'max_depth': [25, 15]\n",
    "}"
   ]
  },
  {
   "cell_type": "code",
   "execution_count": 36,
   "metadata": {},
   "outputs": [],
   "source": [
    "RFR = RandomForestRegressor(n_jobs=-1)\n",
    "GS = GridSearchCV(RFR, param_grid, cv=5, verbose = 3)"
   ]
  },
  {
   "cell_type": "code",
   "execution_count": 37,
   "metadata": {
    "scrolled": true
   },
   "outputs": [
    {
     "name": "stdout",
     "output_type": "stream",
     "text": [
      "Fitting 5 folds for each of 12 candidates, totalling 60 fits\n",
      "[CV] max_depth=25, max_features=auto, n_estimators=100 ...............\n"
     ]
    },
    {
     "name": "stderr",
     "output_type": "stream",
     "text": [
      "[Parallel(n_jobs=1)]: Using backend SequentialBackend with 1 concurrent workers.\n"
     ]
    },
    {
     "name": "stdout",
     "output_type": "stream",
     "text": [
      "[CV]  max_depth=25, max_features=auto, n_estimators=100, score=0.2902980482339025, total=  34.1s\n",
      "[CV] max_depth=25, max_features=auto, n_estimators=100 ...............\n"
     ]
    },
    {
     "name": "stderr",
     "output_type": "stream",
     "text": [
      "[Parallel(n_jobs=1)]: Done   1 out of   1 | elapsed:   35.3s remaining:    0.0s\n"
     ]
    },
    {
     "name": "stdout",
     "output_type": "stream",
     "text": [
      "[CV]  max_depth=25, max_features=auto, n_estimators=100, score=0.2795377203994047, total=  29.9s\n",
      "[CV] max_depth=25, max_features=auto, n_estimators=100 ...............\n"
     ]
    },
    {
     "name": "stderr",
     "output_type": "stream",
     "text": [
      "[Parallel(n_jobs=1)]: Done   2 out of   2 | elapsed:  1.1min remaining:    0.0s\n"
     ]
    },
    {
     "name": "stdout",
     "output_type": "stream",
     "text": [
      "[CV]  max_depth=25, max_features=auto, n_estimators=100, score=0.3015678536917594, total=  29.6s\n",
      "[CV] max_depth=25, max_features=auto, n_estimators=100 ...............\n",
      "[CV]  max_depth=25, max_features=auto, n_estimators=100, score=0.2900818050298286, total=  29.9s\n",
      "[CV] max_depth=25, max_features=auto, n_estimators=100 ...............\n",
      "[CV]  max_depth=25, max_features=auto, n_estimators=100, score=0.29806262184868804, total=  29.6s\n",
      "[CV] max_depth=25, max_features=auto, n_estimators=1000 ..............\n",
      "[CV]  max_depth=25, max_features=auto, n_estimators=1000, score=0.2949614442855907, total= 5.1min\n",
      "[CV] max_depth=25, max_features=auto, n_estimators=1000 ..............\n",
      "[CV]  max_depth=25, max_features=auto, n_estimators=1000, score=0.28682417588919407, total= 5.1min\n",
      "[CV] max_depth=25, max_features=auto, n_estimators=1000 ..............\n",
      "[CV]  max_depth=25, max_features=auto, n_estimators=1000, score=0.30622365984616806, total= 5.0min\n",
      "[CV] max_depth=25, max_features=auto, n_estimators=1000 ..............\n",
      "[CV]  max_depth=25, max_features=auto, n_estimators=1000, score=0.29484388206346746, total= 5.0min\n",
      "[CV] max_depth=25, max_features=auto, n_estimators=1000 ..............\n",
      "[CV]  max_depth=25, max_features=auto, n_estimators=1000, score=0.30146612770589853, total= 5.3min\n",
      "[CV] max_depth=25, max_features=sqrt, n_estimators=100 ...............\n",
      "[CV]  max_depth=25, max_features=sqrt, n_estimators=100, score=0.3076422670933947, total=   8.7s\n",
      "[CV] max_depth=25, max_features=sqrt, n_estimators=100 ...............\n",
      "[CV]  max_depth=25, max_features=sqrt, n_estimators=100, score=0.30614463068009923, total=   8.6s\n",
      "[CV] max_depth=25, max_features=sqrt, n_estimators=100 ...............\n",
      "[CV]  max_depth=25, max_features=sqrt, n_estimators=100, score=0.3250346170851973, total=   8.3s\n",
      "[CV] max_depth=25, max_features=sqrt, n_estimators=100 ...............\n",
      "[CV]  max_depth=25, max_features=sqrt, n_estimators=100, score=0.3150543953506728, total=   8.3s\n",
      "[CV] max_depth=25, max_features=sqrt, n_estimators=100 ...............\n",
      "[CV]  max_depth=25, max_features=sqrt, n_estimators=100, score=0.3222609341315842, total=   8.3s\n",
      "[CV] max_depth=25, max_features=sqrt, n_estimators=1000 ..............\n",
      "[CV]  max_depth=25, max_features=sqrt, n_estimators=1000, score=0.31284104454045825, total= 1.5min\n",
      "[CV] max_depth=25, max_features=sqrt, n_estimators=1000 ..............\n",
      "[CV]  max_depth=25, max_features=sqrt, n_estimators=1000, score=0.308337838790366, total= 1.5min\n",
      "[CV] max_depth=25, max_features=sqrt, n_estimators=1000 ..............\n",
      "[CV]  max_depth=25, max_features=sqrt, n_estimators=1000, score=0.32926327396685673, total= 1.5min\n",
      "[CV] max_depth=25, max_features=sqrt, n_estimators=1000 ..............\n",
      "[CV]  max_depth=25, max_features=sqrt, n_estimators=1000, score=0.3179001984999511, total= 1.5min\n",
      "[CV] max_depth=25, max_features=sqrt, n_estimators=1000 ..............\n",
      "[CV]  max_depth=25, max_features=sqrt, n_estimators=1000, score=0.3253474833061881, total= 1.5min\n",
      "[CV] max_depth=25, max_features=log2, n_estimators=100 ...............\n",
      "[CV]  max_depth=25, max_features=log2, n_estimators=100, score=0.30227504550655737, total=   7.8s\n",
      "[CV] max_depth=25, max_features=log2, n_estimators=100 ...............\n",
      "[CV]  max_depth=25, max_features=log2, n_estimators=100, score=0.29909787674969335, total=   7.6s\n",
      "[CV] max_depth=25, max_features=log2, n_estimators=100 ...............\n",
      "[CV]  max_depth=25, max_features=log2, n_estimators=100, score=0.3157147847963345, total=   7.6s\n",
      "[CV] max_depth=25, max_features=log2, n_estimators=100 ...............\n",
      "[CV]  max_depth=25, max_features=log2, n_estimators=100, score=0.3073518323647608, total=   7.9s\n",
      "[CV] max_depth=25, max_features=log2, n_estimators=100 ...............\n",
      "[CV]  max_depth=25, max_features=log2, n_estimators=100, score=0.31343882152624936, total=   8.0s\n",
      "[CV] max_depth=25, max_features=log2, n_estimators=1000 ..............\n",
      "[CV]  max_depth=25, max_features=log2, n_estimators=1000, score=0.3054087691564731, total= 1.4min\n",
      "[CV] max_depth=25, max_features=log2, n_estimators=1000 ..............\n",
      "[CV]  max_depth=25, max_features=log2, n_estimators=1000, score=0.30087393063443046, total= 1.4min\n",
      "[CV] max_depth=25, max_features=log2, n_estimators=1000 ..............\n",
      "[CV]  max_depth=25, max_features=log2, n_estimators=1000, score=0.3206252384789856, total= 1.4min\n",
      "[CV] max_depth=25, max_features=log2, n_estimators=1000 ..............\n",
      "[CV]  max_depth=25, max_features=log2, n_estimators=1000, score=0.30934594786772807, total= 1.5min\n",
      "[CV] max_depth=25, max_features=log2, n_estimators=1000 ..............\n",
      "[CV]  max_depth=25, max_features=log2, n_estimators=1000, score=0.317635806728204, total= 1.4min\n",
      "[CV] max_depth=15, max_features=auto, n_estimators=100 ...............\n",
      "[CV]  max_depth=15, max_features=auto, n_estimators=100, score=0.29482827941445344, total=  22.8s\n",
      "[CV] max_depth=15, max_features=auto, n_estimators=100 ...............\n",
      "[CV]  max_depth=15, max_features=auto, n_estimators=100, score=0.2866867009185803, total=  21.8s\n",
      "[CV] max_depth=15, max_features=auto, n_estimators=100 ...............\n",
      "[CV]  max_depth=15, max_features=auto, n_estimators=100, score=0.30764317083237425, total=  23.4s\n",
      "[CV] max_depth=15, max_features=auto, n_estimators=100 ...............\n",
      "[CV]  max_depth=15, max_features=auto, n_estimators=100, score=0.295217040164387, total=  23.8s\n",
      "[CV] max_depth=15, max_features=auto, n_estimators=100 ...............\n",
      "[CV]  max_depth=15, max_features=auto, n_estimators=100, score=0.3021107129075674, total=  22.7s\n",
      "[CV] max_depth=15, max_features=auto, n_estimators=1000 ..............\n",
      "[CV]  max_depth=15, max_features=auto, n_estimators=1000, score=0.29683824967100114, total= 3.6min\n",
      "[CV] max_depth=15, max_features=auto, n_estimators=1000 ..............\n",
      "[CV]  max_depth=15, max_features=auto, n_estimators=1000, score=0.2884113576373776, total= 3.5min\n",
      "[CV] max_depth=15, max_features=auto, n_estimators=1000 ..............\n",
      "[CV]  max_depth=15, max_features=auto, n_estimators=1000, score=0.30957359908252224, total= 3.6min\n",
      "[CV] max_depth=15, max_features=auto, n_estimators=1000 ..............\n",
      "[CV]  max_depth=15, max_features=auto, n_estimators=1000, score=0.29689840651451227, total= 3.8min\n",
      "[CV] max_depth=15, max_features=auto, n_estimators=1000 ..............\n",
      "[CV]  max_depth=15, max_features=auto, n_estimators=1000, score=0.3049537822424566, total= 4.1min\n",
      "[CV] max_depth=15, max_features=sqrt, n_estimators=100 ...............\n",
      "[CV]  max_depth=15, max_features=sqrt, n_estimators=100, score=0.2656620472186738, total=   5.2s\n",
      "[CV] max_depth=15, max_features=sqrt, n_estimators=100 ...............\n",
      "[CV]  max_depth=15, max_features=sqrt, n_estimators=100, score=0.2634021722498945, total=   5.7s\n",
      "[CV] max_depth=15, max_features=sqrt, n_estimators=100 ...............\n",
      "[CV]  max_depth=15, max_features=sqrt, n_estimators=100, score=0.2801164791229198, total=   5.4s\n",
      "[CV] max_depth=15, max_features=sqrt, n_estimators=100 ...............\n",
      "[CV]  max_depth=15, max_features=sqrt, n_estimators=100, score=0.26824617397783757, total=   7.2s\n",
      "[CV] max_depth=15, max_features=sqrt, n_estimators=100 ...............\n",
      "[CV]  max_depth=15, max_features=sqrt, n_estimators=100, score=0.2783102463374798, total=   6.2s\n",
      "[CV] max_depth=15, max_features=sqrt, n_estimators=1000 ..............\n",
      "[CV]  max_depth=15, max_features=sqrt, n_estimators=1000, score=0.26787105059274097, total=  50.7s\n",
      "[CV] max_depth=15, max_features=sqrt, n_estimators=1000 ..............\n",
      "[CV]  max_depth=15, max_features=sqrt, n_estimators=1000, score=0.2650791010878619, total=  56.2s\n",
      "[CV] max_depth=15, max_features=sqrt, n_estimators=1000 ..............\n",
      "[CV]  max_depth=15, max_features=sqrt, n_estimators=1000, score=0.28253063016272884, total=  55.2s\n",
      "[CV] max_depth=15, max_features=sqrt, n_estimators=1000 ..............\n",
      "[CV]  max_depth=15, max_features=sqrt, n_estimators=1000, score=0.2699160465010283, total=  51.8s\n",
      "[CV] max_depth=15, max_features=sqrt, n_estimators=1000 ..............\n",
      "[CV]  max_depth=15, max_features=sqrt, n_estimators=1000, score=0.27946601607813537, total=  52.8s\n",
      "[CV] max_depth=15, max_features=log2, n_estimators=100 ...............\n",
      "[CV]  max_depth=15, max_features=log2, n_estimators=100, score=0.2523258631820322, total=   4.0s\n",
      "[CV] max_depth=15, max_features=log2, n_estimators=100 ...............\n"
     ]
    },
    {
     "name": "stdout",
     "output_type": "stream",
     "text": [
      "[CV]  max_depth=15, max_features=log2, n_estimators=100, score=0.2485975997258253, total=   4.0s\n",
      "[CV] max_depth=15, max_features=log2, n_estimators=100 ...............\n",
      "[CV]  max_depth=15, max_features=log2, n_estimators=100, score=0.2644839969515822, total=   4.0s\n",
      "[CV] max_depth=15, max_features=log2, n_estimators=100 ...............\n",
      "[CV]  max_depth=15, max_features=log2, n_estimators=100, score=0.2553430159889427, total=   4.1s\n",
      "[CV] max_depth=15, max_features=log2, n_estimators=100 ...............\n",
      "[CV]  max_depth=15, max_features=log2, n_estimators=100, score=0.2608751599331115, total=   4.0s\n",
      "[CV] max_depth=15, max_features=log2, n_estimators=1000 ..............\n",
      "[CV]  max_depth=15, max_features=log2, n_estimators=1000, score=0.25264588358908724, total=  38.7s\n",
      "[CV] max_depth=15, max_features=log2, n_estimators=1000 ..............\n",
      "[CV]  max_depth=15, max_features=log2, n_estimators=1000, score=0.25142787991481974, total=  38.5s\n",
      "[CV] max_depth=15, max_features=log2, n_estimators=1000 ..............\n",
      "[CV]  max_depth=15, max_features=log2, n_estimators=1000, score=0.26633854827935566, total=  38.9s\n",
      "[CV] max_depth=15, max_features=log2, n_estimators=1000 ..............\n",
      "[CV]  max_depth=15, max_features=log2, n_estimators=1000, score=0.2556806310241456, total=  38.6s\n",
      "[CV] max_depth=15, max_features=log2, n_estimators=1000 ..............\n",
      "[CV]  max_depth=15, max_features=log2, n_estimators=1000, score=0.26394726527384615, total=  44.2s\n"
     ]
    },
    {
     "name": "stderr",
     "output_type": "stream",
     "text": [
      "[Parallel(n_jobs=1)]: Done  60 out of  60 | elapsed: 78.9min finished\n"
     ]
    },
    {
     "data": {
      "text/plain": [
       "GridSearchCV(cv=5, error_score='raise-deprecating',\n",
       "       estimator=RandomForestRegressor(bootstrap=True, criterion='mse', max_depth=None,\n",
       "           max_features='auto', max_leaf_nodes=None,\n",
       "           min_impurity_decrease=0.0, min_impurity_split=None,\n",
       "           min_samples_leaf=1, min_samples_split=2,\n",
       "           min_weight_fraction_leaf=0.0, n_estimators='warn', n_jobs=-1,\n",
       "           oob_score=False, random_state=None, verbose=0, warm_start=False),\n",
       "       fit_params=None, iid='warn', n_jobs=None,\n",
       "       param_grid={'n_estimators': [100, 1000], 'max_features': ['auto', 'sqrt', 'log2'], 'max_depth': [25, 15]},\n",
       "       pre_dispatch='2*n_jobs', refit=True, return_train_score='warn',\n",
       "       scoring=None, verbose=3)"
      ]
     },
     "execution_count": 37,
     "metadata": {},
     "output_type": "execute_result"
    }
   ],
   "source": [
    "GS.fit(X_train, y_train)"
   ]
  },
  {
   "cell_type": "code",
   "execution_count": 38,
   "metadata": {},
   "outputs": [
    {
     "data": {
      "text/plain": [
       "{'max_depth': 25, 'max_features': 'sqrt', 'n_estimators': 1000}"
      ]
     },
     "execution_count": 38,
     "metadata": {},
     "output_type": "execute_result"
    }
   ],
   "source": [
    "GS.best_params_"
   ]
  },
  {
   "cell_type": "code",
   "execution_count": 39,
   "metadata": {},
   "outputs": [
    {
     "data": {
      "text/plain": [
       "RandomForestRegressor(bootstrap=True, criterion='mse', max_depth=25,\n",
       "           max_features='sqrt', max_leaf_nodes=None,\n",
       "           min_impurity_decrease=0.0, min_impurity_split=None,\n",
       "           min_samples_leaf=1, min_samples_split=2,\n",
       "           min_weight_fraction_leaf=0.0, n_estimators=1000, n_jobs=None,\n",
       "           oob_score=False, random_state=None, verbose=0, warm_start=False)"
      ]
     },
     "execution_count": 39,
     "metadata": {},
     "output_type": "execute_result"
    }
   ],
   "source": [
    "RFR = RandomForestRegressor(max_depth = 25, max_features='sqrt', n_estimators=1000)\n",
    "RFR.fit(X_train, y_train)"
   ]
  },
  {
   "cell_type": "code",
   "execution_count": 40,
   "metadata": {},
   "outputs": [],
   "source": [
    "y_train_pred = RFR.predict(X_train)\n",
    "y_pred = RFR.predict(X_test)"
   ]
  },
  {
   "cell_type": "code",
   "execution_count": 41,
   "metadata": {},
   "outputs": [
    {
     "name": "stdout",
     "output_type": "stream",
     "text": [
      "TRAIN MODEL METRICS:\n",
      "The R2 score is: 0.7432713203286277\n",
      "The MAE score is: 7.251468092215323\n"
     ]
    },
    {
     "data": {
      "image/png": "[encoded data removed]",
      "text/plain": [
       "<Figure size 432x288 with 1 Axes>"
      ]
     },
     "metadata": {
      "needs_background": "light"
     },
     "output_type": "display_data"
    }
   ],
   "source": [
    "r2 = r2_score(y_train, y_train_pred)\n",
    "mae = mean_absolute_error(y_train, y_train_pred)\n",
    "print ('TRAIN MODEL METRICS:')\n",
    "print('The R2 score is: ' + str(r2))\n",
    "print('The MAE score is: ' + str(mae))\n",
    "\n",
    "plt.scatter(y_train, y_train_pred)\n",
    "plt.plot([0,100], [0,100], color='red')\n",
    "plt.show()"
   ]
  },
  {
   "cell_type": "code",
   "execution_count": 42,
   "metadata": {},
   "outputs": [
    {
     "name": "stdout",
     "output_type": "stream",
     "text": [
      "TEST MODEL METRICS:\n",
      "The R2 score is: 0.3215301604602927\n",
      "The MAE score is: 11.612282578596071\n"
     ]
    },
    {
     "data": {
      "image/png": "[encoded data removed]",
      "text/plain": [
       "<Figure size 432x288 with 1 Axes>"
      ]
     },
     "metadata": {
      "needs_background": "light"
     },
     "output_type": "display_data"
    }
   ],
   "source": [
    "r2 = r2_score(y_test, y_pred)\n",
    "mae = mean_absolute_error(y_test, y_pred)\n",
    "print ('TEST MODEL METRICS:')\n",
    "print('The R2 score is: ' + str(r2))\n",
    "print('The MAE score is: ' + str(mae))\n",
    "\n",
    "plt.scatter(y_test, y_pred)\n",
    "plt.plot([0,100], [0,100], color='red')\n",
    "plt.show()"
   ]
  },
  {
   "cell_type": "code",
   "execution_count": 111,
   "metadata": {},
   "outputs": [
    {
     "data": {
      "text/html": [
       "<div>\n",
       "<style scoped>\n",
       "    .dataframe tbody tr th:only-of-type {\n",
       "        vertical-align: middle;\n",
       "    }\n",
       "\n",
       "    .dataframe tbody tr th {\n",
       "        vertical-align: top;\n",
       "    }\n",
       "\n",
       "    .dataframe thead th {\n",
       "        text-align: right;\n",
       "    }\n",
       "</style>\n",
       "<table border=\"1\" class=\"dataframe\">\n",
       "  <thead>\n",
       "    <tr style=\"text-align: right;\">\n",
       "      <th></th>\n",
       "      <th>date_submitted</th>\n",
       "      <th>score</th>\n",
       "      <th>num_of_prev_attempts</th>\n",
       "      <th>studied_credits</th>\n",
       "      <th>module_presentation_length</th>\n",
       "      <th>is_banked_0</th>\n",
       "      <th>is_banked_1</th>\n",
       "      <th>code_module_AAA</th>\n",
       "      <th>code_module_BBB</th>\n",
       "      <th>code_module_CCC</th>\n",
       "      <th>...</th>\n",
       "      <th>imd_band_?</th>\n",
       "      <th>age_band_0-35</th>\n",
       "      <th>age_band_35-55</th>\n",
       "      <th>age_band_55&lt;=</th>\n",
       "      <th>disability_N</th>\n",
       "      <th>disability_Y</th>\n",
       "      <th>final_result_Distinction</th>\n",
       "      <th>final_result_Fail</th>\n",
       "      <th>final_result_Pass</th>\n",
       "      <th>final_result_Withdrawn</th>\n",
       "    </tr>\n",
       "  </thead>\n",
       "  <tbody>\n",
       "    <tr>\n",
       "      <th>0</th>\n",
       "      <td>18</td>\n",
       "      <td>78.0</td>\n",
       "      <td>0</td>\n",
       "      <td>240</td>\n",
       "      <td>268</td>\n",
       "      <td>1</td>\n",
       "      <td>0</td>\n",
       "      <td>1</td>\n",
       "      <td>0</td>\n",
       "      <td>0</td>\n",
       "      <td>...</td>\n",
       "      <td>0</td>\n",
       "      <td>0</td>\n",
       "      <td>0</td>\n",
       "      <td>1</td>\n",
       "      <td>1</td>\n",
       "      <td>0</td>\n",
       "      <td>0</td>\n",
       "      <td>0</td>\n",
       "      <td>1</td>\n",
       "      <td>0</td>\n",
       "    </tr>\n",
       "    <tr>\n",
       "      <th>1</th>\n",
       "      <td>53</td>\n",
       "      <td>85.0</td>\n",
       "      <td>0</td>\n",
       "      <td>240</td>\n",
       "      <td>268</td>\n",
       "      <td>1</td>\n",
       "      <td>0</td>\n",
       "      <td>1</td>\n",
       "      <td>0</td>\n",
       "      <td>0</td>\n",
       "      <td>...</td>\n",
       "      <td>0</td>\n",
       "      <td>0</td>\n",
       "      <td>0</td>\n",
       "      <td>1</td>\n",
       "      <td>1</td>\n",
       "      <td>0</td>\n",
       "      <td>0</td>\n",
       "      <td>0</td>\n",
       "      <td>1</td>\n",
       "      <td>0</td>\n",
       "    </tr>\n",
       "    <tr>\n",
       "      <th>2</th>\n",
       "      <td>115</td>\n",
       "      <td>80.0</td>\n",
       "      <td>0</td>\n",
       "      <td>240</td>\n",
       "      <td>268</td>\n",
       "      <td>1</td>\n",
       "      <td>0</td>\n",
       "      <td>1</td>\n",
       "      <td>0</td>\n",
       "      <td>0</td>\n",
       "      <td>...</td>\n",
       "      <td>0</td>\n",
       "      <td>0</td>\n",
       "      <td>0</td>\n",
       "      <td>1</td>\n",
       "      <td>1</td>\n",
       "      <td>0</td>\n",
       "      <td>0</td>\n",
       "      <td>0</td>\n",
       "      <td>1</td>\n",
       "      <td>0</td>\n",
       "    </tr>\n",
       "    <tr>\n",
       "      <th>3</th>\n",
       "      <td>164</td>\n",
       "      <td>85.0</td>\n",
       "      <td>0</td>\n",
       "      <td>240</td>\n",
       "      <td>268</td>\n",
       "      <td>1</td>\n",
       "      <td>0</td>\n",
       "      <td>1</td>\n",
       "      <td>0</td>\n",
       "      <td>0</td>\n",
       "      <td>...</td>\n",
       "      <td>0</td>\n",
       "      <td>0</td>\n",
       "      <td>0</td>\n",
       "      <td>1</td>\n",
       "      <td>1</td>\n",
       "      <td>0</td>\n",
       "      <td>0</td>\n",
       "      <td>0</td>\n",
       "      <td>1</td>\n",
       "      <td>0</td>\n",
       "    </tr>\n",
       "    <tr>\n",
       "      <th>4</th>\n",
       "      <td>212</td>\n",
       "      <td>82.0</td>\n",
       "      <td>0</td>\n",
       "      <td>240</td>\n",
       "      <td>268</td>\n",
       "      <td>1</td>\n",
       "      <td>0</td>\n",
       "      <td>1</td>\n",
       "      <td>0</td>\n",
       "      <td>0</td>\n",
       "      <td>...</td>\n",
       "      <td>0</td>\n",
       "      <td>0</td>\n",
       "      <td>0</td>\n",
       "      <td>1</td>\n",
       "      <td>1</td>\n",
       "      <td>0</td>\n",
       "      <td>0</td>\n",
       "      <td>0</td>\n",
       "      <td>1</td>\n",
       "      <td>0</td>\n",
       "    </tr>\n",
       "  </tbody>\n",
       "</table>\n",
       "<p>5 rows × 58 columns</p>\n",
       "</div>"
      ],
      "text/plain": [
       "   date_submitted  score  num_of_prev_attempts  studied_credits  \\\n",
       "0              18   78.0                     0              240   \n",
       "1              53   85.0                     0              240   \n",
       "2             115   80.0                     0              240   \n",
       "3             164   85.0                     0              240   \n",
       "4             212   82.0                     0              240   \n",
       "\n",
       "   module_presentation_length  is_banked_0  is_banked_1  code_module_AAA  \\\n",
       "0                         268            1            0                1   \n",
       "1                         268            1            0                1   \n",
       "2                         268            1            0                1   \n",
       "3                         268            1            0                1   \n",
       "4                         268            1            0                1   \n",
       "\n",
       "   code_module_BBB  code_module_CCC  ...  imd_band_?  age_band_0-35  \\\n",
       "0                0                0  ...           0              0   \n",
       "1                0                0  ...           0              0   \n",
       "2                0                0  ...           0              0   \n",
       "3                0                0  ...           0              0   \n",
       "4                0                0  ...           0              0   \n",
       "\n",
       "   age_band_35-55  age_band_55<=  disability_N  disability_Y  \\\n",
       "0               0              1             1             0   \n",
       "1               0              1             1             0   \n",
       "2               0              1             1             0   \n",
       "3               0              1             1             0   \n",
       "4               0              1             1             0   \n",
       "\n",
       "   final_result_Distinction  final_result_Fail  final_result_Pass  \\\n",
       "0                         0                  0                  1   \n",
       "1                         0                  0                  1   \n",
       "2                         0                  0                  1   \n",
       "3                         0                  0                  1   \n",
       "4                         0                  0                  1   \n",
       "\n",
       "   final_result_Withdrawn  \n",
       "0                       0  \n",
       "1                       0  \n",
       "2                       0  \n",
       "3                       0  \n",
       "4                       0  \n",
       "\n",
       "[5 rows x 58 columns]"
      ]
     },
     "execution_count": 111,
     "metadata": {},
     "output_type": "execute_result"
    }
   ],
   "source": [
    "data_ml.head()"
   ]
  },
  {
   "cell_type": "code",
   "execution_count": 113,
   "metadata": {},
   "outputs": [
    {
     "name": "stdout",
     "output_type": "stream",
     "text": [
      "<class 'pandas.core.frame.DataFrame'>\n",
      "RangeIndex: 207156 entries, 0 to 207155\n",
      "Data columns (total 58 columns):\n",
      "date_submitted                                   207156 non-null int64\n",
      "score                                            207156 non-null float64\n",
      "num_of_prev_attempts                             207156 non-null int64\n",
      "studied_credits                                  207156 non-null int64\n",
      "module_presentation_length                       207156 non-null int64\n",
      "is_banked_0                                      207156 non-null uint8\n",
      "is_banked_1                                      207156 non-null uint8\n",
      "code_module_AAA                                  207156 non-null uint8\n",
      "code_module_BBB                                  207156 non-null uint8\n",
      "code_module_CCC                                  207156 non-null uint8\n",
      "code_module_DDD                                  207156 non-null uint8\n",
      "code_module_EEE                                  207156 non-null uint8\n",
      "code_module_FFF                                  207156 non-null uint8\n",
      "code_module_GGG                                  207156 non-null uint8\n",
      "code_presentation_2013B                          207156 non-null uint8\n",
      "code_presentation_2013J                          207156 non-null uint8\n",
      "code_presentation_2014B                          207156 non-null uint8\n",
      "code_presentation_2014J                          207156 non-null uint8\n",
      "gender_F                                         207156 non-null uint8\n",
      "gender_M                                         207156 non-null uint8\n",
      "region_East Anglian Region                       207156 non-null uint8\n",
      "region_East Midlands Region                      207156 non-null uint8\n",
      "region_Ireland                                   207156 non-null uint8\n",
      "region_London Region                             207156 non-null uint8\n",
      "region_North Region                              207156 non-null uint8\n",
      "region_North Western Region                      207156 non-null uint8\n",
      "region_Scotland                                  207156 non-null uint8\n",
      "region_South East Region                         207156 non-null uint8\n",
      "region_South Region                              207156 non-null uint8\n",
      "region_South West Region                         207156 non-null uint8\n",
      "region_Wales                                     207156 non-null uint8\n",
      "region_West Midlands Region                      207156 non-null uint8\n",
      "region_Yorkshire Region                          207156 non-null uint8\n",
      "highest_education_A Level or Equivalent          207156 non-null uint8\n",
      "highest_education_HE Qualification               207156 non-null uint8\n",
      "highest_education_Lower Than A Level             207156 non-null uint8\n",
      "highest_education_No Formal quals                207156 non-null uint8\n",
      "highest_education_Post Graduate Qualification    207156 non-null uint8\n",
      "imd_band_0-10%                                   207156 non-null uint8\n",
      "imd_band_10-20                                   207156 non-null uint8\n",
      "imd_band_20-30%                                  207156 non-null uint8\n",
      "imd_band_30-40%                                  207156 non-null uint8\n",
      "imd_band_40-50%                                  207156 non-null uint8\n",
      "imd_band_50-60%                                  207156 non-null uint8\n",
      "imd_band_60-70%                                  207156 non-null uint8\n",
      "imd_band_70-80%                                  207156 non-null uint8\n",
      "imd_band_80-90%                                  207156 non-null uint8\n",
      "imd_band_90-100%                                 207156 non-null uint8\n",
      "imd_band_?                                       207156 non-null uint8\n",
      "age_band_0-35                                    207156 non-null uint8\n",
      "age_band_35-55                                   207156 non-null uint8\n",
      "age_band_55<=                                    207156 non-null uint8\n",
      "disability_N                                     207156 non-null uint8\n",
      "disability_Y                                     207156 non-null uint8\n",
      "final_result_Distinction                         207156 non-null uint8\n",
      "final_result_Fail                                207156 non-null uint8\n",
      "final_result_Pass                                207156 non-null uint8\n",
      "final_result_Withdrawn                           207156 non-null uint8\n",
      "dtypes: float64(1), int64(4), uint8(53)\n",
      "memory usage: 18.4 MB\n"
     ]
    }
   ],
   "source": [
    "data_ml.info()"
   ]
  },
  {
   "cell_type": "code",
   "execution_count": null,
   "metadata": {},
   "outputs": [],
   "source": []
  }
 ],
 "metadata": {
  "kernelspec": {
   "display_name": "Python 3",
   "language": "python",
   "name": "python3"
  },
  "language_info": {
   "codemirror_mode": {
    "name": "ipython",
    "version": 3
   },
   "file_extension": ".py",
   "mimetype": "text/x-python",
   "name": "python",
   "nbconvert_exporter": "python",
   "pygments_lexer": "ipython3",
   "version": "3.7.3"
  }
 },
 "nbformat": 4,
 "nbformat_minor": 2
}
