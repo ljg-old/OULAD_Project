{
 "cells": [
  {
   "cell_type": "code",
   "execution_count": 26,
   "metadata": {},
   "outputs": [],
   "source": [
    "import pandas as pd\n",
    "import numpy as np\n",
    "from sklearn.ensemble import RandomForestRegressor\n",
    "from sklearn.metrics import r2_score\n",
    "from sklearn.metrics import mean_absolute_error\n",
    "from sklearn.model_selection import train_test_split\n",
    "from sklearn.model_selection import GridSearchCV\n",
    "import matplotlib as plt\n",
    "\n",
    "%matplotlib inline"
   ]
  },
  {
   "cell_type": "code",
   "execution_count": 2,
   "metadata": {},
   "outputs": [],
   "source": [
    "data = pd.read_csv('Data/ml.csv')"
   ]
  },
  {
   "cell_type": "code",
   "execution_count": 5,
   "metadata": {},
   "outputs": [
    {
     "data": {
      "text/plain": [
       "Index(['id_assessment', 'id_student', 'date_submitted', 'is_banked', 'score',\n",
       "       'code_module', 'code_presentation', 'gender', 'region',\n",
       "       'highest_education', 'imd_band', 'age_band', 'num_of_prev_attempts',\n",
       "       'studied_credits', 'disability', 'final_result',\n",
       "       'module_presentation_length'],\n",
       "      dtype='object')"
      ]
     },
     "execution_count": 5,
     "metadata": {},
     "output_type": "execute_result"
    }
   ],
   "source": [
    "data.columns"
   ]
  },
  {
   "cell_type": "code",
   "execution_count": 37,
   "metadata": {},
   "outputs": [
    {
     "data": {
      "text/plain": [
       "(207319, 58)"
      ]
     },
     "execution_count": 37,
     "metadata": {},
     "output_type": "execute_result"
    }
   ],
   "source": [
    "data.shape"
   ]
  },
  {
   "cell_type": "code",
   "execution_count": 7,
   "metadata": {},
   "outputs": [],
   "source": [
    "data['id_assessment'] = data['id_assessment'].apply(str)\n",
    "data['id_student'] = data['id_student'].apply(str)\n",
    "data['is_banked'] = data['is_banked'].apply(str)\n",
    "data['code_module'] = data['code_module'].apply(str)\n",
    "data['code_presentation'] = data['code_presentation'].apply(str)"
   ]
  },
  {
   "cell_type": "code",
   "execution_count": 8,
   "metadata": {},
   "outputs": [],
   "source": [
    "data_ml = data[['date_submitted', 'is_banked', 'score',\n",
    "       'code_module', 'code_presentation', 'gender', 'region',\n",
    "       'highest_education', 'imd_band', 'age_band', 'num_of_prev_attempts',\n",
    "       'studied_credits', 'disability', 'final_result',\n",
    "       'module_presentation_length']]"
   ]
  },
  {
   "cell_type": "code",
   "execution_count": 10,
   "metadata": {},
   "outputs": [],
   "source": [
    "\n",
    "to_dummies = ['is_banked','code_module', 'code_presentation', 'gender', 'region',\n",
    "       'highest_education', 'imd_band', 'age_band', 'disability', 'final_result',]\n",
    "\n",
    "data = pd.get_dummies(data_ml, columns=to_dummies)"
   ]
  },
  {
   "cell_type": "code",
   "execution_count": 14,
   "metadata": {},
   "outputs": [
    {
     "data": {
      "text/plain": [
       "Index(['date_submitted', 'score', 'num_of_prev_attempts', 'studied_credits',\n",
       "       'module_presentation_length', 'is_banked_0', 'is_banked_1',\n",
       "       'code_module_AAA', 'code_module_BBB', 'code_module_CCC',\n",
       "       'code_module_DDD', 'code_module_EEE', 'code_module_FFF',\n",
       "       'code_module_GGG', 'code_presentation_2013B', 'code_presentation_2013J',\n",
       "       'code_presentation_2014B', 'code_presentation_2014J', 'gender_F',\n",
       "       'gender_M', 'region_East Anglian Region', 'region_East Midlands Region',\n",
       "       'region_Ireland', 'region_London Region', 'region_North Region',\n",
       "       'region_North Western Region', 'region_Scotland',\n",
       "       'region_South East Region', 'region_South Region',\n",
       "       'region_South West Region', 'region_Wales',\n",
       "       'region_West Midlands Region', 'region_Yorkshire Region',\n",
       "       'highest_education_A Level or Equivalent',\n",
       "       'highest_education_HE Qualification',\n",
       "       'highest_education_Lower Than A Level',\n",
       "       'highest_education_No Formal quals',\n",
       "       'highest_education_Post Graduate Qualification', 'imd_band_0-10%',\n",
       "       'imd_band_10-20', 'imd_band_20-30%', 'imd_band_30-40%',\n",
       "       'imd_band_40-50%', 'imd_band_50-60%', 'imd_band_60-70%',\n",
       "       'imd_band_70-80%', 'imd_band_80-90%', 'imd_band_90-100%', 'imd_band_?',\n",
       "       'age_band_0-35', 'age_band_35-55', 'age_band_55<=', 'disability_N',\n",
       "       'disability_Y', 'final_result_Distinction', 'final_result_Fail',\n",
       "       'final_result_Pass', 'final_result_Withdrawn'],\n",
       "      dtype='object')"
      ]
     },
     "execution_count": 14,
     "metadata": {},
     "output_type": "execute_result"
    }
   ],
   "source": [
    "data.columns"
   ]
  },
  {
   "cell_type": "code",
   "execution_count": 15,
   "metadata": {},
   "outputs": [],
   "source": [
    "data_data = data[['date_submitted', 'num_of_prev_attempts', 'studied_credits',\n",
    "       'module_presentation_length', 'is_banked_0', 'is_banked_1',\n",
    "       'code_module_AAA', 'code_module_BBB', 'code_module_CCC',\n",
    "       'code_module_DDD', 'code_module_EEE', 'code_module_FFF',\n",
    "       'code_module_GGG', 'code_presentation_2013B', 'code_presentation_2013J',\n",
    "       'code_presentation_2014B', 'code_presentation_2014J', 'gender_F',\n",
    "       'gender_M', 'region_East Anglian Region', 'region_East Midlands Region',\n",
    "       'region_Ireland', 'region_London Region', 'region_North Region',\n",
    "       'region_North Western Region', 'region_Scotland',\n",
    "       'region_South East Region', 'region_South Region',\n",
    "       'region_South West Region', 'region_Wales',\n",
    "       'region_West Midlands Region', 'region_Yorkshire Region',\n",
    "       'highest_education_A Level or Equivalent',\n",
    "       'highest_education_HE Qualification',\n",
    "       'highest_education_Lower Than A Level',\n",
    "       'highest_education_No Formal quals',\n",
    "       'highest_education_Post Graduate Qualification', 'imd_band_0-10%',\n",
    "       'imd_band_10-20', 'imd_band_20-30%', 'imd_band_30-40%',\n",
    "       'imd_band_40-50%', 'imd_band_50-60%', 'imd_band_60-70%',\n",
    "       'imd_band_70-80%', 'imd_band_80-90%', 'imd_band_90-100%', 'imd_band_?',\n",
    "       'age_band_0-35', 'age_band_35-55', 'age_band_55<=', 'disability_N',\n",
    "       'disability_Y', 'final_result_Distinction', 'final_result_Fail',\n",
    "       'final_result_Pass', 'final_result_Withdrawn']]\n",
    "\n",
    "data_target = data[\"score\"]"
   ]
  },
  {
   "cell_type": "code",
   "execution_count": 21,
   "metadata": {},
   "outputs": [],
   "source": [
    "from sklearn.model_selection import train_test_split\n",
    "\n",
    "X_train, X_test, y_train, y_test=train_test_split(data_data, data_target, test_size=0.2, random_state=42)"
   ]
  },
  {
   "cell_type": "code",
   "execution_count": 38,
   "metadata": {},
   "outputs": [],
   "source": [
    "#Grid search for parameter selection for a Random Forest Classifier model\n",
    "param_grid = {\n",
    "    'n_estimators': [50, 500],\n",
    "    'max_features': ['auto','sqrt','log2'],\n",
    "    'max_depth': [25, 15]\n",
    "}"
   ]
  },
  {
   "cell_type": "code",
   "execution_count": 41,
   "metadata": {},
   "outputs": [],
   "source": [
    "RFR = RandomForestRegressor(n_jobs=-1)\n",
    "GS = GridSearchCV(RFR, param_grid, cv=5, verbose = 3)"
   ]
  },
  {
   "cell_type": "code",
   "execution_count": 42,
   "metadata": {},
   "outputs": [
    {
     "name": "stdout",
     "output_type": "stream",
     "text": [
      "Fitting 5 folds for each of 12 candidates, totalling 60 fits\n",
      "[CV] max_depth=25, max_features=auto, n_estimators=50 ................\n"
     ]
    },
    {
     "name": "stderr",
     "output_type": "stream",
     "text": [
      "[Parallel(n_jobs=1)]: Using backend SequentialBackend with 1 concurrent workers.\n"
     ]
    },
    {
     "name": "stdout",
     "output_type": "stream",
     "text": [
      "[CV]  max_depth=25, max_features=auto, n_estimators=50, score=0.29908865993874645, total=  22.0s\n",
      "[CV] max_depth=25, max_features=auto, n_estimators=50 ................\n"
     ]
    },
    {
     "name": "stderr",
     "output_type": "stream",
     "text": [
      "[Parallel(n_jobs=1)]: Done   1 out of   1 | elapsed:   23.1s remaining:    0.0s\n"
     ]
    },
    {
     "name": "stdout",
     "output_type": "stream",
     "text": [
      "[CV]  max_depth=25, max_features=auto, n_estimators=50, score=0.277646969771264, total=  21.4s\n",
      "[CV] max_depth=25, max_features=auto, n_estimators=50 ................\n"
     ]
    },
    {
     "name": "stderr",
     "output_type": "stream",
     "text": [
      "[Parallel(n_jobs=1)]: Done   2 out of   2 | elapsed:   46.1s remaining:    0.0s\n"
     ]
    },
    {
     "name": "stdout",
     "output_type": "stream",
     "text": [
      "[CV]  max_depth=25, max_features=auto, n_estimators=50, score=0.2968282408239381, total=  29.3s\n",
      "[CV] max_depth=25, max_features=auto, n_estimators=50 ................\n",
      "[CV]  max_depth=25, max_features=auto, n_estimators=50, score=0.2825015341788366, total=  22.8s\n",
      "[CV] max_depth=25, max_features=auto, n_estimators=50 ................\n",
      "[CV]  max_depth=25, max_features=auto, n_estimators=50, score=0.2941751848318128, total=  20.1s\n",
      "[CV] max_depth=25, max_features=auto, n_estimators=500 ...............\n",
      "[CV]  max_depth=25, max_features=auto, n_estimators=500, score=0.3077776836411067, total= 3.4min\n",
      "[CV] max_depth=25, max_features=auto, n_estimators=500 ...............\n",
      "[CV]  max_depth=25, max_features=auto, n_estimators=500, score=0.28674408737579915, total= 3.3min\n",
      "[CV] max_depth=25, max_features=auto, n_estimators=500 ...............\n",
      "[CV]  max_depth=25, max_features=auto, n_estimators=500, score=0.30594446600354386, total= 3.5min\n",
      "[CV] max_depth=25, max_features=auto, n_estimators=500 ...............\n",
      "[CV]  max_depth=25, max_features=auto, n_estimators=500, score=0.2919721570872956, total= 4.0min\n",
      "[CV] max_depth=25, max_features=auto, n_estimators=500 ...............\n",
      "[CV]  max_depth=25, max_features=auto, n_estimators=500, score=0.30446905469516716, total= 3.7min\n",
      "[CV] max_depth=25, max_features=sqrt, n_estimators=50 ................\n",
      "[CV]  max_depth=25, max_features=sqrt, n_estimators=50, score=0.3139127086782594, total=   6.3s\n",
      "[CV] max_depth=25, max_features=sqrt, n_estimators=50 ................\n",
      "[CV]  max_depth=25, max_features=sqrt, n_estimators=50, score=0.30849340167185746, total=   7.2s\n",
      "[CV] max_depth=25, max_features=sqrt, n_estimators=50 ................\n",
      "[CV]  max_depth=25, max_features=sqrt, n_estimators=50, score=0.3239026572619247, total=   7.4s\n",
      "[CV] max_depth=25, max_features=sqrt, n_estimators=50 ................\n",
      "[CV]  max_depth=25, max_features=sqrt, n_estimators=50, score=0.30714284700403793, total=   6.8s\n",
      "[CV] max_depth=25, max_features=sqrt, n_estimators=50 ................\n",
      "[CV]  max_depth=25, max_features=sqrt, n_estimators=50, score=0.3153584973282262, total=   6.5s\n",
      "[CV] max_depth=25, max_features=sqrt, n_estimators=500 ...............\n",
      "[CV]  max_depth=25, max_features=sqrt, n_estimators=500, score=0.32339734967724454, total= 1.1min\n",
      "[CV] max_depth=25, max_features=sqrt, n_estimators=500 ...............\n",
      "[CV]  max_depth=25, max_features=sqrt, n_estimators=500, score=0.31848396081610786, total=  56.1s\n",
      "[CV] max_depth=25, max_features=sqrt, n_estimators=500 ...............\n",
      "[CV]  max_depth=25, max_features=sqrt, n_estimators=500, score=0.3312414882900292, total=  58.7s\n",
      "[CV] max_depth=25, max_features=sqrt, n_estimators=500 ...............\n",
      "[CV]  max_depth=25, max_features=sqrt, n_estimators=500, score=0.31504082784301335, total= 1.0min\n",
      "[CV] max_depth=25, max_features=sqrt, n_estimators=500 ...............\n",
      "[CV]  max_depth=25, max_features=sqrt, n_estimators=500, score=0.32229615068333384, total=  59.6s\n",
      "[CV] max_depth=25, max_features=log2, n_estimators=50 ................\n",
      "[CV]  max_depth=25, max_features=log2, n_estimators=50, score=0.3069613027272632, total=   4.9s\n",
      "[CV] max_depth=25, max_features=log2, n_estimators=50 ................\n",
      "[CV]  max_depth=25, max_features=log2, n_estimators=50, score=0.3040894080726766, total=   6.6s\n",
      "[CV] max_depth=25, max_features=log2, n_estimators=50 ................\n",
      "[CV]  max_depth=25, max_features=log2, n_estimators=50, score=0.31513141927739563, total=   5.4s\n",
      "[CV] max_depth=25, max_features=log2, n_estimators=50 ................\n",
      "[CV]  max_depth=25, max_features=log2, n_estimators=50, score=0.30236575411249644, total=   5.3s\n",
      "[CV] max_depth=25, max_features=log2, n_estimators=50 ................\n",
      "[CV]  max_depth=25, max_features=log2, n_estimators=50, score=0.30826563970787335, total=   5.9s\n",
      "[CV] max_depth=25, max_features=log2, n_estimators=500 ...............\n",
      "[CV]  max_depth=25, max_features=log2, n_estimators=500, score=0.3150329035122649, total=  58.9s\n",
      "[CV] max_depth=25, max_features=log2, n_estimators=500 ...............\n",
      "[CV]  max_depth=25, max_features=log2, n_estimators=500, score=0.3097586320227407, total=  50.9s\n",
      "[CV] max_depth=25, max_features=log2, n_estimators=500 ...............\n",
      "[CV]  max_depth=25, max_features=log2, n_estimators=500, score=0.32250852919707995, total=  52.6s\n",
      "[CV] max_depth=25, max_features=log2, n_estimators=500 ...............\n",
      "[CV]  max_depth=25, max_features=log2, n_estimators=500, score=0.3077292428134586, total=  53.2s\n",
      "[CV] max_depth=25, max_features=log2, n_estimators=500 ...............\n",
      "[CV]  max_depth=25, max_features=log2, n_estimators=500, score=0.31444443250895193, total=  51.5s\n",
      "[CV] max_depth=15, max_features=auto, n_estimators=50 ................\n",
      "[CV]  max_depth=15, max_features=auto, n_estimators=50, score=0.30246353832238804, total=  14.0s\n",
      "[CV] max_depth=15, max_features=auto, n_estimators=50 ................\n",
      "[CV]  max_depth=15, max_features=auto, n_estimators=50, score=0.28980543525183544, total=  14.5s\n",
      "[CV] max_depth=15, max_features=auto, n_estimators=50 ................\n",
      "[CV]  max_depth=15, max_features=auto, n_estimators=50, score=0.30783780949147777, total=  13.4s\n",
      "[CV] max_depth=15, max_features=auto, n_estimators=50 ................\n",
      "[CV]  max_depth=15, max_features=auto, n_estimators=50, score=0.289158264919522, total=  13.7s\n",
      "[CV] max_depth=15, max_features=auto, n_estimators=50 ................\n",
      "[CV]  max_depth=15, max_features=auto, n_estimators=50, score=0.30085576274299797, total=  13.4s\n",
      "[CV] max_depth=15, max_features=auto, n_estimators=500 ...............\n",
      "[CV]  max_depth=15, max_features=auto, n_estimators=500, score=0.30609103205839416, total= 2.6min\n",
      "[CV] max_depth=15, max_features=auto, n_estimators=500 ...............\n",
      "[CV]  max_depth=15, max_features=auto, n_estimators=500, score=0.2938082721642853, total= 2.4min\n",
      "[CV] max_depth=15, max_features=auto, n_estimators=500 ...............\n",
      "[CV]  max_depth=15, max_features=auto, n_estimators=500, score=0.3098556228412206, total= 2.4min\n",
      "[CV] max_depth=15, max_features=auto, n_estimators=500 ...............\n",
      "[CV]  max_depth=15, max_features=auto, n_estimators=500, score=0.29215881864810256, total= 2.3min\n",
      "[CV] max_depth=15, max_features=auto, n_estimators=500 ...............\n",
      "[CV]  max_depth=15, max_features=auto, n_estimators=500, score=0.3051969744143094, total= 2.3min\n",
      "[CV] max_depth=15, max_features=sqrt, n_estimators=50 ................\n",
      "[CV]  max_depth=15, max_features=sqrt, n_estimators=50, score=0.2704183075681521, total=   3.2s\n",
      "[CV] max_depth=15, max_features=sqrt, n_estimators=50 ................\n",
      "[CV]  max_depth=15, max_features=sqrt, n_estimators=50, score=0.2688103287591239, total=   3.3s\n",
      "[CV] max_depth=15, max_features=sqrt, n_estimators=50 ................\n",
      "[CV]  max_depth=15, max_features=sqrt, n_estimators=50, score=0.27949462508006173, total=   3.6s\n",
      "[CV] max_depth=15, max_features=sqrt, n_estimators=50 ................\n",
      "[CV]  max_depth=15, max_features=sqrt, n_estimators=50, score=0.26871867218230117, total=   3.1s\n",
      "[CV] max_depth=15, max_features=sqrt, n_estimators=50 ................\n",
      "[CV]  max_depth=15, max_features=sqrt, n_estimators=50, score=0.27269192757222716, total=   3.2s\n",
      "[CV] max_depth=15, max_features=sqrt, n_estimators=500 ...............\n",
      "[CV]  max_depth=15, max_features=sqrt, n_estimators=500, score=0.272768912290008, total=  32.8s\n",
      "[CV] max_depth=15, max_features=sqrt, n_estimators=500 ...............\n",
      "[CV]  max_depth=15, max_features=sqrt, n_estimators=500, score=0.2715956039661557, total=  32.8s\n",
      "[CV] max_depth=15, max_features=sqrt, n_estimators=500 ...............\n",
      "[CV]  max_depth=15, max_features=sqrt, n_estimators=500, score=0.281730341475379, total=  33.4s\n",
      "[CV] max_depth=15, max_features=sqrt, n_estimators=500 ...............\n",
      "[CV]  max_depth=15, max_features=sqrt, n_estimators=500, score=0.2687954887472944, total=  31.7s\n",
      "[CV] max_depth=15, max_features=sqrt, n_estimators=500 ...............\n",
      "[CV]  max_depth=15, max_features=sqrt, n_estimators=500, score=0.2755083565409464, total=  33.0s\n",
      "[CV] max_depth=15, max_features=log2, n_estimators=50 ................\n",
      "[CV]  max_depth=15, max_features=log2, n_estimators=50, score=0.254035915659794, total=   2.6s\n",
      "[CV] max_depth=15, max_features=log2, n_estimators=50 ................\n"
     ]
    },
    {
     "name": "stdout",
     "output_type": "stream",
     "text": [
      "[CV]  max_depth=15, max_features=log2, n_estimators=50, score=0.25539660487187155, total=   3.0s\n",
      "[CV] max_depth=15, max_features=log2, n_estimators=50 ................\n",
      "[CV]  max_depth=15, max_features=log2, n_estimators=50, score=0.2636608131697411, total=   3.0s\n",
      "[CV] max_depth=15, max_features=log2, n_estimators=50 ................\n",
      "[CV]  max_depth=15, max_features=log2, n_estimators=50, score=0.2538639938654842, total=   2.8s\n",
      "[CV] max_depth=15, max_features=log2, n_estimators=50 ................\n",
      "[CV]  max_depth=15, max_features=log2, n_estimators=50, score=0.2553683624189743, total=   2.6s\n",
      "[CV] max_depth=15, max_features=log2, n_estimators=500 ...............\n",
      "[CV]  max_depth=15, max_features=log2, n_estimators=500, score=0.25794573727908976, total=  26.7s\n",
      "[CV] max_depth=15, max_features=log2, n_estimators=500 ...............\n",
      "[CV]  max_depth=15, max_features=log2, n_estimators=500, score=0.2567981791625332, total=  26.7s\n",
      "[CV] max_depth=15, max_features=log2, n_estimators=500 ...............\n",
      "[CV]  max_depth=15, max_features=log2, n_estimators=500, score=0.2652448541303152, total=  25.9s\n",
      "[CV] max_depth=15, max_features=log2, n_estimators=500 ...............\n",
      "[CV]  max_depth=15, max_features=log2, n_estimators=500, score=0.2565761775710296, total=  26.0s\n",
      "[CV] max_depth=15, max_features=log2, n_estimators=500 ...............\n",
      "[CV]  max_depth=15, max_features=log2, n_estimators=500, score=0.26058718468641306, total=  26.9s\n"
     ]
    },
    {
     "name": "stderr",
     "output_type": "stream",
     "text": [
      "[Parallel(n_jobs=1)]: Done  60 out of  60 | elapsed: 52.3min finished\n"
     ]
    },
    {
     "data": {
      "text/plain": [
       "GridSearchCV(cv=5, error_score='raise-deprecating',\n",
       "       estimator=RandomForestRegressor(bootstrap=True, criterion='mse', max_depth=None,\n",
       "           max_features='auto', max_leaf_nodes=None,\n",
       "           min_impurity_decrease=0.0, min_impurity_split=None,\n",
       "           min_samples_leaf=1, min_samples_split=2,\n",
       "           min_weight_fraction_leaf=0.0, n_estimators='warn', n_jobs=-1,\n",
       "           oob_score=False, random_state=None, verbose=0, warm_start=False),\n",
       "       fit_params=None, iid='warn', n_jobs=None,\n",
       "       param_grid={'n_estimators': [50, 500], 'max_features': ['auto', 'sqrt', 'log2'], 'max_depth': [25, 15]},\n",
       "       pre_dispatch='2*n_jobs', refit=True, return_train_score='warn',\n",
       "       scoring=None, verbose=3)"
      ]
     },
     "execution_count": 42,
     "metadata": {},
     "output_type": "execute_result"
    }
   ],
   "source": [
    "GS.fit(X_train, y_train)"
   ]
  },
  {
   "cell_type": "code",
   "execution_count": 43,
   "metadata": {},
   "outputs": [
    {
     "data": {
      "text/plain": [
       "{'max_depth': 25, 'max_features': 'sqrt', 'n_estimators': 500}"
      ]
     },
     "execution_count": 43,
     "metadata": {},
     "output_type": "execute_result"
    }
   ],
   "source": [
    "GS.best_params_"
   ]
  },
  {
   "cell_type": "code",
   "execution_count": 49,
   "metadata": {},
   "outputs": [
    {
     "data": {
      "text/plain": [
       "RandomForestRegressor(bootstrap=True, criterion='mse', max_depth=25,\n",
       "           max_features='auto', max_leaf_nodes=None,\n",
       "           min_impurity_decrease=0.0, min_impurity_split=None,\n",
       "           min_samples_leaf=1, min_samples_split=2,\n",
       "           min_weight_fraction_leaf=0.0, n_estimators=500, n_jobs=None,\n",
       "           oob_score=False, random_state=None, verbose=0, warm_start=False)"
      ]
     },
     "execution_count": 49,
     "metadata": {},
     "output_type": "execute_result"
    }
   ],
   "source": [
    "RFR = RandomForestRegressor(max_depth = 25, max_features='auto', n_estimators=500)\n",
    "RFR.fit(X_train, y_train)"
   ]
  },
  {
   "cell_type": "code",
   "execution_count": 50,
   "metadata": {},
   "outputs": [],
   "source": [
    "y_train_pred = RFR.predict(X_train)\n",
    "y_pred = RFR.predict(X_test)"
   ]
  },
  {
   "cell_type": "code",
   "execution_count": 51,
   "metadata": {},
   "outputs": [
    {
     "name": "stdout",
     "output_type": "stream",
     "text": [
      "TRAIN MODEL METRICS:\n",
      "The R2 score is: 0.7856626204020406\n",
      "The MAE score is: 6.62809160199953\n"
     ]
    }
   ],
   "source": [
    "r2 = r2_score(y_train, y_train_pred)\n",
    "mae = mean_absolute_error(y_train, y_train_pred)\n",
    "print ('TRAIN MODEL METRICS:')\n",
    "print('The R2 score is: ' + str(r2))\n",
    "print('The MAE score is: ' + str(mae))"
   ]
  },
  {
   "cell_type": "code",
   "execution_count": 52,
   "metadata": {},
   "outputs": [
    {
     "name": "stdout",
     "output_type": "stream",
     "text": [
      "TEST MODEL METRICS:\n",
      "The R2 score is: 0.30211487767079703\n",
      "The MAE score is: 11.777427316308438\n"
     ]
    }
   ],
   "source": [
    "r2 = r2_score(y_test, y_pred)\n",
    "mae = mean_absolute_error(y_test, y_pred)\n",
    "print ('TEST MODEL METRICS:')\n",
    "print('The R2 score is: ' + str(r2))\n",
    "print('The MAE score is: ' + str(mae))"
   ]
  },
  {
   "cell_type": "code",
   "execution_count": 47,
   "metadata": {},
   "outputs": [],
   "source": [
    "ks_rf = RandomForestRegressor(n_estimators=10).fit(X_train, y_train)"
   ]
  },
  {
   "cell_type": "code",
   "execution_count": null,
   "metadata": {},
   "outputs": [],
   "source": [
    "y_pred_test_rf = ks_rf.predict(X_test)\n",
    "confusion_matrix(y_test, y_pred)"
   ]
  },
  {
   "cell_type": "code",
   "execution_count": null,
   "metadata": {},
   "outputs": [],
   "source": []
  }
 ],
 "metadata": {
  "kernelspec": {
   "display_name": "Python 3",
   "language": "python",
   "name": "python3"
  },
  "language_info": {
   "codemirror_mode": {
    "name": "ipython",
    "version": 3
   },
   "file_extension": ".py",
   "mimetype": "text/x-python",
   "name": "python",
   "nbconvert_exporter": "python",
   "pygments_lexer": "ipython3",
   "version": "3.7.3"
  }
 },
 "nbformat": 4,
 "nbformat_minor": 2
}
