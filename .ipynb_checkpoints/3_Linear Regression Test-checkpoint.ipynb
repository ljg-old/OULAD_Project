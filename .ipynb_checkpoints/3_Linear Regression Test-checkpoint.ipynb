{
 "cells": [
  {
   "cell_type": "code",
   "execution_count": 4,
   "metadata": {},
   "outputs": [],
   "source": [
    "import pandas as pd\n",
    "import pandas_profiling\n",
    "import numpy as np\n",
    "import matplotlib.pyplot as plt\n",
    "%matplotlib inline\n",
    "import seaborn as sns\n",
    "import matplotlib.ticker as mtick\n",
    "from sklearn import linear_model"
   ]
  },
  {
   "cell_type": "code",
   "execution_count": 11,
   "metadata": {},
   "outputs": [],
   "source": [
    "data = pd.read_csv('Data/ml.csv')"
   ]
  },
  {
   "cell_type": "code",
   "execution_count": 13,
   "metadata": {},
   "outputs": [
    {
     "name": "stdout",
     "output_type": "stream",
     "text": [
      "<class 'pandas.core.frame.DataFrame'>\n",
      "RangeIndex: 207319 entries, 0 to 207318\n",
      "Data columns (total 17 columns):\n",
      "id_assessment                 207319 non-null int64\n",
      "id_student                    207319 non-null int64\n",
      "date_submitted                207319 non-null int64\n",
      "is_banked                     207319 non-null int64\n",
      "score                         207319 non-null float64\n",
      "code_module                   207319 non-null object\n",
      "code_presentation             207319 non-null object\n",
      "gender                        207319 non-null object\n",
      "region                        207319 non-null object\n",
      "highest_education             207319 non-null object\n",
      "imd_band                      207319 non-null object\n",
      "age_band                      207319 non-null object\n",
      "num_of_prev_attempts          207319 non-null int64\n",
      "studied_credits               207319 non-null int64\n",
      "disability                    207319 non-null object\n",
      "final_result                  207319 non-null object\n",
      "module_presentation_length    207319 non-null int64\n",
      "dtypes: float64(1), int64(7), object(9)\n",
      "memory usage: 26.9+ MB\n"
     ]
    }
   ],
   "source": [
    "data.info()"
   ]
  },
  {
   "cell_type": "code",
   "execution_count": 14,
   "metadata": {},
   "outputs": [],
   "source": [
    "data['id_assessment'] = data['id_assessment'].apply(str)\n",
    "data['id_student'] = data['id_student'].apply(str)\n",
    "data['is_banked'] = data['is_banked'].apply(str)\n",
    "data['code_module'] = data['code_module'].apply(str)\n",
    "data['code_presentation'] = data['code_presentation'].apply(str)"
   ]
  },
  {
   "cell_type": "code",
   "execution_count": null,
   "metadata": {},
   "outputs": [],
   "source": [
    "x_columns = [col for col in beer.columns.values if col != \"score\"]\n",
    "data_x = data[x_columns]\n",
    "data_y = data[\"score\"]\n",
    "\n",
    "data_model = linear_model.LinearRegression()\n",
    "#create the model\n",
    "data_model.fit(data_x, data_y)\n",
    "#now we print the model coefficients\n",
    "beer_model.intercept_\n",
    "19.049664352739313\n",
    "beer_model.coef_\n",
    "array([1.28791969, 125.33843146, -0.92370963, -0.93261523, 76.61686364, 0.38036155])\n",
    "#score returns the coefficient of determination or r squared. \n",
    "#This number tells us what proportion of the variation in the data is explained by the model\n",
    "beer_model.score(beer_x, beer_y)\n",
    "0.8218263273491389"
   ]
  }
 ],
 "metadata": {
  "kernelspec": {
   "display_name": "Python 3",
   "language": "python",
   "name": "python3"
  },
  "language_info": {
   "codemirror_mode": {
    "name": "ipython",
    "version": 3
   },
   "file_extension": ".py",
   "mimetype": "text/x-python",
   "name": "python",
   "nbconvert_exporter": "python",
   "pygments_lexer": "ipython3",
   "version": "3.7.3"
  }
 },
 "nbformat": 4,
 "nbformat_minor": 2
}
