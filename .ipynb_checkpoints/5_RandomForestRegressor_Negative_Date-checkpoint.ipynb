{
 "cells": [
  {
   "cell_type": "markdown",
   "metadata": {},
   "source": [
    "# Import libraries"
   ]
  },
  {
   "cell_type": "code",
   "execution_count": 14,
   "metadata": {},
   "outputs": [],
   "source": [
    "import pandas as pd\n",
    "import numpy as np\n",
    "from sklearn.ensemble import RandomForestRegressor\n",
    "from sklearn.metrics import r2_score\n",
    "from sklearn.metrics import mean_absolute_error\n",
    "from sklearn.model_selection import train_test_split\n",
    "from sklearn.model_selection import GridSearchCV\n",
    "import matplotlib.pyplot as plt\n",
    "\n",
    "%matplotlib inline"
   ]
  },
  {
   "cell_type": "markdown",
   "metadata": {},
   "source": [
    "# Read csv"
   ]
  },
  {
   "cell_type": "code",
   "execution_count": 15,
   "metadata": {},
   "outputs": [],
   "source": [
    "data = pd.read_csv('Data/ml.csv')"
   ]
  },
  {
   "cell_type": "code",
   "execution_count": 16,
   "metadata": {},
   "outputs": [
    {
     "data": {
      "text/plain": [
       "Index(['date_submitted', 'is_banked', 'score', 'code_module',\n",
       "       'code_presentation', 'gender', 'region', 'highest_education',\n",
       "       'imd_band', 'age_band', 'num_of_prev_attempts', 'studied_credits',\n",
       "       'disability', 'final_result', 'module_presentation_length'],\n",
       "      dtype='object')"
      ]
     },
     "execution_count": 16,
     "metadata": {},
     "output_type": "execute_result"
    }
   ],
   "source": [
    "data.columns"
   ]
  },
  {
   "cell_type": "code",
   "execution_count": 17,
   "metadata": {},
   "outputs": [
    {
     "data": {
      "text/plain": [
       "(207156, 15)"
      ]
     },
     "execution_count": 17,
     "metadata": {},
     "output_type": "execute_result"
    }
   ],
   "source": [
    "data.shape"
   ]
  },
  {
   "cell_type": "code",
   "execution_count": 18,
   "metadata": {},
   "outputs": [],
   "source": [
    "data['is_banked'] = data['is_banked'].apply(str)\n",
    "data['code_module'] = data['code_module'].apply(str)\n",
    "data['code_presentation'] = data['code_presentation'].apply(str)"
   ]
  },
  {
   "cell_type": "code",
   "execution_count": 19,
   "metadata": {},
   "outputs": [],
   "source": [
    "data['date_submitted'] = -(data['date_submitted'])"
   ]
  },
  {
   "cell_type": "code",
   "execution_count": 20,
   "metadata": {},
   "outputs": [
    {
     "data": {
      "text/html": [
       "<div>\n",
       "<style scoped>\n",
       "    .dataframe tbody tr th:only-of-type {\n",
       "        vertical-align: middle;\n",
       "    }\n",
       "\n",
       "    .dataframe tbody tr th {\n",
       "        vertical-align: top;\n",
       "    }\n",
       "\n",
       "    .dataframe thead th {\n",
       "        text-align: right;\n",
       "    }\n",
       "</style>\n",
       "<table border=\"1\" class=\"dataframe\">\n",
       "  <thead>\n",
       "    <tr style=\"text-align: right;\">\n",
       "      <th></th>\n",
       "      <th>date_submitted</th>\n",
       "      <th>is_banked</th>\n",
       "      <th>score</th>\n",
       "      <th>code_module</th>\n",
       "      <th>code_presentation</th>\n",
       "      <th>gender</th>\n",
       "      <th>region</th>\n",
       "      <th>highest_education</th>\n",
       "      <th>imd_band</th>\n",
       "      <th>age_band</th>\n",
       "      <th>num_of_prev_attempts</th>\n",
       "      <th>studied_credits</th>\n",
       "      <th>disability</th>\n",
       "      <th>final_result</th>\n",
       "      <th>module_presentation_length</th>\n",
       "    </tr>\n",
       "  </thead>\n",
       "  <tbody>\n",
       "    <tr>\n",
       "      <th>0</th>\n",
       "      <td>-18</td>\n",
       "      <td>0</td>\n",
       "      <td>78.0</td>\n",
       "      <td>AAA</td>\n",
       "      <td>2013J</td>\n",
       "      <td>M</td>\n",
       "      <td>East Anglian Region</td>\n",
       "      <td>HE Qualification</td>\n",
       "      <td>90-100%</td>\n",
       "      <td>55&lt;=</td>\n",
       "      <td>0</td>\n",
       "      <td>240</td>\n",
       "      <td>N</td>\n",
       "      <td>Pass</td>\n",
       "      <td>268</td>\n",
       "    </tr>\n",
       "    <tr>\n",
       "      <th>1</th>\n",
       "      <td>-53</td>\n",
       "      <td>0</td>\n",
       "      <td>85.0</td>\n",
       "      <td>AAA</td>\n",
       "      <td>2013J</td>\n",
       "      <td>M</td>\n",
       "      <td>East Anglian Region</td>\n",
       "      <td>HE Qualification</td>\n",
       "      <td>90-100%</td>\n",
       "      <td>55&lt;=</td>\n",
       "      <td>0</td>\n",
       "      <td>240</td>\n",
       "      <td>N</td>\n",
       "      <td>Pass</td>\n",
       "      <td>268</td>\n",
       "    </tr>\n",
       "    <tr>\n",
       "      <th>2</th>\n",
       "      <td>-115</td>\n",
       "      <td>0</td>\n",
       "      <td>80.0</td>\n",
       "      <td>AAA</td>\n",
       "      <td>2013J</td>\n",
       "      <td>M</td>\n",
       "      <td>East Anglian Region</td>\n",
       "      <td>HE Qualification</td>\n",
       "      <td>90-100%</td>\n",
       "      <td>55&lt;=</td>\n",
       "      <td>0</td>\n",
       "      <td>240</td>\n",
       "      <td>N</td>\n",
       "      <td>Pass</td>\n",
       "      <td>268</td>\n",
       "    </tr>\n",
       "    <tr>\n",
       "      <th>3</th>\n",
       "      <td>-164</td>\n",
       "      <td>0</td>\n",
       "      <td>85.0</td>\n",
       "      <td>AAA</td>\n",
       "      <td>2013J</td>\n",
       "      <td>M</td>\n",
       "      <td>East Anglian Region</td>\n",
       "      <td>HE Qualification</td>\n",
       "      <td>90-100%</td>\n",
       "      <td>55&lt;=</td>\n",
       "      <td>0</td>\n",
       "      <td>240</td>\n",
       "      <td>N</td>\n",
       "      <td>Pass</td>\n",
       "      <td>268</td>\n",
       "    </tr>\n",
       "    <tr>\n",
       "      <th>4</th>\n",
       "      <td>-212</td>\n",
       "      <td>0</td>\n",
       "      <td>82.0</td>\n",
       "      <td>AAA</td>\n",
       "      <td>2013J</td>\n",
       "      <td>M</td>\n",
       "      <td>East Anglian Region</td>\n",
       "      <td>HE Qualification</td>\n",
       "      <td>90-100%</td>\n",
       "      <td>55&lt;=</td>\n",
       "      <td>0</td>\n",
       "      <td>240</td>\n",
       "      <td>N</td>\n",
       "      <td>Pass</td>\n",
       "      <td>268</td>\n",
       "    </tr>\n",
       "  </tbody>\n",
       "</table>\n",
       "</div>"
      ],
      "text/plain": [
       "   date_submitted is_banked  score code_module code_presentation gender  \\\n",
       "0             -18         0   78.0         AAA             2013J      M   \n",
       "1             -53         0   85.0         AAA             2013J      M   \n",
       "2            -115         0   80.0         AAA             2013J      M   \n",
       "3            -164         0   85.0         AAA             2013J      M   \n",
       "4            -212         0   82.0         AAA             2013J      M   \n",
       "\n",
       "                region highest_education imd_band age_band  \\\n",
       "0  East Anglian Region  HE Qualification  90-100%     55<=   \n",
       "1  East Anglian Region  HE Qualification  90-100%     55<=   \n",
       "2  East Anglian Region  HE Qualification  90-100%     55<=   \n",
       "3  East Anglian Region  HE Qualification  90-100%     55<=   \n",
       "4  East Anglian Region  HE Qualification  90-100%     55<=   \n",
       "\n",
       "   num_of_prev_attempts  studied_credits disability final_result  \\\n",
       "0                     0              240          N         Pass   \n",
       "1                     0              240          N         Pass   \n",
       "2                     0              240          N         Pass   \n",
       "3                     0              240          N         Pass   \n",
       "4                     0              240          N         Pass   \n",
       "\n",
       "   module_presentation_length  \n",
       "0                         268  \n",
       "1                         268  \n",
       "2                         268  \n",
       "3                         268  \n",
       "4                         268  "
      ]
     },
     "execution_count": 20,
     "metadata": {},
     "output_type": "execute_result"
    }
   ],
   "source": [
    "data.head()"
   ]
  },
  {
   "cell_type": "code",
   "execution_count": 21,
   "metadata": {},
   "outputs": [],
   "source": [
    "data_ml = data[['date_submitted', 'is_banked', 'score',\n",
    "       'code_module', 'code_presentation', 'gender', 'region',\n",
    "       'highest_education', 'imd_band', 'age_band', 'num_of_prev_attempts',\n",
    "       'studied_credits', 'disability', 'final_result',\n",
    "       'module_presentation_length']]"
   ]
  },
  {
   "cell_type": "code",
   "execution_count": 22,
   "metadata": {},
   "outputs": [],
   "source": [
    "\n",
    "to_dummies = ['is_banked','code_module', 'code_presentation', 'gender', 'region',\n",
    "       'highest_education', 'imd_band', 'age_band', 'disability', 'final_result',]\n",
    "\n",
    "data_ml = pd.get_dummies(data_ml, columns=to_dummies)"
   ]
  },
  {
   "cell_type": "code",
   "execution_count": 23,
   "metadata": {},
   "outputs": [
    {
     "data": {
      "text/plain": [
       "Index(['date_submitted', 'score', 'num_of_prev_attempts', 'studied_credits',\n",
       "       'module_presentation_length', 'is_banked_0', 'is_banked_1',\n",
       "       'code_module_AAA', 'code_module_BBB', 'code_module_CCC',\n",
       "       'code_module_DDD', 'code_module_EEE', 'code_module_FFF',\n",
       "       'code_module_GGG', 'code_presentation_2013B', 'code_presentation_2013J',\n",
       "       'code_presentation_2014B', 'code_presentation_2014J', 'gender_F',\n",
       "       'gender_M', 'region_East Anglian Region', 'region_East Midlands Region',\n",
       "       'region_Ireland', 'region_London Region', 'region_North Region',\n",
       "       'region_North Western Region', 'region_Scotland',\n",
       "       'region_South East Region', 'region_South Region',\n",
       "       'region_South West Region', 'region_Wales',\n",
       "       'region_West Midlands Region', 'region_Yorkshire Region',\n",
       "       'highest_education_A Level or Equivalent',\n",
       "       'highest_education_HE Qualification',\n",
       "       'highest_education_Lower Than A Level',\n",
       "       'highest_education_No Formal quals',\n",
       "       'highest_education_Post Graduate Qualification', 'imd_band_0-10%',\n",
       "       'imd_band_10-20', 'imd_band_20-30%', 'imd_band_30-40%',\n",
       "       'imd_band_40-50%', 'imd_band_50-60%', 'imd_band_60-70%',\n",
       "       'imd_band_70-80%', 'imd_band_80-90%', 'imd_band_90-100%', 'imd_band_?',\n",
       "       'age_band_0-35', 'age_band_35-55', 'age_band_55<=', 'disability_N',\n",
       "       'disability_Y', 'final_result_Distinction', 'final_result_Fail',\n",
       "       'final_result_Pass', 'final_result_Withdrawn'],\n",
       "      dtype='object')"
      ]
     },
     "execution_count": 23,
     "metadata": {},
     "output_type": "execute_result"
    }
   ],
   "source": [
    "data_ml.columns"
   ]
  },
  {
   "cell_type": "code",
   "execution_count": 24,
   "metadata": {},
   "outputs": [],
   "source": [
    "data_data = data_ml[['date_submitted', 'num_of_prev_attempts', 'studied_credits',\n",
    "       'module_presentation_length', 'is_banked_0', 'is_banked_1',\n",
    "       'code_module_AAA', 'code_module_BBB', 'code_module_CCC',\n",
    "       'code_module_DDD', 'code_module_EEE', 'code_module_FFF',\n",
    "       'code_module_GGG', 'code_presentation_2013B', 'code_presentation_2013J',\n",
    "       'code_presentation_2014B', 'code_presentation_2014J', 'gender_F',\n",
    "       'gender_M', 'region_East Anglian Region', 'region_East Midlands Region',\n",
    "       'region_Ireland', 'region_London Region', 'region_North Region',\n",
    "       'region_North Western Region', 'region_Scotland',\n",
    "       'region_South East Region', 'region_South Region',\n",
    "       'region_South West Region', 'region_Wales',\n",
    "       'region_West Midlands Region', 'region_Yorkshire Region',\n",
    "       'highest_education_A Level or Equivalent',\n",
    "       'highest_education_HE Qualification',\n",
    "       'highest_education_Lower Than A Level',\n",
    "       'highest_education_No Formal quals',\n",
    "       'highest_education_Post Graduate Qualification', 'imd_band_0-10%',\n",
    "       'imd_band_10-20', 'imd_band_20-30%', 'imd_band_30-40%',\n",
    "       'imd_band_40-50%', 'imd_band_50-60%', 'imd_band_60-70%',\n",
    "       'imd_band_70-80%', 'imd_band_80-90%', 'imd_band_90-100%', 'imd_band_?',\n",
    "       'age_band_0-35', 'age_band_35-55', 'age_band_55<=', 'disability_N',\n",
    "       'disability_Y', 'final_result_Distinction', 'final_result_Fail',\n",
    "       'final_result_Pass', 'final_result_Withdrawn']]\n",
    "\n",
    "data_target = data_ml[\"score\"]"
   ]
  },
  {
   "cell_type": "code",
   "execution_count": 25,
   "metadata": {},
   "outputs": [],
   "source": [
    "from sklearn.model_selection import train_test_split\n",
    "\n",
    "X_train, X_test, y_train, y_test=train_test_split(data_data, data_target, test_size=0.3, random_state=42)"
   ]
  },
  {
   "cell_type": "code",
   "execution_count": 26,
   "metadata": {},
   "outputs": [],
   "source": [
    "#Grid search for parameter selection for a Random Forest Regressor model\n",
    "param_grid = {\n",
    "    'n_estimators': [100, 200, 300, 400, 500],\n",
    "    'max_features': ['auto','sqrt','log2'],\n",
    "    'max_depth': [25, 15]\n",
    "}"
   ]
  },
  {
   "cell_type": "code",
   "execution_count": 49,
   "metadata": {},
   "outputs": [],
   "source": [
    "RFR = RandomForestRegressor(n_jobs=-1)\n",
    "GS = GridSearchCV(RFR, param_grid, cv=5, verbose = 3)"
   ]
  },
  {
   "cell_type": "code",
   "execution_count": 50,
   "metadata": {},
   "outputs": [
    {
     "name": "stdout",
     "output_type": "stream",
     "text": [
      "Fitting 5 folds for each of 30 candidates, totalling 150 fits\n",
      "[CV] max_depth=25, max_features=auto, n_estimators=100 ...............\n"
     ]
    },
    {
     "name": "stderr",
     "output_type": "stream",
     "text": [
      "[Parallel(n_jobs=1)]: Using backend SequentialBackend with 1 concurrent workers.\n"
     ]
    },
    {
     "name": "stdout",
     "output_type": "stream",
     "text": [
      "[CV]  max_depth=25, max_features=auto, n_estimators=100, score=0.25634510615614803, total=  36.9s\n",
      "[CV] max_depth=25, max_features=auto, n_estimators=100 ...............\n"
     ]
    },
    {
     "name": "stderr",
     "output_type": "stream",
     "text": [
      "[Parallel(n_jobs=1)]: Done   1 out of   1 | elapsed:   38.5s remaining:    0.0s\n"
     ]
    },
    {
     "name": "stdout",
     "output_type": "stream",
     "text": [
      "[CV]  max_depth=25, max_features=auto, n_estimators=100, score=0.24806501217178867, total=  34.9s\n",
      "[CV] max_depth=25, max_features=auto, n_estimators=100 ...............\n"
     ]
    },
    {
     "name": "stderr",
     "output_type": "stream",
     "text": [
      "[Parallel(n_jobs=1)]: Done   2 out of   2 | elapsed:  1.3min remaining:    0.0s\n"
     ]
    },
    {
     "name": "stdout",
     "output_type": "stream",
     "text": [
      "[CV]  max_depth=25, max_features=auto, n_estimators=100, score=0.2676354413583446, total=  32.0s\n",
      "[CV] max_depth=25, max_features=auto, n_estimators=100 ...............\n",
      "[CV]  max_depth=25, max_features=auto, n_estimators=100, score=0.26838571484563634, total=  30.6s\n",
      "[CV] max_depth=25, max_features=auto, n_estimators=100 ...............\n",
      "[CV]  max_depth=25, max_features=auto, n_estimators=100, score=0.26911813329674605, total=  31.7s\n",
      "[CV] max_depth=25, max_features=auto, n_estimators=200 ...............\n",
      "[CV]  max_depth=25, max_features=auto, n_estimators=200, score=0.2585032428065489, total= 1.1min\n",
      "[CV] max_depth=25, max_features=auto, n_estimators=200 ...............\n",
      "[CV]  max_depth=25, max_features=auto, n_estimators=200, score=0.2515140057742341, total= 1.1min\n",
      "[CV] max_depth=25, max_features=auto, n_estimators=200 ...............\n",
      "[CV]  max_depth=25, max_features=auto, n_estimators=200, score=0.2697465362857785, total= 1.3min\n",
      "[CV] max_depth=25, max_features=auto, n_estimators=200 ...............\n",
      "[CV]  max_depth=25, max_features=auto, n_estimators=200, score=0.2664853398311272, total= 1.2min\n",
      "[CV] max_depth=25, max_features=auto, n_estimators=200 ...............\n",
      "[CV]  max_depth=25, max_features=auto, n_estimators=200, score=0.27068235304534805, total= 1.1min\n",
      "[CV] max_depth=25, max_features=auto, n_estimators=300 ...............\n",
      "[CV]  max_depth=25, max_features=auto, n_estimators=300, score=0.26003517691324074, total= 1.6min\n",
      "[CV] max_depth=25, max_features=auto, n_estimators=300 ...............\n",
      "[CV]  max_depth=25, max_features=auto, n_estimators=300, score=0.2532450069725587, total= 1.6min\n",
      "[CV] max_depth=25, max_features=auto, n_estimators=300 ...............\n",
      "[CV]  max_depth=25, max_features=auto, n_estimators=300, score=0.270994237703884, total= 1.6min\n",
      "[CV] max_depth=25, max_features=auto, n_estimators=300 ...............\n",
      "[CV]  max_depth=25, max_features=auto, n_estimators=300, score=0.2683211941073973, total= 1.6min\n",
      "[CV] max_depth=25, max_features=auto, n_estimators=300 ...............\n",
      "[CV]  max_depth=25, max_features=auto, n_estimators=300, score=0.2709241588596971, total= 1.7min\n",
      "[CV] max_depth=25, max_features=auto, n_estimators=400 ...............\n",
      "[CV]  max_depth=25, max_features=auto, n_estimators=400, score=0.2605328344342991, total= 2.6min\n",
      "[CV] max_depth=25, max_features=auto, n_estimators=400 ...............\n",
      "[CV]  max_depth=25, max_features=auto, n_estimators=400, score=0.25302630055737163, total= 2.6min\n",
      "[CV] max_depth=25, max_features=auto, n_estimators=400 ...............\n",
      "[CV]  max_depth=25, max_features=auto, n_estimators=400, score=0.27086507318069675, total= 2.3min\n",
      "[CV] max_depth=25, max_features=auto, n_estimators=400 ...............\n",
      "[CV]  max_depth=25, max_features=auto, n_estimators=400, score=0.2688405803576299, total= 2.3min\n",
      "[CV] max_depth=25, max_features=auto, n_estimators=400 ...............\n",
      "[CV]  max_depth=25, max_features=auto, n_estimators=400, score=0.2722124995497561, total= 2.0min\n",
      "[CV] max_depth=25, max_features=auto, n_estimators=500 ...............\n",
      "[CV]  max_depth=25, max_features=auto, n_estimators=500, score=0.2617857510162548, total= 2.6min\n",
      "[CV] max_depth=25, max_features=auto, n_estimators=500 ...............\n",
      "[CV]  max_depth=25, max_features=auto, n_estimators=500, score=0.2535794597133998, total= 2.5min\n",
      "[CV] max_depth=25, max_features=auto, n_estimators=500 ...............\n",
      "[CV]  max_depth=25, max_features=auto, n_estimators=500, score=0.2715492782547966, total= 2.5min\n",
      "[CV] max_depth=25, max_features=auto, n_estimators=500 ...............\n",
      "[CV]  max_depth=25, max_features=auto, n_estimators=500, score=0.2701750232651411, total= 2.5min\n",
      "[CV] max_depth=25, max_features=auto, n_estimators=500 ...............\n",
      "[CV]  max_depth=25, max_features=auto, n_estimators=500, score=0.27316025829296464, total= 2.5min\n",
      "[CV] max_depth=25, max_features=sqrt, n_estimators=100 ...............\n",
      "[CV]  max_depth=25, max_features=sqrt, n_estimators=100, score=0.2782692928003023, total=   8.6s\n",
      "[CV] max_depth=25, max_features=sqrt, n_estimators=100 ...............\n",
      "[CV]  max_depth=25, max_features=sqrt, n_estimators=100, score=0.2734378172872354, total=   8.6s\n",
      "[CV] max_depth=25, max_features=sqrt, n_estimators=100 ...............\n",
      "[CV]  max_depth=25, max_features=sqrt, n_estimators=100, score=0.2903440615697579, total=   8.5s\n",
      "[CV] max_depth=25, max_features=sqrt, n_estimators=100 ...............\n",
      "[CV]  max_depth=25, max_features=sqrt, n_estimators=100, score=0.2845880093754809, total=   9.3s\n",
      "[CV] max_depth=25, max_features=sqrt, n_estimators=100 ...............\n",
      "[CV]  max_depth=25, max_features=sqrt, n_estimators=100, score=0.2873733099334663, total=   8.4s\n",
      "[CV] max_depth=25, max_features=sqrt, n_estimators=200 ...............\n",
      "[CV]  max_depth=25, max_features=sqrt, n_estimators=200, score=0.2822446404568618, total=  19.3s\n",
      "[CV] max_depth=25, max_features=sqrt, n_estimators=200 ...............\n",
      "[CV]  max_depth=25, max_features=sqrt, n_estimators=200, score=0.27559866933832244, total=  18.6s\n",
      "[CV] max_depth=25, max_features=sqrt, n_estimators=200 ...............\n",
      "[CV]  max_depth=25, max_features=sqrt, n_estimators=200, score=0.2902156347387278, total= 4.8min\n",
      "[CV] max_depth=25, max_features=sqrt, n_estimators=200 ...............\n",
      "[CV]  max_depth=25, max_features=sqrt, n_estimators=200, score=0.2868347822248557, total=  20.7s\n",
      "[CV] max_depth=25, max_features=sqrt, n_estimators=200 ...............\n",
      "[CV]  max_depth=25, max_features=sqrt, n_estimators=200, score=0.2900482813850327, total=  18.3s\n",
      "[CV] max_depth=25, max_features=sqrt, n_estimators=300 ...............\n",
      "[CV]  max_depth=25, max_features=sqrt, n_estimators=300, score=0.2835339622384939, total=  27.0s\n",
      "[CV] max_depth=25, max_features=sqrt, n_estimators=300 ...............\n",
      "[CV]  max_depth=25, max_features=sqrt, n_estimators=300, score=0.27568967397328736, total=  25.5s\n",
      "[CV] max_depth=25, max_features=sqrt, n_estimators=300 ...............\n",
      "[CV]  max_depth=25, max_features=sqrt, n_estimators=300, score=0.2915212281789622, total=  25.6s\n",
      "[CV] max_depth=25, max_features=sqrt, n_estimators=300 ...............\n",
      "[CV]  max_depth=25, max_features=sqrt, n_estimators=300, score=0.28745600872267374, total=  25.5s\n",
      "[CV] max_depth=25, max_features=sqrt, n_estimators=300 ...............\n",
      "[CV]  max_depth=25, max_features=sqrt, n_estimators=300, score=0.2920020683908342, total=  26.1s\n",
      "[CV] max_depth=25, max_features=sqrt, n_estimators=400 ...............\n",
      "[CV]  max_depth=25, max_features=sqrt, n_estimators=400, score=0.2836342928975979, total=  34.4s\n",
      "[CV] max_depth=25, max_features=sqrt, n_estimators=400 ...............\n",
      "[CV]  max_depth=25, max_features=sqrt, n_estimators=400, score=0.27700749527635193, total=  34.8s\n",
      "[CV] max_depth=25, max_features=sqrt, n_estimators=400 ...............\n",
      "[CV]  max_depth=25, max_features=sqrt, n_estimators=400, score=0.2919371171698857, total=  34.3s\n",
      "[CV] max_depth=25, max_features=sqrt, n_estimators=400 ...............\n",
      "[CV]  max_depth=25, max_features=sqrt, n_estimators=400, score=0.28793121881745254, total=  33.8s\n",
      "[CV] max_depth=25, max_features=sqrt, n_estimators=400 ...............\n",
      "[CV]  max_depth=25, max_features=sqrt, n_estimators=400, score=0.29271281143317074, total=  34.4s\n",
      "[CV] max_depth=25, max_features=sqrt, n_estimators=500 ...............\n",
      "[CV]  max_depth=25, max_features=sqrt, n_estimators=500, score=0.2838288527884266, total=  42.7s\n",
      "[CV] max_depth=25, max_features=sqrt, n_estimators=500 ...............\n",
      "[CV]  max_depth=25, max_features=sqrt, n_estimators=500, score=0.2770963285359159, total=  42.2s\n",
      "[CV] max_depth=25, max_features=sqrt, n_estimators=500 ...............\n",
      "[CV]  max_depth=25, max_features=sqrt, n_estimators=500, score=0.29193055098510623, total=  42.2s\n",
      "[CV] max_depth=25, max_features=sqrt, n_estimators=500 ...............\n",
      "[CV]  max_depth=25, max_features=sqrt, n_estimators=500, score=0.28887858320199256, total=  48.7s\n",
      "[CV] max_depth=25, max_features=sqrt, n_estimators=500 ...............\n",
      "[CV]  max_depth=25, max_features=sqrt, n_estimators=500, score=0.2936000780910808, total=  59.0s\n",
      "[CV] max_depth=25, max_features=log2, n_estimators=100 ...............\n",
      "[CV]  max_depth=25, max_features=log2, n_estimators=100, score=0.27657718382032537, total=   9.1s\n",
      "[CV] max_depth=25, max_features=log2, n_estimators=100 ...............\n"
     ]
    },
    {
     "name": "stdout",
     "output_type": "stream",
     "text": [
      "[CV]  max_depth=25, max_features=log2, n_estimators=100, score=0.2687702223233748, total=   9.8s\n",
      "[CV] max_depth=25, max_features=log2, n_estimators=100 ...............\n",
      "[CV]  max_depth=25, max_features=log2, n_estimators=100, score=0.28604136697583515, total=   8.3s\n",
      "[CV] max_depth=25, max_features=log2, n_estimators=100 ...............\n",
      "[CV]  max_depth=25, max_features=log2, n_estimators=100, score=0.2809605561922447, total=   8.9s\n",
      "[CV] max_depth=25, max_features=log2, n_estimators=100 ...............\n",
      "[CV]  max_depth=25, max_features=log2, n_estimators=100, score=0.2866626903372762, total=   9.4s\n",
      "[CV] max_depth=25, max_features=log2, n_estimators=200 ...............\n",
      "[CV]  max_depth=25, max_features=log2, n_estimators=200, score=0.27785126753356704, total=  18.8s\n",
      "[CV] max_depth=25, max_features=log2, n_estimators=200 ...............\n",
      "[CV]  max_depth=25, max_features=log2, n_estimators=200, score=0.2722077952938774, total=  17.5s\n",
      "[CV] max_depth=25, max_features=log2, n_estimators=200 ...............\n",
      "[CV]  max_depth=25, max_features=log2, n_estimators=200, score=0.2866553300305852, total=  20.6s\n",
      "[CV] max_depth=25, max_features=log2, n_estimators=200 ...............\n",
      "[CV]  max_depth=25, max_features=log2, n_estimators=200, score=0.28280311158712634, total=  22.5s\n",
      "[CV] max_depth=25, max_features=log2, n_estimators=200 ...............\n",
      "[CV]  max_depth=25, max_features=log2, n_estimators=200, score=0.28722501639500275, total=  16.5s\n",
      "[CV] max_depth=25, max_features=log2, n_estimators=300 ...............\n",
      "[CV]  max_depth=25, max_features=log2, n_estimators=300, score=0.27950297242213884, total=  28.6s\n",
      "[CV] max_depth=25, max_features=log2, n_estimators=300 ...............\n",
      "[CV]  max_depth=25, max_features=log2, n_estimators=300, score=0.2730929117153018, total=  33.7s\n",
      "[CV] max_depth=25, max_features=log2, n_estimators=300 ...............\n",
      "[CV]  max_depth=25, max_features=log2, n_estimators=300, score=0.2876082574523908, total=  38.7s\n",
      "[CV] max_depth=25, max_features=log2, n_estimators=300 ...............\n",
      "[CV]  max_depth=25, max_features=log2, n_estimators=300, score=0.2845073158442071, total=  29.7s\n",
      "[CV] max_depth=25, max_features=log2, n_estimators=300 ...............\n",
      "[CV]  max_depth=25, max_features=log2, n_estimators=300, score=0.2888449773192592, total=  25.8s\n",
      "[CV] max_depth=25, max_features=log2, n_estimators=400 ...............\n",
      "[CV]  max_depth=25, max_features=log2, n_estimators=400, score=0.2794727688037889, total=  43.8s\n",
      "[CV] max_depth=25, max_features=log2, n_estimators=400 ...............\n",
      "[CV]  max_depth=25, max_features=log2, n_estimators=400, score=0.27327705174444983, total=  41.2s\n",
      "[CV] max_depth=25, max_features=log2, n_estimators=400 ...............\n",
      "[CV]  max_depth=25, max_features=log2, n_estimators=400, score=0.2878943225722248, total=  36.7s\n",
      "[CV] max_depth=25, max_features=log2, n_estimators=400 ...............\n",
      "[CV]  max_depth=25, max_features=log2, n_estimators=400, score=0.2843095023565454, total=  35.5s\n",
      "[CV] max_depth=25, max_features=log2, n_estimators=400 ...............\n",
      "[CV]  max_depth=25, max_features=log2, n_estimators=400, score=0.28868464073484457, total=  43.8s\n",
      "[CV] max_depth=25, max_features=log2, n_estimators=500 ...............\n",
      "[CV]  max_depth=25, max_features=log2, n_estimators=500, score=0.27986857418548927, total=  52.4s\n",
      "[CV] max_depth=25, max_features=log2, n_estimators=500 ...............\n",
      "[CV]  max_depth=25, max_features=log2, n_estimators=500, score=0.27443341362980167, total= 1.2min\n",
      "[CV] max_depth=25, max_features=log2, n_estimators=500 ...............\n",
      "[CV]  max_depth=25, max_features=log2, n_estimators=500, score=0.2892011222311306, total= 1.0min\n",
      "[CV] max_depth=25, max_features=log2, n_estimators=500 ...............\n",
      "[CV]  max_depth=25, max_features=log2, n_estimators=500, score=0.28472576028533936, total= 1.1min\n",
      "[CV] max_depth=25, max_features=log2, n_estimators=500 ...............\n",
      "[CV]  max_depth=25, max_features=log2, n_estimators=500, score=0.28864571385921567, total=  57.0s\n",
      "[CV] max_depth=15, max_features=auto, n_estimators=100 ...............\n",
      "[CV]  max_depth=15, max_features=auto, n_estimators=100, score=0.26612552864150785, total=  28.8s\n",
      "[CV] max_depth=15, max_features=auto, n_estimators=100 ...............\n",
      "[CV]  max_depth=15, max_features=auto, n_estimators=100, score=0.25754366216512947, total=  50.3s\n",
      "[CV] max_depth=15, max_features=auto, n_estimators=100 ...............\n",
      "[CV]  max_depth=15, max_features=auto, n_estimators=100, score=0.2764322384997855, total=  25.8s\n",
      "[CV] max_depth=15, max_features=auto, n_estimators=100 ...............\n",
      "[CV]  max_depth=15, max_features=auto, n_estimators=100, score=0.2723881319400374, total=  22.4s\n",
      "[CV] max_depth=15, max_features=auto, n_estimators=100 ...............\n",
      "[CV]  max_depth=15, max_features=auto, n_estimators=100, score=0.2738102362203545, total=  26.0s\n",
      "[CV] max_depth=15, max_features=auto, n_estimators=200 ...............\n",
      "[CV]  max_depth=15, max_features=auto, n_estimators=200, score=0.26579117667216834, total=  50.8s\n",
      "[CV] max_depth=15, max_features=auto, n_estimators=200 ...............\n",
      "[CV]  max_depth=15, max_features=auto, n_estimators=200, score=0.25753225617447495, total=  50.3s\n",
      "[CV] max_depth=15, max_features=auto, n_estimators=200 ...............\n",
      "[CV]  max_depth=15, max_features=auto, n_estimators=200, score=0.27787046410445326, total=  52.0s\n",
      "[CV] max_depth=15, max_features=auto, n_estimators=200 ...............\n",
      "[CV]  max_depth=15, max_features=auto, n_estimators=200, score=0.27293286452523124, total= 1.0min\n",
      "[CV] max_depth=15, max_features=auto, n_estimators=200 ...............\n",
      "[CV]  max_depth=15, max_features=auto, n_estimators=200, score=0.2748089080923477, total=  56.6s\n",
      "[CV] max_depth=15, max_features=auto, n_estimators=300 ...............\n",
      "[CV]  max_depth=15, max_features=auto, n_estimators=300, score=0.26636406925280043, total= 1.2min\n",
      "[CV] max_depth=15, max_features=auto, n_estimators=300 ...............\n",
      "[CV]  max_depth=15, max_features=auto, n_estimators=300, score=0.25826528110762625, total= 1.2min\n",
      "[CV] max_depth=15, max_features=auto, n_estimators=300 ...............\n",
      "[CV]  max_depth=15, max_features=auto, n_estimators=300, score=0.27715827666543513, total= 1.2min\n",
      "[CV] max_depth=15, max_features=auto, n_estimators=300 ...............\n",
      "[CV]  max_depth=15, max_features=auto, n_estimators=300, score=0.2728576257193496, total= 1.1min\n",
      "[CV] max_depth=15, max_features=auto, n_estimators=300 ...............\n",
      "[CV]  max_depth=15, max_features=auto, n_estimators=300, score=0.2747314539665344, total= 1.2min\n",
      "[CV] max_depth=15, max_features=auto, n_estimators=400 ...............\n",
      "[CV]  max_depth=15, max_features=auto, n_estimators=400, score=0.2666663247969224, total= 2.2min\n",
      "[CV] max_depth=15, max_features=auto, n_estimators=400 ...............\n",
      "[CV]  max_depth=15, max_features=auto, n_estimators=400, score=0.25822679047804054, total= 2.3min\n",
      "[CV] max_depth=15, max_features=auto, n_estimators=400 ...............\n",
      "[CV]  max_depth=15, max_features=auto, n_estimators=400, score=0.2777842659399602, total= 2.0min\n",
      "[CV] max_depth=15, max_features=auto, n_estimators=400 ...............\n",
      "[CV]  max_depth=15, max_features=auto, n_estimators=400, score=0.27337162771078216, total= 1.7min\n",
      "[CV] max_depth=15, max_features=auto, n_estimators=400 ...............\n",
      "[CV]  max_depth=15, max_features=auto, n_estimators=400, score=0.2748912785913653, total= 1.6min\n",
      "[CV] max_depth=15, max_features=auto, n_estimators=500 ...............\n",
      "[CV]  max_depth=15, max_features=auto, n_estimators=500, score=0.2669785575654957, total= 2.1min\n",
      "[CV] max_depth=15, max_features=auto, n_estimators=500 ...............\n",
      "[CV]  max_depth=15, max_features=auto, n_estimators=500, score=0.2583943106448441, total= 2.2min\n",
      "[CV] max_depth=15, max_features=auto, n_estimators=500 ...............\n",
      "[CV]  max_depth=15, max_features=auto, n_estimators=500, score=0.2773269919194735, total= 2.2min\n",
      "[CV] max_depth=15, max_features=auto, n_estimators=500 ...............\n",
      "[CV]  max_depth=15, max_features=auto, n_estimators=500, score=0.2731398876746307, total= 2.0min\n",
      "[CV] max_depth=15, max_features=auto, n_estimators=500 ...............\n",
      "[CV]  max_depth=15, max_features=auto, n_estimators=500, score=0.27500715570055834, total= 2.0min\n",
      "[CV] max_depth=15, max_features=sqrt, n_estimators=100 ...............\n"
     ]
    },
    {
     "name": "stdout",
     "output_type": "stream",
     "text": [
      "[CV]  max_depth=15, max_features=sqrt, n_estimators=100, score=0.23047448539723248, total=   6.0s\n",
      "[CV] max_depth=15, max_features=sqrt, n_estimators=100 ...............\n",
      "[CV]  max_depth=15, max_features=sqrt, n_estimators=100, score=0.22656037203789184, total=   5.5s\n",
      "[CV] max_depth=15, max_features=sqrt, n_estimators=100 ...............\n",
      "[CV]  max_depth=15, max_features=sqrt, n_estimators=100, score=0.239280960796598, total=   6.7s\n",
      "[CV] max_depth=15, max_features=sqrt, n_estimators=100 ...............\n",
      "[CV]  max_depth=15, max_features=sqrt, n_estimators=100, score=0.2334307707892136, total=   6.1s\n",
      "[CV] max_depth=15, max_features=sqrt, n_estimators=100 ...............\n",
      "[CV]  max_depth=15, max_features=sqrt, n_estimators=100, score=0.23670919557471382, total=   6.4s\n",
      "[CV] max_depth=15, max_features=sqrt, n_estimators=200 ...............\n",
      "[CV]  max_depth=15, max_features=sqrt, n_estimators=200, score=0.23242642952958517, total=  12.7s\n",
      "[CV] max_depth=15, max_features=sqrt, n_estimators=200 ...............\n",
      "[CV]  max_depth=15, max_features=sqrt, n_estimators=200, score=0.22572406649570456, total=  13.1s\n",
      "[CV] max_depth=15, max_features=sqrt, n_estimators=200 ...............\n",
      "[CV]  max_depth=15, max_features=sqrt, n_estimators=200, score=0.23904548836934206, total=  11.4s\n",
      "[CV] max_depth=15, max_features=sqrt, n_estimators=200 ...............\n",
      "[CV]  max_depth=15, max_features=sqrt, n_estimators=200, score=0.23513995937698862, total=  12.3s\n",
      "[CV] max_depth=15, max_features=sqrt, n_estimators=200 ...............\n",
      "[CV]  max_depth=15, max_features=sqrt, n_estimators=200, score=0.2373464271738197, total=  11.5s\n",
      "[CV] max_depth=15, max_features=sqrt, n_estimators=300 ...............\n",
      "[CV]  max_depth=15, max_features=sqrt, n_estimators=300, score=0.23176966733940385, total=  18.3s\n",
      "[CV] max_depth=15, max_features=sqrt, n_estimators=300 ...............\n",
      "[CV]  max_depth=15, max_features=sqrt, n_estimators=300, score=0.2268112417536995, total=  19.1s\n",
      "[CV] max_depth=15, max_features=sqrt, n_estimators=300 ...............\n",
      "[CV]  max_depth=15, max_features=sqrt, n_estimators=300, score=0.23759659314190337, total=  17.0s\n",
      "[CV] max_depth=15, max_features=sqrt, n_estimators=300 ...............\n",
      "[CV]  max_depth=15, max_features=sqrt, n_estimators=300, score=0.23512500475710676, total=  16.5s\n",
      "[CV] max_depth=15, max_features=sqrt, n_estimators=300 ...............\n",
      "[CV]  max_depth=15, max_features=sqrt, n_estimators=300, score=0.2379438913399735, total=  16.8s\n",
      "[CV] max_depth=15, max_features=sqrt, n_estimators=400 ...............\n",
      "[CV]  max_depth=15, max_features=sqrt, n_estimators=400, score=0.23126697183951295, total=  22.6s\n",
      "[CV] max_depth=15, max_features=sqrt, n_estimators=400 ...............\n",
      "[CV]  max_depth=15, max_features=sqrt, n_estimators=400, score=0.22653905338506397, total=  21.6s\n",
      "[CV] max_depth=15, max_features=sqrt, n_estimators=400 ...............\n",
      "[CV]  max_depth=15, max_features=sqrt, n_estimators=400, score=0.23931588332679365, total=  23.9s\n",
      "[CV] max_depth=15, max_features=sqrt, n_estimators=400 ...............\n",
      "[CV]  max_depth=15, max_features=sqrt, n_estimators=400, score=0.23561330909218814, total=  23.4s\n",
      "[CV] max_depth=15, max_features=sqrt, n_estimators=400 ...............\n",
      "[CV]  max_depth=15, max_features=sqrt, n_estimators=400, score=0.23925181835089748, total=  21.4s\n",
      "[CV] max_depth=15, max_features=sqrt, n_estimators=500 ...............\n",
      "[CV]  max_depth=15, max_features=sqrt, n_estimators=500, score=0.23189298910099665, total=  27.9s\n",
      "[CV] max_depth=15, max_features=sqrt, n_estimators=500 ...............\n",
      "[CV]  max_depth=15, max_features=sqrt, n_estimators=500, score=0.2267094818047133, total=  28.5s\n",
      "[CV] max_depth=15, max_features=sqrt, n_estimators=500 ...............\n",
      "[CV]  max_depth=15, max_features=sqrt, n_estimators=500, score=0.23935095728730538, total=  27.9s\n",
      "[CV] max_depth=15, max_features=sqrt, n_estimators=500 ...............\n",
      "[CV]  max_depth=15, max_features=sqrt, n_estimators=500, score=0.23531404050922822, total=  27.5s\n",
      "[CV] max_depth=15, max_features=sqrt, n_estimators=500 ...............\n",
      "[CV]  max_depth=15, max_features=sqrt, n_estimators=500, score=0.2383050838063837, total=  27.9s\n",
      "[CV] max_depth=15, max_features=log2, n_estimators=100 ...............\n",
      "[CV]  max_depth=15, max_features=log2, n_estimators=100, score=0.22484325453615583, total=   4.7s\n",
      "[CV] max_depth=15, max_features=log2, n_estimators=100 ...............\n",
      "[CV]  max_depth=15, max_features=log2, n_estimators=100, score=0.21994766651298114, total=   5.0s\n",
      "[CV] max_depth=15, max_features=log2, n_estimators=100 ...............\n",
      "[CV]  max_depth=15, max_features=log2, n_estimators=100, score=0.2301997218321246, total=   5.7s\n",
      "[CV] max_depth=15, max_features=log2, n_estimators=100 ...............\n",
      "[CV]  max_depth=15, max_features=log2, n_estimators=100, score=0.22600518732050634, total=   5.3s\n",
      "[CV] max_depth=15, max_features=log2, n_estimators=100 ...............\n",
      "[CV]  max_depth=15, max_features=log2, n_estimators=100, score=0.22937956245440572, total=   5.3s\n",
      "[CV] max_depth=15, max_features=log2, n_estimators=200 ...............\n",
      "[CV]  max_depth=15, max_features=log2, n_estimators=200, score=0.22610550217810577, total=  11.1s\n",
      "[CV] max_depth=15, max_features=log2, n_estimators=200 ...............\n",
      "[CV]  max_depth=15, max_features=log2, n_estimators=200, score=0.22073636131148575, total=   8.6s\n",
      "[CV] max_depth=15, max_features=log2, n_estimators=200 ...............\n",
      "[CV]  max_depth=15, max_features=log2, n_estimators=200, score=0.23175755497474096, total=  10.8s\n",
      "[CV] max_depth=15, max_features=log2, n_estimators=200 ...............\n",
      "[CV]  max_depth=15, max_features=log2, n_estimators=200, score=0.2280292709384357, total=  10.0s\n",
      "[CV] max_depth=15, max_features=log2, n_estimators=200 ...............\n",
      "[CV]  max_depth=15, max_features=log2, n_estimators=200, score=0.23124985236925033, total=  10.4s\n",
      "[CV] max_depth=15, max_features=log2, n_estimators=300 ...............\n",
      "[CV]  max_depth=15, max_features=log2, n_estimators=300, score=0.22515144940405263, total=  15.4s\n",
      "[CV] max_depth=15, max_features=log2, n_estimators=300 ...............\n",
      "[CV]  max_depth=15, max_features=log2, n_estimators=300, score=0.22133325934314785, total=  16.7s\n",
      "[CV] max_depth=15, max_features=log2, n_estimators=300 ...............\n",
      "[CV]  max_depth=15, max_features=log2, n_estimators=300, score=0.23199797364718389, total=  16.0s\n",
      "[CV] max_depth=15, max_features=log2, n_estimators=300 ...............\n",
      "[CV]  max_depth=15, max_features=log2, n_estimators=300, score=0.22878172567208843, total=  15.4s\n",
      "[CV] max_depth=15, max_features=log2, n_estimators=300 ...............\n",
      "[CV]  max_depth=15, max_features=log2, n_estimators=300, score=0.23203639666619733, total=  13.7s\n",
      "[CV] max_depth=15, max_features=log2, n_estimators=400 ...............\n",
      "[CV]  max_depth=15, max_features=log2, n_estimators=400, score=0.22492451542506056, total=  19.2s\n",
      "[CV] max_depth=15, max_features=log2, n_estimators=400 ...............\n",
      "[CV]  max_depth=15, max_features=log2, n_estimators=400, score=0.22092063321188482, total=  17.2s\n",
      "[CV] max_depth=15, max_features=log2, n_estimators=400 ...............\n",
      "[CV]  max_depth=15, max_features=log2, n_estimators=400, score=0.2329200283565297, total=  19.4s\n",
      "[CV] max_depth=15, max_features=log2, n_estimators=400 ...............\n",
      "[CV]  max_depth=15, max_features=log2, n_estimators=400, score=0.22896191870206406, total=  20.6s\n",
      "[CV] max_depth=15, max_features=log2, n_estimators=400 ...............\n",
      "[CV]  max_depth=15, max_features=log2, n_estimators=400, score=0.23035982061430682, total=  19.9s\n",
      "[CV] max_depth=15, max_features=log2, n_estimators=500 ...............\n",
      "[CV]  max_depth=15, max_features=log2, n_estimators=500, score=0.22593548023023236, total=  27.0s\n",
      "[CV] max_depth=15, max_features=log2, n_estimators=500 ...............\n",
      "[CV]  max_depth=15, max_features=log2, n_estimators=500, score=0.22056754469926554, total=  26.9s\n",
      "[CV] max_depth=15, max_features=log2, n_estimators=500 ...............\n",
      "[CV]  max_depth=15, max_features=log2, n_estimators=500, score=0.2321254477242345, total=  23.8s\n",
      "[CV] max_depth=15, max_features=log2, n_estimators=500 ...............\n",
      "[CV]  max_depth=15, max_features=log2, n_estimators=500, score=0.2291135523086245, total=  24.2s\n",
      "[CV] max_depth=15, max_features=log2, n_estimators=500 ...............\n"
     ]
    },
    {
     "name": "stdout",
     "output_type": "stream",
     "text": [
      "[CV]  max_depth=15, max_features=log2, n_estimators=500, score=0.23180424479951, total=  23.9s\n"
     ]
    },
    {
     "name": "stderr",
     "output_type": "stream",
     "text": [
      "[Parallel(n_jobs=1)]: Done 150 out of 150 | elapsed: 125.7min finished\n"
     ]
    },
    {
     "data": {
      "text/plain": [
       "GridSearchCV(cv=5, error_score='raise-deprecating',\n",
       "       estimator=RandomForestRegressor(bootstrap=True, criterion='mse', max_depth=None,\n",
       "           max_features='auto', max_leaf_nodes=None,\n",
       "           min_impurity_decrease=0.0, min_impurity_split=None,\n",
       "           min_samples_leaf=1, min_samples_split=2,\n",
       "           min_weight_fraction_leaf=0.0, n_estimators='warn', n_jobs=-1,\n",
       "           oob_score=False, random_state=None, verbose=0, warm_start=False),\n",
       "       fit_params=None, iid='warn', n_jobs=None,\n",
       "       param_grid={'n_estimators': [100, 200, 300, 400, 500], 'max_features': ['auto', 'sqrt', 'log2'], 'max_depth': [25, 15]},\n",
       "       pre_dispatch='2*n_jobs', refit=True, return_train_score='warn',\n",
       "       scoring=None, verbose=3)"
      ]
     },
     "execution_count": 50,
     "metadata": {},
     "output_type": "execute_result"
    }
   ],
   "source": [
    "GS.fit(X_train, y_train)"
   ]
  },
  {
   "cell_type": "code",
   "execution_count": 51,
   "metadata": {},
   "outputs": [
    {
     "data": {
      "text/plain": [
       "{'max_depth': 25, 'max_features': 'sqrt', 'n_estimators': 500}"
      ]
     },
     "execution_count": 51,
     "metadata": {},
     "output_type": "execute_result"
    }
   ],
   "source": [
    "GS.best_params_"
   ]
  },
  {
   "cell_type": "code",
   "execution_count": 27,
   "metadata": {},
   "outputs": [
    {
     "data": {
      "text/plain": [
       "RandomForestRegressor(bootstrap=True, criterion='mse', max_depth=25,\n",
       "           max_features='sqrt', max_leaf_nodes=None,\n",
       "           min_impurity_decrease=0.0, min_impurity_split=None,\n",
       "           min_samples_leaf=1, min_samples_split=2,\n",
       "           min_weight_fraction_leaf=0.0, n_estimators=500, n_jobs=None,\n",
       "           oob_score=False, random_state=None, verbose=0, warm_start=False)"
      ]
     },
     "execution_count": 27,
     "metadata": {},
     "output_type": "execute_result"
    }
   ],
   "source": [
    "RFR = RandomForestRegressor(max_depth = 25, max_features='sqrt', n_estimators=500)\n",
    "RFR.fit(X_train, y_train)"
   ]
  },
  {
   "cell_type": "code",
   "execution_count": 28,
   "metadata": {},
   "outputs": [],
   "source": [
    "y_train_pred = RFR.predict(X_train)\n",
    "y_pred = RFR.predict(X_test)"
   ]
  },
  {
   "cell_type": "code",
   "execution_count": 29,
   "metadata": {},
   "outputs": [
    {
     "name": "stdout",
     "output_type": "stream",
     "text": [
      "TRAIN MODEL METRICS:\n",
      "The R2 score is: 0.7425272239114162\n",
      "The MAE score is: 7.258206673129962\n"
     ]
    },
    {
     "data": {
      "image/png": "[encoded data removed]",
      "text/plain": [
       "<Figure size 432x288 with 1 Axes>"
      ]
     },
     "metadata": {
      "needs_background": "light"
     },
     "output_type": "display_data"
    }
   ],
   "source": [
    "r2 = r2_score(y_train, y_train_pred)\n",
    "mae = mean_absolute_error(y_train, y_train_pred)\n",
    "print ('TRAIN MODEL METRICS:')\n",
    "print('The R2 score is: ' + str(r2))\n",
    "print('The MAE score is: ' + str(mae))\n",
    "\n",
    "plt.scatter(y_train, y_train_pred)\n",
    "plt.plot([0,100], [0,100], color='red')\n",
    "plt.show()"
   ]
  },
  {
   "cell_type": "code",
   "execution_count": 30,
   "metadata": {},
   "outputs": [
    {
     "name": "stdout",
     "output_type": "stream",
     "text": [
      "TEST MODEL METRICS:\n",
      "The R2 score is: 0.32079805269581385\n",
      "The MAE score is: 11.618439590809338\n"
     ]
    },
    {
     "data": {
      "image/png": "[encoded data removed]",
      "text/plain": [
       "<Figure size 432x288 with 1 Axes>"
      ]
     },
     "metadata": {
      "needs_background": "light"
     },
     "output_type": "display_data"
    }
   ],
   "source": [
    "r2 = r2_score(y_test, y_pred)\n",
    "mae = mean_absolute_error(y_test, y_pred)\n",
    "print ('TEST MODEL METRICS:')\n",
    "print('The R2 score is: ' + str(r2))\n",
    "print('The MAE score is: ' + str(mae))\n",
    "\n",
    "plt.scatter(y_test, y_pred)\n",
    "plt.plot([0,100], [0,100], color='red')\n",
    "plt.show()"
   ]
  }
 ],
 "metadata": {
  "kernelspec": {
   "display_name": "Python 3",
   "language": "python",
   "name": "python3"
  },
  "language_info": {
   "codemirror_mode": {
    "name": "ipython",
    "version": 3
   },
   "file_extension": ".py",
   "mimetype": "text/x-python",
   "name": "python",
   "nbconvert_exporter": "python",
   "pygments_lexer": "ipython3",
   "version": "3.7.3"
  }
 },
 "nbformat": 4,
 "nbformat_minor": 2
}
