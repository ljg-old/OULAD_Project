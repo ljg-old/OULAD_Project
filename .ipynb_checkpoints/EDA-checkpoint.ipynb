{
 "cells": [
  {
   "cell_type": "code",
   "execution_count": 2,
   "metadata": {},
   "outputs": [],
   "source": [
    "import pandas as pd\n",
    "import pandas_profiling\n",
    "import numpy as np\n",
    "import matplotlib.pyplot as plt\n",
    "%matplotlib inline\n",
    "import seaborn as sns\n",
    "import matplotlib.ticker as mtick"
   ]
  },
  {
   "cell_type": "code",
   "execution_count": 3,
   "metadata": {},
   "outputs": [],
   "source": [
    "data = pd.read_csv('Data/final.csv')"
   ]
  },
  {
   "cell_type": "code",
   "execution_count": 4,
   "metadata": {},
   "outputs": [
    {
     "name": "stdout",
     "output_type": "stream",
     "text": [
      "<class 'pandas.core.frame.DataFrame'>\n",
      "RangeIndex: 207319 entries, 0 to 207318\n",
      "Data columns (total 17 columns):\n",
      "id_assessment                 207319 non-null int64\n",
      "id_student                    207319 non-null int64\n",
      "date_submitted                207319 non-null int64\n",
      "is_banked                     207319 non-null int64\n",
      "score                         207319 non-null float64\n",
      "code_module                   207319 non-null object\n",
      "code_presentation             207319 non-null object\n",
      "gender                        207319 non-null object\n",
      "region                        207319 non-null object\n",
      "highest_education             207319 non-null object\n",
      "imd_band                      207319 non-null object\n",
      "age_band                      207319 non-null object\n",
      "num_of_prev_attempts          207319 non-null int64\n",
      "studied_credits               207319 non-null int64\n",
      "disability                    207319 non-null object\n",
      "final_result                  207319 non-null object\n",
      "module_presentation_length    207319 non-null int64\n",
      "dtypes: float64(1), int64(7), object(9)\n",
      "memory usage: 26.9+ MB\n"
     ]
    }
   ],
   "source": [
    "data.info()"
   ]
  },
  {
   "cell_type": "code",
   "execution_count": null,
   "metadata": {},
   "outputs": [],
   "source": [
    "corr = data.corr()\n",
    "sns.heatmap(corr)\n",
    "plt.show()"
   ]
  },
  {
   "cell_type": "code",
   "execution_count": null,
   "metadata": {},
   "outputs": [
    {
     "data": {
      "text/plain": [
       "<seaborn.axisgrid.PairGrid at 0x1a1a0b7ac8>"
      ]
     },
     "execution_count": 7,
     "metadata": {},
     "output_type": "execute_result"
    }
   ],
   "source": [
    "sns.pairplot(data)"
   ]
  }
 ],
 "metadata": {
  "kernelspec": {
   "display_name": "Python 3",
   "language": "python",
   "name": "python3"
  },
  "language_info": {
   "codemirror_mode": {
    "name": "ipython",
    "version": 3
   },
   "file_extension": ".py",
   "mimetype": "text/x-python",
   "name": "python",
   "nbconvert_exporter": "python",
   "pygments_lexer": "ipython3",
   "version": "3.7.3"
  }
 },
 "nbformat": 4,
 "nbformat_minor": 2
}
