{
 "cells": [
  {
   "cell_type": "code",
   "execution_count": 26,
   "metadata": {},
   "outputs": [],
   "source": [
    "import pandas as pd\n",
    "import numpy as np\n",
    "from sklearn.ensemble import RandomForestRegressor\n",
    "from sklearn.metrics import r2_score\n",
    "from sklearn.metrics import mean_absolute_error\n",
    "from sklearn.model_selection import train_test_split\n",
    "from sklearn.model_selection import GridSearchCV\n",
    "import matplotlib as plt\n",
    "\n",
    "%matplotlib inline"
   ]
  },
  {
   "cell_type": "code",
   "execution_count": 2,
   "metadata": {},
   "outputs": [],
   "source": [
    "data = pd.read_csv('Data/ml.csv')"
   ]
  },
  {
   "cell_type": "code",
   "execution_count": 5,
   "metadata": {},
   "outputs": [
    {
     "data": {
      "text/plain": [
       "Index(['id_assessment', 'id_student', 'date_submitted', 'is_banked', 'score',\n",
       "       'code_module', 'code_presentation', 'gender', 'region',\n",
       "       'highest_education', 'imd_band', 'age_band', 'num_of_prev_attempts',\n",
       "       'studied_credits', 'disability', 'final_result',\n",
       "       'module_presentation_length'],\n",
       "      dtype='object')"
      ]
     },
     "execution_count": 5,
     "metadata": {},
     "output_type": "execute_result"
    }
   ],
   "source": [
    "data.columns"
   ]
  },
  {
   "cell_type": "code",
   "execution_count": 37,
   "metadata": {},
   "outputs": [
    {
     "data": {
      "text/plain": [
       "(207319, 58)"
      ]
     },
     "execution_count": 37,
     "metadata": {},
     "output_type": "execute_result"
    }
   ],
   "source": [
    "data.shape"
   ]
  },
  {
   "cell_type": "code",
   "execution_count": 7,
   "metadata": {},
   "outputs": [],
   "source": [
    "data['id_assessment'] = data['id_assessment'].apply(str)\n",
    "data['id_student'] = data['id_student'].apply(str)\n",
    "data['is_banked'] = data['is_banked'].apply(str)\n",
    "data['code_module'] = data['code_module'].apply(str)\n",
    "data['code_presentation'] = data['code_presentation'].apply(str)"
   ]
  },
  {
   "cell_type": "code",
   "execution_count": 8,
   "metadata": {},
   "outputs": [],
   "source": [
    "data_ml = data[['date_submitted', 'is_banked', 'score',\n",
    "       'code_module', 'code_presentation', 'gender', 'region',\n",
    "       'highest_education', 'imd_band', 'age_band', 'num_of_prev_attempts',\n",
    "       'studied_credits', 'disability', 'final_result',\n",
    "       'module_presentation_length']]"
   ]
  },
  {
   "cell_type": "code",
   "execution_count": 10,
   "metadata": {},
   "outputs": [],
   "source": [
    "\n",
    "to_dummies = ['is_banked','code_module', 'code_presentation', 'gender', 'region',\n",
    "       'highest_education', 'imd_band', 'age_band', 'disability', 'final_result',]\n",
    "\n",
    "data = pd.get_dummies(data_ml, columns=to_dummies)"
   ]
  },
  {
   "cell_type": "code",
   "execution_count": 14,
   "metadata": {},
   "outputs": [
    {
     "data": {
      "text/plain": [
       "Index(['date_submitted', 'score', 'num_of_prev_attempts', 'studied_credits',\n",
       "       'module_presentation_length', 'is_banked_0', 'is_banked_1',\n",
       "       'code_module_AAA', 'code_module_BBB', 'code_module_CCC',\n",
       "       'code_module_DDD', 'code_module_EEE', 'code_module_FFF',\n",
       "       'code_module_GGG', 'code_presentation_2013B', 'code_presentation_2013J',\n",
       "       'code_presentation_2014B', 'code_presentation_2014J', 'gender_F',\n",
       "       'gender_M', 'region_East Anglian Region', 'region_East Midlands Region',\n",
       "       'region_Ireland', 'region_London Region', 'region_North Region',\n",
       "       'region_North Western Region', 'region_Scotland',\n",
       "       'region_South East Region', 'region_South Region',\n",
       "       'region_South West Region', 'region_Wales',\n",
       "       'region_West Midlands Region', 'region_Yorkshire Region',\n",
       "       'highest_education_A Level or Equivalent',\n",
       "       'highest_education_HE Qualification',\n",
       "       'highest_education_Lower Than A Level',\n",
       "       'highest_education_No Formal quals',\n",
       "       'highest_education_Post Graduate Qualification', 'imd_band_0-10%',\n",
       "       'imd_band_10-20', 'imd_band_20-30%', 'imd_band_30-40%',\n",
       "       'imd_band_40-50%', 'imd_band_50-60%', 'imd_band_60-70%',\n",
       "       'imd_band_70-80%', 'imd_band_80-90%', 'imd_band_90-100%', 'imd_band_?',\n",
       "       'age_band_0-35', 'age_band_35-55', 'age_band_55<=', 'disability_N',\n",
       "       'disability_Y', 'final_result_Distinction', 'final_result_Fail',\n",
       "       'final_result_Pass', 'final_result_Withdrawn'],\n",
       "      dtype='object')"
      ]
     },
     "execution_count": 14,
     "metadata": {},
     "output_type": "execute_result"
    }
   ],
   "source": [
    "data.columns"
   ]
  },
  {
   "cell_type": "code",
   "execution_count": 15,
   "metadata": {},
   "outputs": [],
   "source": [
    "data_data = data[['date_submitted', 'num_of_prev_attempts', 'studied_credits',\n",
    "       'module_presentation_length', 'is_banked_0', 'is_banked_1',\n",
    "       'code_module_AAA', 'code_module_BBB', 'code_module_CCC',\n",
    "       'code_module_DDD', 'code_module_EEE', 'code_module_FFF',\n",
    "       'code_module_GGG', 'code_presentation_2013B', 'code_presentation_2013J',\n",
    "       'code_presentation_2014B', 'code_presentation_2014J', 'gender_F',\n",
    "       'gender_M', 'region_East Anglian Region', 'region_East Midlands Region',\n",
    "       'region_Ireland', 'region_London Region', 'region_North Region',\n",
    "       'region_North Western Region', 'region_Scotland',\n",
    "       'region_South East Region', 'region_South Region',\n",
    "       'region_South West Region', 'region_Wales',\n",
    "       'region_West Midlands Region', 'region_Yorkshire Region',\n",
    "       'highest_education_A Level or Equivalent',\n",
    "       'highest_education_HE Qualification',\n",
    "       'highest_education_Lower Than A Level',\n",
    "       'highest_education_No Formal quals',\n",
    "       'highest_education_Post Graduate Qualification', 'imd_band_0-10%',\n",
    "       'imd_band_10-20', 'imd_band_20-30%', 'imd_band_30-40%',\n",
    "       'imd_band_40-50%', 'imd_band_50-60%', 'imd_band_60-70%',\n",
    "       'imd_band_70-80%', 'imd_band_80-90%', 'imd_band_90-100%', 'imd_band_?',\n",
    "       'age_band_0-35', 'age_band_35-55', 'age_band_55<=', 'disability_N',\n",
    "       'disability_Y', 'final_result_Distinction', 'final_result_Fail',\n",
    "       'final_result_Pass', 'final_result_Withdrawn']]\n",
    "\n",
    "data_target = data[\"score\"]"
   ]
  },
  {
   "cell_type": "code",
   "execution_count": 21,
   "metadata": {},
   "outputs": [],
   "source": [
    "from sklearn.model_selection import train_test_split\n",
    "\n",
    "X_train, X_test, y_train, y_test=train_test_split(data_data, data_target, test_size=0.2, random_state=42)"
   ]
  },
  {
   "cell_type": "code",
   "execution_count": 24,
   "metadata": {},
   "outputs": [],
   "source": [
    "#Grid search for parameter selection for a Random Forest Classifier model\n",
    "param_grid = {\n",
    "    'n_estimators': [25, 50],\n",
    "    'max_features': ['auto','sqrt','log2'],\n",
    "    'max_depth': [10, 5]\n",
    "}"
   ]
  },
  {
   "cell_type": "code",
   "execution_count": 27,
   "metadata": {},
   "outputs": [],
   "source": [
    "RFR = RandomForestRegressor(n_jobs=-1)\n",
    "GS = GridSearchCV(RFR, param_grid, cv=5, verbose = 3)"
   ]
  },
  {
   "cell_type": "code",
   "execution_count": 28,
   "metadata": {},
   "outputs": [
    {
     "name": "stdout",
     "output_type": "stream",
     "text": [
      "Fitting 5 folds for each of 12 candidates, totalling 60 fits\n",
      "[CV] max_depth=10, max_features=auto, n_estimators=25 ................\n"
     ]
    },
    {
     "name": "stderr",
     "output_type": "stream",
     "text": [
      "[Parallel(n_jobs=1)]: Using backend SequentialBackend with 1 concurrent workers.\n"
     ]
    },
    {
     "name": "stdout",
     "output_type": "stream",
     "text": [
      "[CV]  max_depth=10, max_features=auto, n_estimators=25, score=0.2612207412221834, total=   6.6s\n",
      "[CV] max_depth=10, max_features=auto, n_estimators=25 ................\n"
     ]
    },
    {
     "name": "stderr",
     "output_type": "stream",
     "text": [
      "[Parallel(n_jobs=1)]: Done   1 out of   1 | elapsed:    6.9s remaining:    0.0s\n"
     ]
    },
    {
     "name": "stdout",
     "output_type": "stream",
     "text": [
      "[CV]  max_depth=10, max_features=auto, n_estimators=25, score=0.2580866081428036, total=   6.3s\n",
      "[CV] max_depth=10, max_features=auto, n_estimators=25 ................\n"
     ]
    },
    {
     "name": "stderr",
     "output_type": "stream",
     "text": [
      "[Parallel(n_jobs=1)]: Done   2 out of   2 | elapsed:   13.6s remaining:    0.0s\n"
     ]
    },
    {
     "name": "stdout",
     "output_type": "stream",
     "text": [
      "[CV]  max_depth=10, max_features=auto, n_estimators=25, score=0.266197619510791, total=  10.4s\n",
      "[CV] max_depth=10, max_features=auto, n_estimators=25 ................\n",
      "[CV]  max_depth=10, max_features=auto, n_estimators=25, score=0.25113230717635016, total=  16.7s\n",
      "[CV] max_depth=10, max_features=auto, n_estimators=25 ................\n",
      "[CV]  max_depth=10, max_features=auto, n_estimators=25, score=0.2604243243983124, total=  11.7s\n",
      "[CV] max_depth=10, max_features=auto, n_estimators=50 ................\n",
      "[CV]  max_depth=10, max_features=auto, n_estimators=50, score=0.2616896436508789, total=  17.2s\n",
      "[CV] max_depth=10, max_features=auto, n_estimators=50 ................\n",
      "[CV]  max_depth=10, max_features=auto, n_estimators=50, score=0.2575192404198904, total=   9.8s\n",
      "[CV] max_depth=10, max_features=auto, n_estimators=50 ................\n",
      "[CV]  max_depth=10, max_features=auto, n_estimators=50, score=0.2682174765021601, total=   9.7s\n",
      "[CV] max_depth=10, max_features=auto, n_estimators=50 ................\n",
      "[CV]  max_depth=10, max_features=auto, n_estimators=50, score=0.2514579539583206, total=  10.7s\n",
      "[CV] max_depth=10, max_features=auto, n_estimators=50 ................\n",
      "[CV]  max_depth=10, max_features=auto, n_estimators=50, score=0.26045212500554493, total=   9.7s\n",
      "[CV] max_depth=10, max_features=sqrt, n_estimators=25 ................\n",
      "[CV]  max_depth=10, max_features=sqrt, n_estimators=25, score=0.20336334105491882, total=   1.5s\n",
      "[CV] max_depth=10, max_features=sqrt, n_estimators=25 ................\n",
      "[CV]  max_depth=10, max_features=sqrt, n_estimators=25, score=0.20720865217055084, total=   1.6s\n",
      "[CV] max_depth=10, max_features=sqrt, n_estimators=25 ................\n",
      "[CV]  max_depth=10, max_features=sqrt, n_estimators=25, score=0.2120710783603963, total=   2.1s\n",
      "[CV] max_depth=10, max_features=sqrt, n_estimators=25 ................\n",
      "[CV]  max_depth=10, max_features=sqrt, n_estimators=25, score=0.20739051956557342, total=   2.6s\n",
      "[CV] max_depth=10, max_features=sqrt, n_estimators=25 ................\n",
      "[CV]  max_depth=10, max_features=sqrt, n_estimators=25, score=0.20787205567143552, total=   2.1s\n",
      "[CV] max_depth=10, max_features=sqrt, n_estimators=50 ................\n",
      "[CV]  max_depth=10, max_features=sqrt, n_estimators=50, score=0.20995555378100672, total=   3.1s\n",
      "[CV] max_depth=10, max_features=sqrt, n_estimators=50 ................\n",
      "[CV]  max_depth=10, max_features=sqrt, n_estimators=50, score=0.20662410895700664, total=   3.5s\n",
      "[CV] max_depth=10, max_features=sqrt, n_estimators=50 ................\n",
      "[CV]  max_depth=10, max_features=sqrt, n_estimators=50, score=0.21022201427374212, total=   3.3s\n",
      "[CV] max_depth=10, max_features=sqrt, n_estimators=50 ................\n",
      "[CV]  max_depth=10, max_features=sqrt, n_estimators=50, score=0.20589775372091124, total=   3.0s\n",
      "[CV] max_depth=10, max_features=sqrt, n_estimators=50 ................\n",
      "[CV]  max_depth=10, max_features=sqrt, n_estimators=50, score=0.20771104498792003, total=   3.3s\n",
      "[CV] max_depth=10, max_features=log2, n_estimators=25 ................\n",
      "[CV]  max_depth=10, max_features=log2, n_estimators=25, score=0.1883330077126413, total=   2.2s\n",
      "[CV] max_depth=10, max_features=log2, n_estimators=25 ................\n",
      "[CV]  max_depth=10, max_features=log2, n_estimators=25, score=0.17743578292121087, total=   1.1s\n",
      "[CV] max_depth=10, max_features=log2, n_estimators=25 ................\n",
      "[CV]  max_depth=10, max_features=log2, n_estimators=25, score=0.19242895460238196, total=   1.0s\n",
      "[CV] max_depth=10, max_features=log2, n_estimators=25 ................\n",
      "[CV]  max_depth=10, max_features=log2, n_estimators=25, score=0.18367260610227146, total=   1.4s\n",
      "[CV] max_depth=10, max_features=log2, n_estimators=25 ................\n",
      "[CV]  max_depth=10, max_features=log2, n_estimators=25, score=0.18412875303624276, total=   1.5s\n",
      "[CV] max_depth=10, max_features=log2, n_estimators=50 ................\n",
      "[CV]  max_depth=10, max_features=log2, n_estimators=50, score=0.19076124017065288, total=   2.4s\n",
      "[CV] max_depth=10, max_features=log2, n_estimators=50 ................\n",
      "[CV]  max_depth=10, max_features=log2, n_estimators=50, score=0.18581283436789964, total=   2.3s\n",
      "[CV] max_depth=10, max_features=log2, n_estimators=50 ................\n",
      "[CV]  max_depth=10, max_features=log2, n_estimators=50, score=0.19277815480561378, total=   2.5s\n",
      "[CV] max_depth=10, max_features=log2, n_estimators=50 ................\n",
      "[CV]  max_depth=10, max_features=log2, n_estimators=50, score=0.1886980442726741, total=   2.0s\n",
      "[CV] max_depth=10, max_features=log2, n_estimators=50 ................\n",
      "[CV]  max_depth=10, max_features=log2, n_estimators=50, score=0.18544569628798158, total=   1.8s\n",
      "[CV] max_depth=5, max_features=auto, n_estimators=25 .................\n",
      "[CV]  max_depth=5, max_features=auto, n_estimators=25, score=0.18273724357165488, total=   2.8s\n",
      "[CV] max_depth=5, max_features=auto, n_estimators=25 .................\n",
      "[CV]  max_depth=5, max_features=auto, n_estimators=25, score=0.1855984460838648, total=   2.7s\n",
      "[CV] max_depth=5, max_features=auto, n_estimators=25 .................\n",
      "[CV]  max_depth=5, max_features=auto, n_estimators=25, score=0.1908824178757207, total=   2.7s\n",
      "[CV] max_depth=5, max_features=auto, n_estimators=25 .................\n",
      "[CV]  max_depth=5, max_features=auto, n_estimators=25, score=0.18185729384903637, total=   2.7s\n",
      "[CV] max_depth=5, max_features=auto, n_estimators=25 .................\n",
      "[CV]  max_depth=5, max_features=auto, n_estimators=25, score=0.1842689653581151, total=   2.8s\n",
      "[CV] max_depth=5, max_features=auto, n_estimators=50 .................\n",
      "[CV]  max_depth=5, max_features=auto, n_estimators=50, score=0.18349835797917258, total=   5.9s\n",
      "[CV] max_depth=5, max_features=auto, n_estimators=50 .................\n",
      "[CV]  max_depth=5, max_features=auto, n_estimators=50, score=0.18668762981545872, total=   6.9s\n",
      "[CV] max_depth=5, max_features=auto, n_estimators=50 .................\n",
      "[CV]  max_depth=5, max_features=auto, n_estimators=50, score=0.1912109986973715, total=   6.5s\n",
      "[CV] max_depth=5, max_features=auto, n_estimators=50 .................\n",
      "[CV]  max_depth=5, max_features=auto, n_estimators=50, score=0.18199637036770056, total=   7.2s\n",
      "[CV] max_depth=5, max_features=auto, n_estimators=50 .................\n",
      "[CV]  max_depth=5, max_features=auto, n_estimators=50, score=0.1846173688276728, total=   7.6s\n",
      "[CV] max_depth=5, max_features=sqrt, n_estimators=25 .................\n",
      "[CV]  max_depth=5, max_features=sqrt, n_estimators=25, score=0.13862558092391264, total=   1.0s\n",
      "[CV] max_depth=5, max_features=sqrt, n_estimators=25 .................\n",
      "[CV]  max_depth=5, max_features=sqrt, n_estimators=25, score=0.13518360894173664, total=   1.1s\n",
      "[CV] max_depth=5, max_features=sqrt, n_estimators=25 .................\n",
      "[CV]  max_depth=5, max_features=sqrt, n_estimators=25, score=0.13938373714867502, total=   1.2s\n",
      "[CV] max_depth=5, max_features=sqrt, n_estimators=25 .................\n",
      "[CV]  max_depth=5, max_features=sqrt, n_estimators=25, score=0.13212173738856647, total=   1.0s\n",
      "[CV] max_depth=5, max_features=sqrt, n_estimators=25 .................\n",
      "[CV]  max_depth=5, max_features=sqrt, n_estimators=25, score=0.1291867899870237, total=   1.2s\n",
      "[CV] max_depth=5, max_features=sqrt, n_estimators=50 .................\n",
      "[CV]  max_depth=5, max_features=sqrt, n_estimators=50, score=0.1381081194216881, total=   1.7s\n",
      "[CV] max_depth=5, max_features=sqrt, n_estimators=50 .................\n",
      "[CV]  max_depth=5, max_features=sqrt, n_estimators=50, score=0.13558590686889505, total=   2.1s\n",
      "[CV] max_depth=5, max_features=sqrt, n_estimators=50 .................\n",
      "[CV]  max_depth=5, max_features=sqrt, n_estimators=50, score=0.13976958851158783, total=   2.0s\n",
      "[CV] max_depth=5, max_features=sqrt, n_estimators=50 .................\n",
      "[CV]  max_depth=5, max_features=sqrt, n_estimators=50, score=0.136436405439738, total=   1.9s\n",
      "[CV] max_depth=5, max_features=sqrt, n_estimators=50 .................\n",
      "[CV]  max_depth=5, max_features=sqrt, n_estimators=50, score=0.13533384127271586, total=   1.4s\n",
      "[CV] max_depth=5, max_features=log2, n_estimators=25 .................\n",
      "[CV]  max_depth=5, max_features=log2, n_estimators=25, score=0.12104581930883018, total=   0.7s\n",
      "[CV] max_depth=5, max_features=log2, n_estimators=25 .................\n",
      "[CV]  max_depth=5, max_features=log2, n_estimators=25, score=0.13303788438762898, total=   0.8s\n",
      "[CV] max_depth=5, max_features=log2, n_estimators=25 .................\n"
     ]
    },
    {
     "name": "stdout",
     "output_type": "stream",
     "text": [
      "[CV]  max_depth=5, max_features=log2, n_estimators=25, score=0.11872371443483441, total=   0.8s\n",
      "[CV] max_depth=5, max_features=log2, n_estimators=25 .................\n",
      "[CV]  max_depth=5, max_features=log2, n_estimators=25, score=0.12697156089775252, total=   0.7s\n",
      "[CV] max_depth=5, max_features=log2, n_estimators=25 .................\n",
      "[CV]  max_depth=5, max_features=log2, n_estimators=25, score=0.11530975845094861, total=   0.8s\n",
      "[CV] max_depth=5, max_features=log2, n_estimators=50 .................\n",
      "[CV]  max_depth=5, max_features=log2, n_estimators=50, score=0.11391481652481918, total=   1.1s\n",
      "[CV] max_depth=5, max_features=log2, n_estimators=50 .................\n",
      "[CV]  max_depth=5, max_features=log2, n_estimators=50, score=0.1217861605707099, total=   1.1s\n",
      "[CV] max_depth=5, max_features=log2, n_estimators=50 .................\n",
      "[CV]  max_depth=5, max_features=log2, n_estimators=50, score=0.10720839987442965, total=   1.3s\n",
      "[CV] max_depth=5, max_features=log2, n_estimators=50 .................\n",
      "[CV]  max_depth=5, max_features=log2, n_estimators=50, score=0.10147456573311141, total=   1.2s\n",
      "[CV] max_depth=5, max_features=log2, n_estimators=50 .................\n",
      "[CV]  max_depth=5, max_features=log2, n_estimators=50, score=0.11328708852277604, total=   1.2s\n"
     ]
    },
    {
     "name": "stderr",
     "output_type": "stream",
     "text": [
      "[Parallel(n_jobs=1)]: Done  60 out of  60 | elapsed:  4.0min finished\n"
     ]
    },
    {
     "data": {
      "text/plain": [
       "GridSearchCV(cv=5, error_score='raise-deprecating',\n",
       "       estimator=RandomForestRegressor(bootstrap=True, criterion='mse', max_depth=None,\n",
       "           max_features='auto', max_leaf_nodes=None,\n",
       "           min_impurity_decrease=0.0, min_impurity_split=None,\n",
       "           min_samples_leaf=1, min_samples_split=2,\n",
       "           min_weight_fraction_leaf=0.0, n_estimators='warn', n_jobs=-1,\n",
       "           oob_score=False, random_state=None, verbose=0, warm_start=False),\n",
       "       fit_params=None, iid='warn', n_jobs=None,\n",
       "       param_grid={'n_estimators': [25, 50], 'max_features': ['auto', 'sqrt', 'log2'], 'max_depth': [10, 5]},\n",
       "       pre_dispatch='2*n_jobs', refit=True, return_train_score='warn',\n",
       "       scoring=None, verbose=3)"
      ]
     },
     "execution_count": 28,
     "metadata": {},
     "output_type": "execute_result"
    }
   ],
   "source": [
    "GS.fit(X_train, y_train)"
   ]
  },
  {
   "cell_type": "code",
   "execution_count": 29,
   "metadata": {},
   "outputs": [
    {
     "data": {
      "text/plain": [
       "{'max_depth': 10, 'max_features': 'auto', 'n_estimators': 50}"
      ]
     },
     "execution_count": 29,
     "metadata": {},
     "output_type": "execute_result"
    }
   ],
   "source": [
    "GS.best_params_"
   ]
  },
  {
   "cell_type": "code",
   "execution_count": 33,
   "metadata": {},
   "outputs": [
    {
     "data": {
      "text/plain": [
       "RandomForestRegressor(bootstrap=True, criterion='mse', max_depth=10,\n",
       "           max_features='auto', max_leaf_nodes=None,\n",
       "           min_impurity_decrease=0.0, min_impurity_split=None,\n",
       "           min_samples_leaf=1, min_samples_split=2,\n",
       "           min_weight_fraction_leaf=0.0, n_estimators=50, n_jobs=None,\n",
       "           oob_score=False, random_state=None, verbose=0, warm_start=False)"
      ]
     },
     "execution_count": 33,
     "metadata": {},
     "output_type": "execute_result"
    }
   ],
   "source": [
    "RFR = RandomForestRegressor(max_depth = 10, max_features='auto', n_estimators=50)\n",
    "RFR.fit(X_train, y_train)"
   ]
  },
  {
   "cell_type": "code",
   "execution_count": 34,
   "metadata": {},
   "outputs": [],
   "source": [
    "y_train_pred = RFR.predict(X_train)\n",
    "y_pred = RFR.predict(X_test)"
   ]
  },
  {
   "cell_type": "code",
   "execution_count": 35,
   "metadata": {},
   "outputs": [
    {
     "name": "stdout",
     "output_type": "stream",
     "text": [
      "TRAIN MODEL METRICS:\n",
      "The R2 score is: 0.2883138286286391\n",
      "The MAE score is: 12.236304888818326\n"
     ]
    }
   ],
   "source": [
    "r2 = r2_score(y_train, y_train_pred)\n",
    "mae = mean_absolute_error(y_train, y_train_pred)\n",
    "print ('TRAIN MODEL METRICS:')\n",
    "print('The R2 score is: ' + str(r2))\n",
    "print('The MAE score is: ' + str(mae))"
   ]
  },
  {
   "cell_type": "code",
   "execution_count": 22,
   "metadata": {},
   "outputs": [],
   "source": [
    "ks_rf = RandomForestRegressor(n_estimators=10).fit(X_train, y_train)"
   ]
  },
  {
   "cell_type": "code",
   "execution_count": 23,
   "metadata": {},
   "outputs": [
    {
     "ename": "ValueError",
     "evalue": "continuous is not supported",
     "output_type": "error",
     "traceback": [
      "\u001b[0;31m---------------------------------------------------------------------------\u001b[0m",
      "\u001b[0;31mValueError\u001b[0m                                Traceback (most recent call last)",
      "\u001b[0;32m<ipython-input-23-e4ba82527222>\u001b[0m in \u001b[0;36m<module>\u001b[0;34m\u001b[0m\n\u001b[1;32m      1\u001b[0m \u001b[0my_pred_test_rf\u001b[0m \u001b[0;34m=\u001b[0m \u001b[0mks_rf\u001b[0m\u001b[0;34m.\u001b[0m\u001b[0mpredict\u001b[0m\u001b[0;34m(\u001b[0m\u001b[0mX_test\u001b[0m\u001b[0;34m)\u001b[0m\u001b[0;34m\u001b[0m\u001b[0;34m\u001b[0m\u001b[0m\n\u001b[0;32m----> 2\u001b[0;31m \u001b[0mconfusion_matrix\u001b[0m\u001b[0;34m(\u001b[0m\u001b[0my_test\u001b[0m\u001b[0;34m,\u001b[0m \u001b[0my_pred_test_rf\u001b[0m\u001b[0;34m)\u001b[0m\u001b[0;34m\u001b[0m\u001b[0;34m\u001b[0m\u001b[0m\n\u001b[0m",
      "\u001b[0;32m/anaconda3/lib/python3.7/site-packages/sklearn/metrics/classification.py\u001b[0m in \u001b[0;36mconfusion_matrix\u001b[0;34m(y_true, y_pred, labels, sample_weight)\u001b[0m\n\u001b[1;32m    251\u001b[0m \u001b[0;34m\u001b[0m\u001b[0m\n\u001b[1;32m    252\u001b[0m     \"\"\"\n\u001b[0;32m--> 253\u001b[0;31m     \u001b[0my_type\u001b[0m\u001b[0;34m,\u001b[0m \u001b[0my_true\u001b[0m\u001b[0;34m,\u001b[0m \u001b[0my_pred\u001b[0m \u001b[0;34m=\u001b[0m \u001b[0m_check_targets\u001b[0m\u001b[0;34m(\u001b[0m\u001b[0my_true\u001b[0m\u001b[0;34m,\u001b[0m \u001b[0my_pred\u001b[0m\u001b[0;34m)\u001b[0m\u001b[0;34m\u001b[0m\u001b[0;34m\u001b[0m\u001b[0m\n\u001b[0m\u001b[1;32m    254\u001b[0m     \u001b[0;32mif\u001b[0m \u001b[0my_type\u001b[0m \u001b[0;32mnot\u001b[0m \u001b[0;32min\u001b[0m \u001b[0;34m(\u001b[0m\u001b[0;34m\"binary\"\u001b[0m\u001b[0;34m,\u001b[0m \u001b[0;34m\"multiclass\"\u001b[0m\u001b[0;34m)\u001b[0m\u001b[0;34m:\u001b[0m\u001b[0;34m\u001b[0m\u001b[0;34m\u001b[0m\u001b[0m\n\u001b[1;32m    255\u001b[0m         \u001b[0;32mraise\u001b[0m \u001b[0mValueError\u001b[0m\u001b[0;34m(\u001b[0m\u001b[0;34m\"%s is not supported\"\u001b[0m \u001b[0;34m%\u001b[0m \u001b[0my_type\u001b[0m\u001b[0;34m)\u001b[0m\u001b[0;34m\u001b[0m\u001b[0;34m\u001b[0m\u001b[0m\n",
      "\u001b[0;32m/anaconda3/lib/python3.7/site-packages/sklearn/metrics/classification.py\u001b[0m in \u001b[0;36m_check_targets\u001b[0;34m(y_true, y_pred)\u001b[0m\n\u001b[1;32m     86\u001b[0m     \u001b[0;31m# No metrics support \"multiclass-multioutput\" format\u001b[0m\u001b[0;34m\u001b[0m\u001b[0;34m\u001b[0m\u001b[0;34m\u001b[0m\u001b[0m\n\u001b[1;32m     87\u001b[0m     \u001b[0;32mif\u001b[0m \u001b[0;34m(\u001b[0m\u001b[0my_type\u001b[0m \u001b[0;32mnot\u001b[0m \u001b[0;32min\u001b[0m \u001b[0;34m[\u001b[0m\u001b[0;34m\"binary\"\u001b[0m\u001b[0;34m,\u001b[0m \u001b[0;34m\"multiclass\"\u001b[0m\u001b[0;34m,\u001b[0m \u001b[0;34m\"multilabel-indicator\"\u001b[0m\u001b[0;34m]\u001b[0m\u001b[0;34m)\u001b[0m\u001b[0;34m:\u001b[0m\u001b[0;34m\u001b[0m\u001b[0;34m\u001b[0m\u001b[0m\n\u001b[0;32m---> 88\u001b[0;31m         \u001b[0;32mraise\u001b[0m \u001b[0mValueError\u001b[0m\u001b[0;34m(\u001b[0m\u001b[0;34m\"{0} is not supported\"\u001b[0m\u001b[0;34m.\u001b[0m\u001b[0mformat\u001b[0m\u001b[0;34m(\u001b[0m\u001b[0my_type\u001b[0m\u001b[0;34m)\u001b[0m\u001b[0;34m)\u001b[0m\u001b[0;34m\u001b[0m\u001b[0;34m\u001b[0m\u001b[0m\n\u001b[0m\u001b[1;32m     89\u001b[0m \u001b[0;34m\u001b[0m\u001b[0m\n\u001b[1;32m     90\u001b[0m     \u001b[0;32mif\u001b[0m \u001b[0my_type\u001b[0m \u001b[0;32min\u001b[0m \u001b[0;34m[\u001b[0m\u001b[0;34m\"binary\"\u001b[0m\u001b[0;34m,\u001b[0m \u001b[0;34m\"multiclass\"\u001b[0m\u001b[0;34m]\u001b[0m\u001b[0;34m:\u001b[0m\u001b[0;34m\u001b[0m\u001b[0;34m\u001b[0m\u001b[0m\n",
      "\u001b[0;31mValueError\u001b[0m: continuous is not supported"
     ]
    }
   ],
   "source": [
    "y_pred_test_rf = ks_rf.predict(X_test)\n",
    "confusion_matrix(y_test, y_pred_test_rf)"
   ]
  },
  {
   "cell_type": "code",
   "execution_count": null,
   "metadata": {},
   "outputs": [],
   "source": []
  }
 ],
 "metadata": {
  "kernelspec": {
   "display_name": "Python 3",
   "language": "python",
   "name": "python3"
  },
  "language_info": {
   "codemirror_mode": {
    "name": "ipython",
    "version": 3
   },
   "file_extension": ".py",
   "mimetype": "text/x-python",
   "name": "python",
   "nbconvert_exporter": "python",
   "pygments_lexer": "ipython3",
   "version": "3.7.3"
  }
 },
 "nbformat": 4,
 "nbformat_minor": 2
}
