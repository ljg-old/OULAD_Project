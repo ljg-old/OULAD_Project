{
 "cells": [
  {
   "cell_type": "markdown",
   "metadata": {},
   "source": [
    "# Import libraries"
   ]
  },
  {
   "cell_type": "code",
   "execution_count": 104,
   "metadata": {},
   "outputs": [],
   "source": [
    "import pandas as pd\n",
    "import numpy as np\n",
    "from sklearn.ensemble import RandomForestRegressor\n",
    "from sklearn.metrics import r2_score\n",
    "from sklearn.metrics import mean_absolute_error\n",
    "from sklearn.model_selection import train_test_split\n",
    "from sklearn.model_selection import GridSearchCV\n",
    "import matplotlib.pyplot as plt\n",
    "\n",
    "%matplotlib inline"
   ]
  },
  {
   "cell_type": "markdown",
   "metadata": {},
   "source": [
    "# Read csv"
   ]
  },
  {
   "cell_type": "code",
   "execution_count": 77,
   "metadata": {},
   "outputs": [],
   "source": [
    "data = pd.read_csv('Data/ml.csv')"
   ]
  },
  {
   "cell_type": "code",
   "execution_count": 78,
   "metadata": {},
   "outputs": [
    {
     "data": {
      "text/plain": [
       "Index(['id_assessment', 'id_student', 'date_submitted', 'is_banked', 'score',\n",
       "       'code_module', 'code_presentation', 'gender', 'region',\n",
       "       'highest_education', 'imd_band', 'age_band', 'num_of_prev_attempts',\n",
       "       'studied_credits', 'disability', 'final_result',\n",
       "       'module_presentation_length'],\n",
       "      dtype='object')"
      ]
     },
     "execution_count": 78,
     "metadata": {},
     "output_type": "execute_result"
    }
   ],
   "source": [
    "data.columns"
   ]
  },
  {
   "cell_type": "code",
   "execution_count": 79,
   "metadata": {},
   "outputs": [
    {
     "data": {
      "text/plain": [
       "(207156, 17)"
      ]
     },
     "execution_count": 79,
     "metadata": {},
     "output_type": "execute_result"
    }
   ],
   "source": [
    "data.shape"
   ]
  },
  {
   "cell_type": "code",
   "execution_count": 80,
   "metadata": {},
   "outputs": [],
   "source": [
    "data['id_assessment'] = data['id_assessment'].apply(str)\n",
    "data['id_student'] = data['id_student'].apply(str)\n",
    "data['is_banked'] = data['is_banked'].apply(str)\n",
    "data['code_module'] = data['code_module'].apply(str)\n",
    "data['code_presentation'] = data['code_presentation'].apply(str)"
   ]
  },
  {
   "cell_type": "code",
   "execution_count": 81,
   "metadata": {},
   "outputs": [],
   "source": [
    "data_ml = data[['date_submitted', 'is_banked', 'score',\n",
    "       'code_module', 'code_presentation', 'gender', 'region',\n",
    "       'highest_education', 'imd_band', 'age_band', 'num_of_prev_attempts',\n",
    "       'studied_credits', 'disability', 'final_result',\n",
    "       'module_presentation_length']]"
   ]
  },
  {
   "cell_type": "code",
   "execution_count": 82,
   "metadata": {},
   "outputs": [],
   "source": [
    "\n",
    "to_dummies = ['is_banked','code_module', 'code_presentation', 'gender', 'region',\n",
    "       'highest_education', 'imd_band', 'age_band', 'disability', 'final_result',]\n",
    "\n",
    "data_ml = pd.get_dummies(data_ml, columns=to_dummies)"
   ]
  },
  {
   "cell_type": "code",
   "execution_count": 83,
   "metadata": {},
   "outputs": [
    {
     "data": {
      "text/plain": [
       "Index(['date_submitted', 'score', 'num_of_prev_attempts', 'studied_credits',\n",
       "       'module_presentation_length', 'is_banked_0', 'is_banked_1',\n",
       "       'code_module_AAA', 'code_module_BBB', 'code_module_CCC',\n",
       "       'code_module_DDD', 'code_module_EEE', 'code_module_FFF',\n",
       "       'code_module_GGG', 'code_presentation_2013B', 'code_presentation_2013J',\n",
       "       'code_presentation_2014B', 'code_presentation_2014J', 'gender_F',\n",
       "       'gender_M', 'region_East Anglian Region', 'region_East Midlands Region',\n",
       "       'region_Ireland', 'region_London Region', 'region_North Region',\n",
       "       'region_North Western Region', 'region_Scotland',\n",
       "       'region_South East Region', 'region_South Region',\n",
       "       'region_South West Region', 'region_Wales',\n",
       "       'region_West Midlands Region', 'region_Yorkshire Region',\n",
       "       'highest_education_A Level or Equivalent',\n",
       "       'highest_education_HE Qualification',\n",
       "       'highest_education_Lower Than A Level',\n",
       "       'highest_education_No Formal quals',\n",
       "       'highest_education_Post Graduate Qualification', 'imd_band_0-10%',\n",
       "       'imd_band_10-20', 'imd_band_20-30%', 'imd_band_30-40%',\n",
       "       'imd_band_40-50%', 'imd_band_50-60%', 'imd_band_60-70%',\n",
       "       'imd_band_70-80%', 'imd_band_80-90%', 'imd_band_90-100%', 'imd_band_?',\n",
       "       'age_band_0-35', 'age_band_35-55', 'age_band_55<=', 'disability_N',\n",
       "       'disability_Y', 'final_result_Distinction', 'final_result_Fail',\n",
       "       'final_result_Pass', 'final_result_Withdrawn'],\n",
       "      dtype='object')"
      ]
     },
     "execution_count": 83,
     "metadata": {},
     "output_type": "execute_result"
    }
   ],
   "source": [
    "data_ml.columns"
   ]
  },
  {
   "cell_type": "code",
   "execution_count": 84,
   "metadata": {},
   "outputs": [],
   "source": [
    "data_data = data_ml[['date_submitted', 'num_of_prev_attempts', 'studied_credits',\n",
    "       'module_presentation_length', 'is_banked_0', 'is_banked_1',\n",
    "       'code_module_AAA', 'code_module_BBB', 'code_module_CCC',\n",
    "       'code_module_DDD', 'code_module_EEE', 'code_module_FFF',\n",
    "       'code_module_GGG', 'code_presentation_2013B', 'code_presentation_2013J',\n",
    "       'code_presentation_2014B', 'code_presentation_2014J', 'gender_F',\n",
    "       'gender_M', 'region_East Anglian Region', 'region_East Midlands Region',\n",
    "       'region_Ireland', 'region_London Region', 'region_North Region',\n",
    "       'region_North Western Region', 'region_Scotland',\n",
    "       'region_South East Region', 'region_South Region',\n",
    "       'region_South West Region', 'region_Wales',\n",
    "       'region_West Midlands Region', 'region_Yorkshire Region',\n",
    "       'highest_education_A Level or Equivalent',\n",
    "       'highest_education_HE Qualification',\n",
    "       'highest_education_Lower Than A Level',\n",
    "       'highest_education_No Formal quals',\n",
    "       'highest_education_Post Graduate Qualification', 'imd_band_0-10%',\n",
    "       'imd_band_10-20', 'imd_band_20-30%', 'imd_band_30-40%',\n",
    "       'imd_band_40-50%', 'imd_band_50-60%', 'imd_band_60-70%',\n",
    "       'imd_band_70-80%', 'imd_band_80-90%', 'imd_band_90-100%', 'imd_band_?',\n",
    "       'age_band_0-35', 'age_band_35-55', 'age_band_55<=', 'disability_N',\n",
    "       'disability_Y', 'final_result_Distinction', 'final_result_Fail',\n",
    "       'final_result_Pass', 'final_result_Withdrawn']]\n",
    "\n",
    "data_target = data_ml[\"score\"]"
   ]
  },
  {
   "cell_type": "code",
   "execution_count": 85,
   "metadata": {},
   "outputs": [],
   "source": [
    "from sklearn.model_selection import train_test_split\n",
    "\n",
    "X_train, X_test, y_train, y_test=train_test_split(data_data, data_target, test_size=0.2, random_state=42)"
   ]
  },
  {
   "cell_type": "code",
   "execution_count": 91,
   "metadata": {},
   "outputs": [],
   "source": [
    "#Grid search for parameter selection for a Random Forest Regressor model\n",
    "param_grid = {\n",
    "    'n_estimators': [100, 1000],\n",
    "    'max_features': ['auto','sqrt','log2'],\n",
    "    'max_depth': [25, 15]\n",
    "}"
   ]
  },
  {
   "cell_type": "code",
   "execution_count": 92,
   "metadata": {},
   "outputs": [],
   "source": [
    "RFR = RandomForestRegressor(n_jobs=-1)\n",
    "GS = GridSearchCV(RFR, param_grid, cv=5, verbose = 3)"
   ]
  },
  {
   "cell_type": "code",
   "execution_count": 93,
   "metadata": {},
   "outputs": [
    {
     "name": "stdout",
     "output_type": "stream",
     "text": [
      "Fitting 5 folds for each of 12 candidates, totalling 60 fits\n",
      "[CV] max_depth=25, max_features=auto, n_estimators=100 ...............\n"
     ]
    },
    {
     "name": "stderr",
     "output_type": "stream",
     "text": [
      "[Parallel(n_jobs=1)]: Using backend SequentialBackend with 1 concurrent workers.\n"
     ]
    },
    {
     "name": "stdout",
     "output_type": "stream",
     "text": [
      "[CV]  max_depth=25, max_features=auto, n_estimators=100, score=0.2960843453713894, total=  37.9s\n",
      "[CV] max_depth=25, max_features=auto, n_estimators=100 ...............\n"
     ]
    },
    {
     "name": "stderr",
     "output_type": "stream",
     "text": [
      "[Parallel(n_jobs=1)]: Done   1 out of   1 | elapsed:   39.4s remaining:    0.0s\n"
     ]
    },
    {
     "name": "stdout",
     "output_type": "stream",
     "text": [
      "[CV]  max_depth=25, max_features=auto, n_estimators=100, score=0.2850698063254187, total=  35.6s\n",
      "[CV] max_depth=25, max_features=auto, n_estimators=100 ...............\n"
     ]
    },
    {
     "name": "stderr",
     "output_type": "stream",
     "text": [
      "[Parallel(n_jobs=1)]: Done   2 out of   2 | elapsed:  1.3min remaining:    0.0s\n"
     ]
    },
    {
     "name": "stdout",
     "output_type": "stream",
     "text": [
      "[CV]  max_depth=25, max_features=auto, n_estimators=100, score=0.3020120099308711, total=  38.9s\n",
      "[CV] max_depth=25, max_features=auto, n_estimators=100 ...............\n",
      "[CV]  max_depth=25, max_features=auto, n_estimators=100, score=0.29611779540774785, total=  40.5s\n",
      "[CV] max_depth=25, max_features=auto, n_estimators=100 ...............\n",
      "[CV]  max_depth=25, max_features=auto, n_estimators=100, score=0.2984814032949509, total=  35.9s\n",
      "[CV] max_depth=25, max_features=auto, n_estimators=1000 ..............\n",
      "[CV]  max_depth=25, max_features=auto, n_estimators=1000, score=0.3012752057035273, total= 6.2min\n",
      "[CV] max_depth=25, max_features=auto, n_estimators=1000 ..............\n",
      "[CV]  max_depth=25, max_features=auto, n_estimators=1000, score=0.28932241711123363, total= 6.0min\n",
      "[CV] max_depth=25, max_features=auto, n_estimators=1000 ..............\n",
      "[CV]  max_depth=25, max_features=auto, n_estimators=1000, score=0.3068777959011144, total= 6.2min\n",
      "[CV] max_depth=25, max_features=auto, n_estimators=1000 ..............\n",
      "[CV]  max_depth=25, max_features=auto, n_estimators=1000, score=0.30262494293595665, total= 6.2min\n",
      "[CV] max_depth=25, max_features=auto, n_estimators=1000 ..............\n",
      "[CV]  max_depth=25, max_features=auto, n_estimators=1000, score=0.30428677008136684, total= 6.2min\n",
      "[CV] max_depth=25, max_features=sqrt, n_estimators=100 ...............\n",
      "[CV]  max_depth=25, max_features=sqrt, n_estimators=100, score=0.31732991101948516, total=  11.1s\n",
      "[CV] max_depth=25, max_features=sqrt, n_estimators=100 ...............\n",
      "[CV]  max_depth=25, max_features=sqrt, n_estimators=100, score=0.309074714571523, total=  10.5s\n",
      "[CV] max_depth=25, max_features=sqrt, n_estimators=100 ...............\n",
      "[CV]  max_depth=25, max_features=sqrt, n_estimators=100, score=0.32466216701584494, total=  10.4s\n",
      "[CV] max_depth=25, max_features=sqrt, n_estimators=100 ...............\n",
      "[CV]  max_depth=25, max_features=sqrt, n_estimators=100, score=0.31939570203066825, total=  10.1s\n",
      "[CV] max_depth=25, max_features=sqrt, n_estimators=100 ...............\n",
      "[CV]  max_depth=25, max_features=sqrt, n_estimators=100, score=0.3242378765441988, total=  10.2s\n",
      "[CV] max_depth=25, max_features=sqrt, n_estimators=1000 ..............\n",
      "[CV]  max_depth=25, max_features=sqrt, n_estimators=1000, score=0.3191081707967357, total= 1.8min\n",
      "[CV] max_depth=25, max_features=sqrt, n_estimators=1000 ..............\n",
      "[CV]  max_depth=25, max_features=sqrt, n_estimators=1000, score=0.3100726915274651, total= 1.8min\n",
      "[CV] max_depth=25, max_features=sqrt, n_estimators=1000 ..............\n",
      "[CV]  max_depth=25, max_features=sqrt, n_estimators=1000, score=0.32840780663900493, total= 1.8min\n",
      "[CV] max_depth=25, max_features=sqrt, n_estimators=1000 ..............\n",
      "[CV]  max_depth=25, max_features=sqrt, n_estimators=1000, score=0.32368121924972715, total= 1.8min\n",
      "[CV] max_depth=25, max_features=sqrt, n_estimators=1000 ..............\n",
      "[CV]  max_depth=25, max_features=sqrt, n_estimators=1000, score=0.32898893969289, total= 1.9min\n",
      "[CV] max_depth=25, max_features=log2, n_estimators=100 ...............\n",
      "[CV]  max_depth=25, max_features=log2, n_estimators=100, score=0.30785576344554677, total=   9.6s\n",
      "[CV] max_depth=25, max_features=log2, n_estimators=100 ...............\n",
      "[CV]  max_depth=25, max_features=log2, n_estimators=100, score=0.29888201563323247, total=   9.4s\n",
      "[CV] max_depth=25, max_features=log2, n_estimators=100 ...............\n",
      "[CV]  max_depth=25, max_features=log2, n_estimators=100, score=0.31857303401127157, total=   9.7s\n",
      "[CV] max_depth=25, max_features=log2, n_estimators=100 ...............\n",
      "[CV]  max_depth=25, max_features=log2, n_estimators=100, score=0.3121188628136138, total=   9.4s\n",
      "[CV] max_depth=25, max_features=log2, n_estimators=100 ...............\n",
      "[CV]  max_depth=25, max_features=log2, n_estimators=100, score=0.3170356667950497, total=   9.6s\n",
      "[CV] max_depth=25, max_features=log2, n_estimators=1000 ..............\n",
      "[CV]  max_depth=25, max_features=log2, n_estimators=1000, score=0.3107358723496506, total= 1.8min\n",
      "[CV] max_depth=25, max_features=log2, n_estimators=1000 ..............\n",
      "[CV]  max_depth=25, max_features=log2, n_estimators=1000, score=0.3028534399064484, total= 1.6min\n",
      "[CV] max_depth=25, max_features=log2, n_estimators=1000 ..............\n",
      "[CV]  max_depth=25, max_features=log2, n_estimators=1000, score=0.3218403954474276, total= 1.6min\n",
      "[CV] max_depth=25, max_features=log2, n_estimators=1000 ..............\n",
      "[CV]  max_depth=25, max_features=log2, n_estimators=1000, score=0.3157740437258484, total= 1.6min\n",
      "[CV] max_depth=25, max_features=log2, n_estimators=1000 ..............\n",
      "[CV]  max_depth=25, max_features=log2, n_estimators=1000, score=0.32028081120096197, total= 1.7min\n",
      "[CV] max_depth=15, max_features=auto, n_estimators=100 ...............\n",
      "[CV]  max_depth=15, max_features=auto, n_estimators=100, score=0.2989952313405905, total=  26.9s\n",
      "[CV] max_depth=15, max_features=auto, n_estimators=100 ...............\n",
      "[CV]  max_depth=15, max_features=auto, n_estimators=100, score=0.29128237135155555, total=  27.7s\n",
      "[CV] max_depth=15, max_features=auto, n_estimators=100 ...............\n",
      "[CV]  max_depth=15, max_features=auto, n_estimators=100, score=0.3058161778699342, total=  26.4s\n",
      "[CV] max_depth=15, max_features=auto, n_estimators=100 ...............\n",
      "[CV]  max_depth=15, max_features=auto, n_estimators=100, score=0.3012729524968475, total=  26.6s\n",
      "[CV] max_depth=15, max_features=auto, n_estimators=100 ...............\n",
      "[CV]  max_depth=15, max_features=auto, n_estimators=100, score=0.301605220061382, total=  25.9s\n",
      "[CV] max_depth=15, max_features=auto, n_estimators=1000 ..............\n",
      "[CV]  max_depth=15, max_features=auto, n_estimators=1000, score=0.3011632831695207, total= 4.4min\n",
      "[CV] max_depth=15, max_features=auto, n_estimators=1000 ..............\n",
      "[CV]  max_depth=15, max_features=auto, n_estimators=1000, score=0.29282123592427123, total= 4.3min\n",
      "[CV] max_depth=15, max_features=auto, n_estimators=1000 ..............\n",
      "[CV]  max_depth=15, max_features=auto, n_estimators=1000, score=0.3084670728332517, total= 4.3min\n",
      "[CV] max_depth=15, max_features=auto, n_estimators=1000 ..............\n",
      "[CV]  max_depth=15, max_features=auto, n_estimators=1000, score=0.3037698767399406, total= 4.3min\n",
      "[CV] max_depth=15, max_features=auto, n_estimators=1000 ..............\n",
      "[CV]  max_depth=15, max_features=auto, n_estimators=1000, score=0.30381456141401386, total= 4.3min\n",
      "[CV] max_depth=15, max_features=sqrt, n_estimators=100 ...............\n",
      "[CV]  max_depth=15, max_features=sqrt, n_estimators=100, score=0.2718122662847611, total=   5.9s\n",
      "[CV] max_depth=15, max_features=sqrt, n_estimators=100 ...............\n",
      "[CV]  max_depth=15, max_features=sqrt, n_estimators=100, score=0.26556851693230255, total=   5.9s\n",
      "[CV] max_depth=15, max_features=sqrt, n_estimators=100 ...............\n",
      "[CV]  max_depth=15, max_features=sqrt, n_estimators=100, score=0.2804155003695291, total=   6.3s\n",
      "[CV] max_depth=15, max_features=sqrt, n_estimators=100 ...............\n",
      "[CV]  max_depth=15, max_features=sqrt, n_estimators=100, score=0.2734003800704724, total=   6.2s\n",
      "[CV] max_depth=15, max_features=sqrt, n_estimators=100 ...............\n",
      "[CV]  max_depth=15, max_features=sqrt, n_estimators=100, score=0.27980403488718053, total=   5.8s\n",
      "[CV] max_depth=15, max_features=sqrt, n_estimators=1000 ..............\n",
      "[CV]  max_depth=15, max_features=sqrt, n_estimators=1000, score=0.2727831360474571, total=  58.6s\n",
      "[CV] max_depth=15, max_features=sqrt, n_estimators=1000 ..............\n",
      "[CV]  max_depth=15, max_features=sqrt, n_estimators=1000, score=0.26631438789131145, total=  58.4s\n",
      "[CV] max_depth=15, max_features=sqrt, n_estimators=1000 ..............\n",
      "[CV]  max_depth=15, max_features=sqrt, n_estimators=1000, score=0.27994991299947847, total=  58.6s\n",
      "[CV] max_depth=15, max_features=sqrt, n_estimators=1000 ..............\n",
      "[CV]  max_depth=15, max_features=sqrt, n_estimators=1000, score=0.2750695753359991, total=  59.0s\n",
      "[CV] max_depth=15, max_features=sqrt, n_estimators=1000 ..............\n",
      "[CV]  max_depth=15, max_features=sqrt, n_estimators=1000, score=0.2791160274866943, total=  58.1s\n",
      "[CV] max_depth=15, max_features=log2, n_estimators=100 ...............\n",
      "[CV]  max_depth=15, max_features=log2, n_estimators=100, score=0.25484869059583326, total=   5.2s\n",
      "[CV] max_depth=15, max_features=log2, n_estimators=100 ...............\n"
     ]
    },
    {
     "name": "stdout",
     "output_type": "stream",
     "text": [
      "[CV]  max_depth=15, max_features=log2, n_estimators=100, score=0.2523754756954212, total=   5.2s\n",
      "[CV] max_depth=15, max_features=log2, n_estimators=100 ...............\n",
      "[CV]  max_depth=15, max_features=log2, n_estimators=100, score=0.26327021943613094, total=   5.1s\n",
      "[CV] max_depth=15, max_features=log2, n_estimators=100 ...............\n",
      "[CV]  max_depth=15, max_features=log2, n_estimators=100, score=0.2593187450985064, total=   5.1s\n",
      "[CV] max_depth=15, max_features=log2, n_estimators=100 ...............\n",
      "[CV]  max_depth=15, max_features=log2, n_estimators=100, score=0.2607105363668032, total=   5.3s\n",
      "[CV] max_depth=15, max_features=log2, n_estimators=1000 ..............\n",
      "[CV]  max_depth=15, max_features=log2, n_estimators=1000, score=0.25703428960422536, total=  50.5s\n",
      "[CV] max_depth=15, max_features=log2, n_estimators=1000 ..............\n",
      "[CV]  max_depth=15, max_features=log2, n_estimators=1000, score=0.2513806806855464, total=  44.9s\n",
      "[CV] max_depth=15, max_features=log2, n_estimators=1000 ..............\n",
      "[CV]  max_depth=15, max_features=log2, n_estimators=1000, score=0.26392019747957285, total=  49.5s\n",
      "[CV] max_depth=15, max_features=log2, n_estimators=1000 ..............\n",
      "[CV]  max_depth=15, max_features=log2, n_estimators=1000, score=0.2595175074674144, total=  44.6s\n",
      "[CV] max_depth=15, max_features=log2, n_estimators=1000 ..............\n",
      "[CV]  max_depth=15, max_features=log2, n_estimators=1000, score=0.2639519381676031, total=  49.1s\n"
     ]
    },
    {
     "name": "stderr",
     "output_type": "stream",
     "text": [
      "[Parallel(n_jobs=1)]: Done  60 out of  60 | elapsed: 93.7min finished\n"
     ]
    },
    {
     "data": {
      "text/plain": [
       "GridSearchCV(cv=5, error_score='raise-deprecating',\n",
       "       estimator=RandomForestRegressor(bootstrap=True, criterion='mse', max_depth=None,\n",
       "           max_features='auto', max_leaf_nodes=None,\n",
       "           min_impurity_decrease=0.0, min_impurity_split=None,\n",
       "           min_samples_leaf=1, min_samples_split=2,\n",
       "           min_weight_fraction_leaf=0.0, n_estimators='warn', n_jobs=-1,\n",
       "           oob_score=False, random_state=None, verbose=0, warm_start=False),\n",
       "       fit_params=None, iid='warn', n_jobs=None,\n",
       "       param_grid={'n_estimators': [100, 1000], 'max_features': ['auto', 'sqrt', 'log2'], 'max_depth': [25, 15]},\n",
       "       pre_dispatch='2*n_jobs', refit=True, return_train_score='warn',\n",
       "       scoring=None, verbose=3)"
      ]
     },
     "execution_count": 93,
     "metadata": {},
     "output_type": "execute_result"
    }
   ],
   "source": [
    "GS.fit(X_train, y_train)"
   ]
  },
  {
   "cell_type": "code",
   "execution_count": 94,
   "metadata": {},
   "outputs": [
    {
     "data": {
      "text/plain": [
       "{'max_depth': 25, 'max_features': 'sqrt', 'n_estimators': 1000}"
      ]
     },
     "execution_count": 94,
     "metadata": {},
     "output_type": "execute_result"
    }
   ],
   "source": [
    "GS.best_params_"
   ]
  },
  {
   "cell_type": "code",
   "execution_count": 99,
   "metadata": {},
   "outputs": [
    {
     "data": {
      "text/plain": [
       "RandomForestRegressor(bootstrap=True, criterion='mse', max_depth=25,\n",
       "           max_features='auto', max_leaf_nodes=None,\n",
       "           min_impurity_decrease=0.0, min_impurity_split=None,\n",
       "           min_samples_leaf=1, min_samples_split=2,\n",
       "           min_weight_fraction_leaf=0.0, n_estimators=1000, n_jobs=None,\n",
       "           oob_score=False, random_state=None, verbose=0, warm_start=False)"
      ]
     },
     "execution_count": 99,
     "metadata": {},
     "output_type": "execute_result"
    }
   ],
   "source": [
    "RFR = RandomForestRegressor(max_depth = 25, max_features='auto', n_estimators=1000)\n",
    "RFR.fit(X_train, y_train)"
   ]
  },
  {
   "cell_type": "code",
   "execution_count": 100,
   "metadata": {},
   "outputs": [],
   "source": [
    "y_train_pred = RFR.predict(X_train)\n",
    "y_pred = RFR.predict(X_test)"
   ]
  },
  {
   "cell_type": "code",
   "execution_count": 108,
   "metadata": {},
   "outputs": [
    {
     "name": "stdout",
     "output_type": "stream",
     "text": [
      "TRAIN MODEL METRICS:\n",
      "The R2 score is: 0.7841870588210568\n",
      "The MAE score is: 6.663394951117984\n"
     ]
    },
    {
     "data": {
      "image/png": "[encoded data removed]",
      "text/plain": [
       "<Figure size 432x288 with 1 Axes>"
      ]
     },
     "metadata": {
      "needs_background": "light"
     },
     "output_type": "display_data"
    }
   ],
   "source": [
    "r2 = r2_score(y_train, y_train_pred)\n",
    "mae = mean_absolute_error(y_train, y_train_pred)\n",
    "print ('TRAIN MODEL METRICS:')\n",
    "print('The R2 score is: ' + str(r2))\n",
    "print('The MAE score is: ' + str(mae))\n",
    "\n",
    "plt.scatter(y_train, y_train_pred)\n",
    "plt.plot([0,100], [0,100], color='red')\n",
    "plt.show()"
   ]
  },
  {
   "cell_type": "code",
   "execution_count": 109,
   "metadata": {},
   "outputs": [
    {
     "name": "stdout",
     "output_type": "stream",
     "text": [
      "TEST MODEL METRICS:\n",
      "The R2 score is: 0.30370270171685687\n",
      "The MAE score is: 11.66946163971459\n"
     ]
    },
    {
     "data": {
      "image/png": "[encoded data removed]",
      "text/plain": [
       "<Figure size 432x288 with 1 Axes>"
      ]
     },
     "metadata": {
      "needs_background": "light"
     },
     "output_type": "display_data"
    }
   ],
   "source": [
    "r2 = r2_score(y_test, y_pred)\n",
    "mae = mean_absolute_error(y_test, y_pred)\n",
    "print ('TEST MODEL METRICS:')\n",
    "print('The R2 score is: ' + str(r2))\n",
    "print('The MAE score is: ' + str(mae))\n",
    "\n",
    "plt.scatter(y_test, y_pred)\n",
    "plt.plot([0,100], [0,100], color='red')\n",
    "plt.show()"
   ]
  }
 ],
 "metadata": {
  "kernelspec": {
   "display_name": "Python 3",
   "language": "python",
   "name": "python3"
  },
  "language_info": {
   "codemirror_mode": {
    "name": "ipython",
    "version": 3
   },
   "file_extension": ".py",
   "mimetype": "text/x-python",
   "name": "python",
   "nbconvert_exporter": "python",
   "pygments_lexer": "ipython3",
   "version": "3.7.3"
  }
 },
 "nbformat": 4,
 "nbformat_minor": 2
}
